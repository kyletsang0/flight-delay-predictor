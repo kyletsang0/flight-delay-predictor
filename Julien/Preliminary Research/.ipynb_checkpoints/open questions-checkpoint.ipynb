{
 "cells": [
  {
   "cell_type": "markdown",
   "metadata": {},
   "source": [
    "Questions : \n",
    "    \n",
    "Flights table\n",
    "2018 and 2019\n",
    "\n",
    "- How many airports\n",
    "- hor many airlines\n",
    "- How many flights\n",
    "-- Only domestic flights ? \n",
    "\n",
    "--time frame of the data\n",
    "\n",
    "- Delay : departure delay or arrival delay ?\n",
    "    \n",
    "\n",
    "   \n",
    "Delay causes : \n",
    "- Weather\n",
    "- \n",
    "\n",
    "\n",
    "    \n",
    "Passenger table\n",
    "2015-2019 \n",
    "-  Passenger per carrier route per month. \n",
    "=== Where is the route number!\n",
    "\n",
    "\n",
    " \n",
    "Fuel consumption table : \n",
    "    2015-2019\n",
    "- Rows are total per month per carrier. \n",
    "\n",
    "\n",
    "technical questions : \n",
    "- Fill na ?\n",
    "- Conversion to datetime ?\n",
    "- Convert miles to kilometers ?\n",
    "\n",
    "\n",
    "\n",
    "\n",
    "\n"
   ]
  }
 ],
 "metadata": {
  "kernelspec": {
   "display_name": "Python 3",
   "language": "python",
   "name": "python3"
  },
  "language_info": {
   "codemirror_mode": {
    "name": "ipython",
    "version": 3
   },
   "file_extension": ".py",
   "mimetype": "text/x-python",
   "name": "python",
   "nbconvert_exporter": "python",
   "pygments_lexer": "ipython3",
   "version": "3.8.2"
  }
 },
 "nbformat": 4,
 "nbformat_minor": 4
}
