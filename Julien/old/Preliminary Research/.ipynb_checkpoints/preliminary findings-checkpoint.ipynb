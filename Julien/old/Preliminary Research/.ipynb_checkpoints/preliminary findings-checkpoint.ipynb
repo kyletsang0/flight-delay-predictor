{
 "cells": [
  {
   "cell_type": "code",
   "execution_count": null,
   "metadata": {},
   "outputs": [],
   "source": []
  },
  {
   "cell_type": "markdown",
   "metadata": {},
   "source": [
    "Information about the data base : \n",
    "\n",
    "\n",
    "FLIGHTS (2018 and 2019)\n",
    "- 11 unique carriers(AA,DL,UA,WN,AS,B6,NK,F9,G4,HA,VX) (len(df.mkt_unique_carrier.value_counts()))\n",
    "- 376 airports (len(df.dest.value_counts()))\n",
    "- 53 states (AK,AL,AR,AZ,CA,CO,CT,DC,FL,GA,HI,IA,ID,IL,IN,KS,KY,LA,MA,MD,ME,MI,MN,MO,MS,MT,NC,ND,NE,NH,NJ,NM,NV,NY,OH,OK,OR,PA,PR,RI,SC,SD,TN,TT,TX,UT,VA,VI,VT,WA,WI,WV,WY)\n",
    "\n",
    "\n",
    "- 1.7 % of flights are canceled (269208/15927485) ( df.loc[df.canceled == 0] )\n",
    "- 19% of flights ave delays (5475609/15927485)  ( df.loc[df.arr_delay > 0] )\n",
    "\n",
    "- Delay breakdown by carrier, weather, nas, security, late_aircraft sums up to arrival delay.\n",
    "\n",
    "\n",
    "\n",
    "PASSENGER (2015-2019)\n",
    "- Total passenger per carrier route per month. \n",
    "- no clear link with flights number in Flights ?\n",
    "\n",
    "\n",
    "FUEL(2015-2019)\n",
    "- Rows are total per month per carrier. \n",
    "\n",
    "sa\n",
    "\n",
    "\n",
    "\n",
    "\n"
   ]
  },
  {
   "cell_type": "code",
   "execution_count": null,
   "metadata": {},
   "outputs": [],
   "source": []
  }
 ],
 "metadata": {
  "kernelspec": {
   "display_name": "Python 3",
   "language": "python",
   "name": "python3"
  },
  "language_info": {
   "codemirror_mode": {
    "name": "ipython",
    "version": 3
   },
   "file_extension": ".py",
   "mimetype": "text/x-python",
   "name": "python",
   "nbconvert_exporter": "python",
   "pygments_lexer": "ipython3",
   "version": "3.8.2"
  }
 },
 "nbformat": 4,
 "nbformat_minor": 4
}
