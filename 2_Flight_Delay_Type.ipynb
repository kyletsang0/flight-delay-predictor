{
  "nbformat": 4,
  "nbformat_minor": 0,
  "metadata": {
    "kernelspec": {
      "display_name": "Python 3",
      "language": "python",
      "name": "python3"
    },
    "language_info": {
      "codemirror_mode": {
        "name": "ipython",
        "version": 3
      },
      "file_extension": ".py",
      "mimetype": "text/x-python",
      "name": "python",
      "nbconvert_exporter": "python",
      "pygments_lexer": "ipython3",
      "version": "3.7.6"
    },
    "colab": {
      "name": "2 - Flight Delay Type.ipynb",
      "provenance": [],
      "collapsed_sections": [],
      "toc_visible": true
    }
  },
  "cells": [
    {
      "cell_type": "markdown",
      "metadata": {
        "id": "Gs_kl0OEkyZU",
        "colab_type": "text"
      },
      "source": [
        "# Prep procedure"
      ]
    },
    {
      "cell_type": "markdown",
      "metadata": {
        "id": "B5H-sK7akyZX",
        "colab_type": "text"
      },
      "source": [
        "### Import Modules"
      ]
    },
    {
      "cell_type": "code",
      "metadata": {
        "id": "feN2TBtRkyZY",
        "colab_type": "code",
        "colab": {}
      },
      "source": [
        "import pandas as pd\n",
        "pd.set_option('display.max_columns', None)\n",
        "import datetime\n",
        "import numpy as np\n",
        "from sklearn import preprocessing "
      ],
      "execution_count": null,
      "outputs": []
    },
    {
      "cell_type": "markdown",
      "metadata": {
        "id": "Vmuuvv2FkyZj",
        "colab_type": "text"
      },
      "source": [
        "### Import data"
      ]
    },
    {
      "cell_type": "code",
      "metadata": {
        "id": "Vi337yq_k7YY",
        "colab_type": "code",
        "colab": {
          "base_uri": "https://localhost:8080/",
          "height": 122
        },
        "outputId": "d6fbaa84-0766-4b6c-a94f-14560b6a0a26"
      },
      "source": [
        "from google.colab import drive\n",
        "drive.mount('/content/drive')"
      ],
      "execution_count": null,
      "outputs": [
        {
          "output_type": "stream",
          "text": [
            "Go to this URL in a browser: https://accounts.google.com/o/oauth2/auth?client_id=947318989803-6bn6qk8qdgf4n4g3pfee6491hc0brc4i.apps.googleusercontent.com&redirect_uri=urn%3aietf%3awg%3aoauth%3a2.0%3aoob&scope=email%20https%3a%2f%2fwww.googleapis.com%2fauth%2fdocs.test%20https%3a%2f%2fwww.googleapis.com%2fauth%2fdrive%20https%3a%2f%2fwww.googleapis.com%2fauth%2fdrive.photos.readonly%20https%3a%2f%2fwww.googleapis.com%2fauth%2fpeopleapi.readonly&response_type=code\n",
            "\n",
            "Enter your authorization code:\n",
            "··········\n",
            "Mounted at /content/drive\n"
          ],
          "name": "stdout"
        }
      ]
    },
    {
      "cell_type": "code",
      "metadata": {
        "id": "4b2VtQ32kyZk",
        "colab_type": "code",
        "colab": {}
      },
      "source": [
        "#Import data\n",
        "#path = '/content/drive/My Drive/flights_data/'\n",
        "path = '/content/drive/My Drive/PERSO/LIGHTHOUSE LABS/MIDTERM/data/'\n",
        "df = pd.read_csv(str(path)+\"flights_sample_10.csv\",low_memory=False)"
      ],
      "execution_count": null,
      "outputs": []
    },
    {
      "cell_type": "code",
      "metadata": {
        "id": "ap36qXxpkyZp",
        "colab_type": "code",
        "colab": {}
      },
      "source": [
        ""
      ],
      "execution_count": null,
      "outputs": []
    },
    {
      "cell_type": "markdown",
      "metadata": {
        "id": "59UOvFEifSCn",
        "colab_type": "text"
      },
      "source": [
        "## Prep Data"
      ]
    },
    {
      "cell_type": "code",
      "metadata": {
        "id": "LqfQUBCnkyZt",
        "colab_type": "code",
        "colab": {
          "base_uri": "https://localhost:8080/",
          "height": 223
        },
        "outputId": "f96fafaf-31b6-408a-e395-1ccccb642d29"
      },
      "source": [
        "print(df.columns)"
      ],
      "execution_count": null,
      "outputs": [
        {
          "output_type": "stream",
          "text": [
            "Index(['Unnamed: 0', 'fl_date', 'mkt_unique_carrier', 'branded_code_share',\n",
            "       'mkt_carrier', 'mkt_carrier_fl_num', 'op_unique_carrier', 'tail_num',\n",
            "       'op_carrier_fl_num', 'origin_airport_id', 'origin', 'origin_city_name',\n",
            "       'dest_airport_id', 'dest', 'dest_city_name', 'crs_dep_time', 'dep_time',\n",
            "       'dep_delay', 'taxi_out', 'wheels_off', 'wheels_on', 'taxi_in',\n",
            "       'crs_arr_time', 'arr_time', 'arr_delay', 'cancelled',\n",
            "       'cancellation_code', 'diverted', 'dup', 'crs_elapsed_time',\n",
            "       'actual_elapsed_time', 'air_time', 'flights', 'distance',\n",
            "       'carrier_delay', 'weather_delay', 'nas_delay', 'security_delay',\n",
            "       'late_aircraft_delay', 'first_dep_time', 'total_add_gtime',\n",
            "       'longest_add_gtime', 'no_name'],\n",
            "      dtype='object')\n"
          ],
          "name": "stdout"
        }
      ]
    },
    {
      "cell_type": "code",
      "metadata": {
        "id": "QfZbzVsjkyZ7",
        "colab_type": "code",
        "colab": {}
      },
      "source": [
        "dfF = df[['fl_date', 'mkt_unique_carrier', 'branded_code_share', 'mkt_carrier',\n",
        "       'mkt_carrier_fl_num', 'op_unique_carrier', 'tail_num',\n",
        "       'op_carrier_fl_num', 'origin_airport_id', 'origin', 'origin_city_name',\n",
        "       'dest_airport_id', 'dest', 'dest_city_name', 'crs_dep_time','dep_delay',\n",
        "       'crs_arr_time', 'dup', 'crs_elapsed_time', 'flights', 'distance','arr_delay','carrier_delay', 'weather_delay', 'nas_delay', 'security_delay',\n",
        "       'late_aircraft_delay','cancelled','taxi_in', 'taxi_out','diverted']].copy()"
      ],
      "execution_count": null,
      "outputs": []
    },
    {
      "cell_type": "code",
      "metadata": {
        "id": "y87yVbi-kyZ_",
        "colab_type": "code",
        "colab": {
          "base_uri": "https://localhost:8080/",
          "height": 1000
        },
        "outputId": "af118049-50e1-4a44-d6d2-b13e1a5b0af6"
      },
      "source": [
        "total = dfF.isnull().sum().sort_values(ascending=False)\n",
        "percent = (dfF.isnull().sum()/dfF.isnull().count()).sort_values(ascending=False)\n",
        "missing_data = pd.concat([total, percent], axis=1, keys=['Total', 'Percent'])\n",
        "missing_data"
      ],
      "execution_count": null,
      "outputs": [
        {
          "output_type": "execute_result",
          "data": {
            "text/html": [
              "<div>\n",
              "<style scoped>\n",
              "    .dataframe tbody tr th:only-of-type {\n",
              "        vertical-align: middle;\n",
              "    }\n",
              "\n",
              "    .dataframe tbody tr th {\n",
              "        vertical-align: top;\n",
              "    }\n",
              "\n",
              "    .dataframe thead th {\n",
              "        text-align: right;\n",
              "    }\n",
              "</style>\n",
              "<table border=\"1\" class=\"dataframe\">\n",
              "  <thead>\n",
              "    <tr style=\"text-align: right;\">\n",
              "      <th></th>\n",
              "      <th>Total</th>\n",
              "      <th>Percent</th>\n",
              "    </tr>\n",
              "  </thead>\n",
              "  <tbody>\n",
              "    <tr>\n",
              "      <th>late_aircraft_delay</th>\n",
              "      <td>1291631</td>\n",
              "      <td>0.811100</td>\n",
              "    </tr>\n",
              "    <tr>\n",
              "      <th>security_delay</th>\n",
              "      <td>1291631</td>\n",
              "      <td>0.811100</td>\n",
              "    </tr>\n",
              "    <tr>\n",
              "      <th>nas_delay</th>\n",
              "      <td>1291631</td>\n",
              "      <td>0.811100</td>\n",
              "    </tr>\n",
              "    <tr>\n",
              "      <th>weather_delay</th>\n",
              "      <td>1291631</td>\n",
              "      <td>0.811100</td>\n",
              "    </tr>\n",
              "    <tr>\n",
              "      <th>carrier_delay</th>\n",
              "      <td>1291631</td>\n",
              "      <td>0.811100</td>\n",
              "    </tr>\n",
              "    <tr>\n",
              "      <th>arr_delay</th>\n",
              "      <td>31241</td>\n",
              "      <td>0.019618</td>\n",
              "    </tr>\n",
              "    <tr>\n",
              "      <th>taxi_in</th>\n",
              "      <td>28187</td>\n",
              "      <td>0.017700</td>\n",
              "    </tr>\n",
              "    <tr>\n",
              "      <th>taxi_out</th>\n",
              "      <td>27433</td>\n",
              "      <td>0.017227</td>\n",
              "    </tr>\n",
              "    <tr>\n",
              "      <th>dep_delay</th>\n",
              "      <td>26581</td>\n",
              "      <td>0.016692</td>\n",
              "    </tr>\n",
              "    <tr>\n",
              "      <th>tail_num</th>\n",
              "      <td>5008</td>\n",
              "      <td>0.003145</td>\n",
              "    </tr>\n",
              "    <tr>\n",
              "      <th>crs_elapsed_time</th>\n",
              "      <td>6</td>\n",
              "      <td>0.000004</td>\n",
              "    </tr>\n",
              "    <tr>\n",
              "      <th>op_unique_carrier</th>\n",
              "      <td>0</td>\n",
              "      <td>0.000000</td>\n",
              "    </tr>\n",
              "    <tr>\n",
              "      <th>origin_airport_id</th>\n",
              "      <td>0</td>\n",
              "      <td>0.000000</td>\n",
              "    </tr>\n",
              "    <tr>\n",
              "      <th>op_carrier_fl_num</th>\n",
              "      <td>0</td>\n",
              "      <td>0.000000</td>\n",
              "    </tr>\n",
              "    <tr>\n",
              "      <th>branded_code_share</th>\n",
              "      <td>0</td>\n",
              "      <td>0.000000</td>\n",
              "    </tr>\n",
              "    <tr>\n",
              "      <th>mkt_carrier_fl_num</th>\n",
              "      <td>0</td>\n",
              "      <td>0.000000</td>\n",
              "    </tr>\n",
              "    <tr>\n",
              "      <th>mkt_carrier</th>\n",
              "      <td>0</td>\n",
              "      <td>0.000000</td>\n",
              "    </tr>\n",
              "    <tr>\n",
              "      <th>origin_city_name</th>\n",
              "      <td>0</td>\n",
              "      <td>0.000000</td>\n",
              "    </tr>\n",
              "    <tr>\n",
              "      <th>mkt_unique_carrier</th>\n",
              "      <td>0</td>\n",
              "      <td>0.000000</td>\n",
              "    </tr>\n",
              "    <tr>\n",
              "      <th>origin</th>\n",
              "      <td>0</td>\n",
              "      <td>0.000000</td>\n",
              "    </tr>\n",
              "    <tr>\n",
              "      <th>diverted</th>\n",
              "      <td>0</td>\n",
              "      <td>0.000000</td>\n",
              "    </tr>\n",
              "    <tr>\n",
              "      <th>dest_airport_id</th>\n",
              "      <td>0</td>\n",
              "      <td>0.000000</td>\n",
              "    </tr>\n",
              "    <tr>\n",
              "      <th>dest</th>\n",
              "      <td>0</td>\n",
              "      <td>0.000000</td>\n",
              "    </tr>\n",
              "    <tr>\n",
              "      <th>dest_city_name</th>\n",
              "      <td>0</td>\n",
              "      <td>0.000000</td>\n",
              "    </tr>\n",
              "    <tr>\n",
              "      <th>crs_dep_time</th>\n",
              "      <td>0</td>\n",
              "      <td>0.000000</td>\n",
              "    </tr>\n",
              "    <tr>\n",
              "      <th>crs_arr_time</th>\n",
              "      <td>0</td>\n",
              "      <td>0.000000</td>\n",
              "    </tr>\n",
              "    <tr>\n",
              "      <th>dup</th>\n",
              "      <td>0</td>\n",
              "      <td>0.000000</td>\n",
              "    </tr>\n",
              "    <tr>\n",
              "      <th>flights</th>\n",
              "      <td>0</td>\n",
              "      <td>0.000000</td>\n",
              "    </tr>\n",
              "    <tr>\n",
              "      <th>distance</th>\n",
              "      <td>0</td>\n",
              "      <td>0.000000</td>\n",
              "    </tr>\n",
              "    <tr>\n",
              "      <th>cancelled</th>\n",
              "      <td>0</td>\n",
              "      <td>0.000000</td>\n",
              "    </tr>\n",
              "    <tr>\n",
              "      <th>fl_date</th>\n",
              "      <td>0</td>\n",
              "      <td>0.000000</td>\n",
              "    </tr>\n",
              "  </tbody>\n",
              "</table>\n",
              "</div>"
            ],
            "text/plain": [
              "                       Total   Percent\n",
              "late_aircraft_delay  1291631  0.811100\n",
              "security_delay       1291631  0.811100\n",
              "nas_delay            1291631  0.811100\n",
              "weather_delay        1291631  0.811100\n",
              "carrier_delay        1291631  0.811100\n",
              "arr_delay              31241  0.019618\n",
              "taxi_in                28187  0.017700\n",
              "taxi_out               27433  0.017227\n",
              "dep_delay              26581  0.016692\n",
              "tail_num                5008  0.003145\n",
              "crs_elapsed_time           6  0.000004\n",
              "op_unique_carrier          0  0.000000\n",
              "origin_airport_id          0  0.000000\n",
              "op_carrier_fl_num          0  0.000000\n",
              "branded_code_share         0  0.000000\n",
              "mkt_carrier_fl_num         0  0.000000\n",
              "mkt_carrier                0  0.000000\n",
              "origin_city_name           0  0.000000\n",
              "mkt_unique_carrier         0  0.000000\n",
              "origin                     0  0.000000\n",
              "diverted                   0  0.000000\n",
              "dest_airport_id            0  0.000000\n",
              "dest                       0  0.000000\n",
              "dest_city_name             0  0.000000\n",
              "crs_dep_time               0  0.000000\n",
              "crs_arr_time               0  0.000000\n",
              "dup                        0  0.000000\n",
              "flights                    0  0.000000\n",
              "distance                   0  0.000000\n",
              "cancelled                  0  0.000000\n",
              "fl_date                    0  0.000000"
            ]
          },
          "metadata": {
            "tags": []
          },
          "execution_count": 118
        }
      ]
    },
    {
      "cell_type": "code",
      "metadata": {
        "id": "Mz62qMtmkyaD",
        "colab_type": "code",
        "colab": {}
      },
      "source": [
        "#dfF = dfF[dfF.dep_delay.notnull()]\n",
        "#dfF = dfF[dfF.arr_delay.notnull()]"
      ],
      "execution_count": 112,
      "outputs": []
    },
    {
      "cell_type": "code",
      "metadata": {
        "id": "tpQ5faMYkyaG",
        "colab_type": "code",
        "colab": {}
      },
      "source": [
        ""
      ],
      "execution_count": null,
      "outputs": []
    },
    {
      "cell_type": "markdown",
      "metadata": {
        "id": "acTtBccMkyaL",
        "colab_type": "text"
      },
      "source": [
        "## Feature engineering"
      ]
    },
    {
      "cell_type": "markdown",
      "metadata": {
        "id": "AR0sWRdXkyaM",
        "colab_type": "text"
      },
      "source": [
        "### Convert delays to Bool"
      ]
    },
    {
      "cell_type": "code",
      "metadata": {
        "id": "j986zwYzkyaN",
        "colab_type": "code",
        "colab": {}
      },
      "source": [
        "#list of each delay type\n",
        "delaytypes = ['carrier_delay', 'weather_delay', 'nas_delay', 'security_delay', 'late_aircraft_delay']\n",
        "\n",
        "#creates new bool column for each delay type, where 1 if that delay type is the max of all delays AND is > 0\n",
        "for delay in delaytypes:\n",
        "    dfF['is'+delay] = np.where((dfF[delaytypes].idxmax(axis=1) == delay)&(dfF[delay]>0), 1, 0)\n"
      ],
      "execution_count": null,
      "outputs": []
    },
    {
      "cell_type": "code",
      "metadata": {
        "id": "8Us-mXrckyaR",
        "colab_type": "code",
        "colab": {}
      },
      "source": [
        "# column that shows which delay it is (if any)\n",
        "\n",
        "dfF['delay_type'] = df[delaytypes].idxmax(axis=\"columns\")"
      ],
      "execution_count": null,
      "outputs": []
    },
    {
      "cell_type": "code",
      "metadata": {
        "id": "7CW8si5iDFi3",
        "colab_type": "code",
        "colab": {}
      },
      "source": [
        "delay_dict = {'carrier_delay':1, 'weather_delay':2, 'nas_delay':3, 'security_delay':4, 'late_aircraft_delay':5}\n",
        "dfF['delay_type'] = dfF['delay_type'].map(delay_dict)\n"
      ],
      "execution_count": null,
      "outputs": []
    },
    {
      "cell_type": "markdown",
      "metadata": {
        "id": "x4AqShaGkyaV",
        "colab_type": "text"
      },
      "source": [
        "### Create flight number"
      ]
    },
    {
      "cell_type": "code",
      "metadata": {
        "id": "SQ7AZglHkyaW",
        "colab_type": "code",
        "colab": {}
      },
      "source": [
        "dfF['flight_number'] = dfF['mkt_unique_carrier']+dfF['mkt_carrier_fl_num'].astype(str)+dfF['origin']+dfF['dest']"
      ],
      "execution_count": null,
      "outputs": []
    },
    {
      "cell_type": "code",
      "metadata": {
        "id": "I1cmr2bdkyaa",
        "colab_type": "code",
        "colab": {
          "base_uri": "https://localhost:8080/",
          "height": 223
        },
        "outputId": "26f438e6-c539-43b9-b003-9070dde2ef96"
      },
      "source": [
        "dfF['flight_number'].value_counts()"
      ],
      "execution_count": null,
      "outputs": [
        {
          "output_type": "execute_result",
          "data": {
            "text/plain": [
              "UA1768IAHTPA    98\n",
              "NK446LASORD     95\n",
              "UA778IADMCO     95\n",
              "UA773DENSMF     93\n",
              "HA64LIHLAX      93\n",
              "                ..\n",
              "WN4802SFOSAN     1\n",
              "DL496SLCSEA      1\n",
              "AA4958PHLALB     1\n",
              "WN670BWIMSY      1\n",
              "WN415SJCONT      1\n",
              "Name: flight_number, Length: 280824, dtype: int64"
            ]
          },
          "metadata": {
            "tags": []
          },
          "execution_count": 124
        }
      ]
    },
    {
      "cell_type": "code",
      "metadata": {
        "id": "Im4Morl3kyae",
        "colab_type": "code",
        "colab": {}
      },
      "source": [
        ""
      ],
      "execution_count": null,
      "outputs": []
    },
    {
      "cell_type": "code",
      "metadata": {
        "id": "DRf_DNJBkyah",
        "colab_type": "code",
        "colab": {
          "base_uri": "https://localhost:8080/",
          "height": 34
        },
        "outputId": "6f5f05b8-c881-4e33-d557-6d806f20e226"
      },
      "source": [
        "print('Number of different flight_numbers in train set : ' +str(len(dfF['flight_number'].value_counts())))"
      ],
      "execution_count": null,
      "outputs": [
        {
          "output_type": "stream",
          "text": [
            "Number of different flight_numbers in train set : 280824\n"
          ],
          "name": "stdout"
        }
      ]
    },
    {
      "cell_type": "code",
      "metadata": {
        "id": "SOqqWVqskyal",
        "colab_type": "code",
        "colab": {
          "base_uri": "https://localhost:8080/",
          "height": 171
        },
        "outputId": "9dc255cb-cdc6-4251-9bb8-54711e9c5762"
      },
      "source": [
        "dfF.flights.describe()"
      ],
      "execution_count": null,
      "outputs": [
        {
          "output_type": "execute_result",
          "data": {
            "text/plain": [
              "count    1592444.0\n",
              "mean           1.0\n",
              "std            0.0\n",
              "min            1.0\n",
              "25%            1.0\n",
              "50%            1.0\n",
              "75%            1.0\n",
              "max            1.0\n",
              "Name: flights, dtype: float64"
            ]
          },
          "metadata": {
            "tags": []
          },
          "execution_count": 126
        }
      ]
    },
    {
      "cell_type": "code",
      "metadata": {
        "id": "eY3yT9Jvkya2",
        "colab_type": "code",
        "colab": {}
      },
      "source": [
        ""
      ],
      "execution_count": null,
      "outputs": []
    },
    {
      "cell_type": "markdown",
      "metadata": {
        "id": "aaLSBU1Vkya5",
        "colab_type": "text"
      },
      "source": [
        "### Convert fly_date to Month / Day / Day of year / Day of Week / Dep Hour and Arr Hour"
      ]
    },
    {
      "cell_type": "code",
      "metadata": {
        "id": "isCrAza0kya6",
        "colab_type": "code",
        "colab": {}
      },
      "source": [
        "dfF.fl_date = pd.to_datetime(dfF.fl_date, format='%Y-%m-%d')\n",
        "\n",
        "dfF['fl_month'] = pd.DatetimeIndex(dfF.fl_date).month\n",
        "dfF['fl_day'] = pd.DatetimeIndex(dfF.fl_date).day\n",
        "dfF['fl_day_of_year'] = dfF.fl_date.dt.dayofyear\n",
        "dfF['fl_day_of_week'] = dfF.fl_date.dt.dayofweek\n",
        "\n",
        "dfF['crs_dep_time'] = dfF['crs_dep_time'].apply(lambda x: '{0:0>4}'.format(x))\n",
        "dfF['crs_arr_time'] = dfF['crs_arr_time'].apply(lambda x: '{0:0>4}'.format(x))\n",
        "\n",
        "dfF['dep_hour'] = dfF['crs_dep_time'].str[:2]\n",
        "dfF['arr_hour'] = dfF['crs_arr_time'].str[:2]"
      ],
      "execution_count": null,
      "outputs": []
    },
    {
      "cell_type": "code",
      "metadata": {
        "id": "d_6YUOxQkybT",
        "colab_type": "code",
        "colab": {}
      },
      "source": [
        ""
      ],
      "execution_count": null,
      "outputs": []
    },
    {
      "cell_type": "markdown",
      "metadata": {
        "id": "ehrWhY00kybX",
        "colab_type": "text"
      },
      "source": [
        "### Create short, med, long haul duration type"
      ]
    },
    {
      "cell_type": "code",
      "metadata": {
        "id": "ITtH3YKakybX",
        "colab_type": "code",
        "colab": {}
      },
      "source": [
        "# duration type (eg short, med, long haul)\n",
        "bins = [-100, 180, 360, 2000]\n",
        "labels = [1,2,3]\n",
        "dfF['duration_type'] = pd.cut(dfF['crs_elapsed_time'], bins=bins, labels=labels)"
      ],
      "execution_count": null,
      "outputs": []
    },
    {
      "cell_type": "code",
      "metadata": {
        "id": "0XCLXxxakybZ",
        "colab_type": "code",
        "colab": {}
      },
      "source": [
        "#dfF"
      ],
      "execution_count": null,
      "outputs": []
    },
    {
      "cell_type": "code",
      "metadata": {
        "id": "2VJMVqx_kybg",
        "colab_type": "code",
        "colab": {}
      },
      "source": [
        ""
      ],
      "execution_count": null,
      "outputs": []
    },
    {
      "cell_type": "markdown",
      "metadata": {
        "id": "yi2ed26fkybj",
        "colab_type": "text"
      },
      "source": [
        "## Day section"
      ]
    },
    {
      "cell_type": "code",
      "metadata": {
        "id": "lEllDti9kybj",
        "colab_type": "code",
        "colab": {}
      },
      "source": [
        "hour_to_daysection = {'00': 0,\n",
        "                      '01': 0,\n",
        "                      '02': 0,\n",
        "                      '03': 0,\n",
        "                      '04': 0,\n",
        "                      '05': 0,\n",
        "                      '06': 1,\n",
        "                      '07': 1,\n",
        "                      '08': 1,\n",
        "                      '09': 1,\n",
        "                      '10': 1,\n",
        "                      '11': 2,\n",
        "                      '12': 2,\n",
        "                      '13': 2,\n",
        "                      '14': 2,\n",
        "                      '15': 2,\n",
        "                      '16': 2,\n",
        "                      '17': 3,\n",
        "                      '18': 3,\n",
        "                      '19': 3,\n",
        "                      '20': 4,\n",
        "                      '21': 4,\n",
        "                      '22': 4,\n",
        "                      '23': 4,\n",
        "                      '24': 4}\n",
        "\n",
        "# Night = 0, Morning rush = 1, Midday = 2, Afternoon rush = 3, Evening = 4\n",
        "\n",
        "dfF['dep_daysection'] = dfF['dep_hour'].map(hour_to_daysection)\n",
        "\n",
        "dfF['arr_daysection'] = dfF['arr_hour'].map(hour_to_daysection)"
      ],
      "execution_count": null,
      "outputs": []
    },
    {
      "cell_type": "markdown",
      "metadata": {
        "id": "qCbCjrRVkybm",
        "colab_type": "text"
      },
      "source": [
        "## Season"
      ]
    },
    {
      "cell_type": "code",
      "metadata": {
        "id": "jAMIo-nckybn",
        "colab_type": "code",
        "colab": {}
      },
      "source": [
        "month_to_season = {1: 1, 2: 1, 3: 2, 4: 2, 5: 2, 6: 3, 7: 3, 8: 3, 9: 4, 10: 4, 11: 4, 12: 1}\n",
        "dfF['fl_season'] = dfF['fl_month'].map(month_to_season)"
      ],
      "execution_count": null,
      "outputs": []
    },
    {
      "cell_type": "code",
      "metadata": {
        "id": "lHHsUXGikybo",
        "colab_type": "code",
        "colab": {}
      },
      "source": [
        "#dfF"
      ],
      "execution_count": null,
      "outputs": []
    },
    {
      "cell_type": "markdown",
      "metadata": {
        "id": "Ly9ljgpykybq",
        "colab_type": "text"
      },
      "source": [
        "## Origin and Destination State"
      ]
    },
    {
      "cell_type": "code",
      "metadata": {
        "id": "ZxpYlMtqkybr",
        "colab_type": "code",
        "colab": {}
      },
      "source": [
        "dfF['origin_state'] = dfF['origin_city_name'].str[-2:]\n",
        "dfF['dest_state'] = dfF['dest_city_name'].str[-2:]"
      ],
      "execution_count": null,
      "outputs": []
    },
    {
      "cell_type": "code",
      "metadata": {
        "id": "ubLSXzkHkybt",
        "colab_type": "code",
        "colab": {}
      },
      "source": [
        "#dfF"
      ],
      "execution_count": null,
      "outputs": []
    },
    {
      "cell_type": "code",
      "metadata": {
        "id": "iqMWhNevkybv",
        "colab_type": "code",
        "colab": {}
      },
      "source": [
        ""
      ],
      "execution_count": null,
      "outputs": []
    },
    {
      "cell_type": "markdown",
      "metadata": {
        "id": "Ai1Zt7WHkyby",
        "colab_type": "text"
      },
      "source": [
        "# Aggregate statistics values\n",
        "\n",
        "## Carrier Volume\n"
      ]
    },
    {
      "cell_type": "code",
      "metadata": {
        "id": "O8OICPpPkyby",
        "colab_type": "code",
        "colab": {}
      },
      "source": [
        "# total volume at origin and dest airport\n",
        "dfF['origin_airport_vol'] = dfF.groupby(['origin_airport_id'])['flights'].transform(np.sum)\n",
        "dfF['dest_airport_vol'] = dfF.groupby(['origin_airport_id'])['flights'].transform(np.sum)\n",
        "\n",
        "# how much the airline operates out of that airport\n",
        "dfF['carrier_origin_apt_vol'] = dfF.groupby(['origin_airport_id','op_unique_carrier'])['flights'].transform(np.sum)\n",
        "dfF['carrier_dest_apt_vol'] = dfF.groupby(['dest_airport_id','op_unique_carrier'])['flights'].transform(np.sum)\n",
        "\n",
        "# how much the airline operates out of that airport as pct\n",
        "dfF['carrier_origin_apt_pct'] = dfF['carrier_origin_apt_vol'] / dfF['origin_airport_vol'] * 100\n",
        "dfF['carrier_dest_apt_pct'] = dfF['carrier_dest_apt_vol'] / dfF['dest_airport_vol'] * 100"
      ],
      "execution_count": null,
      "outputs": []
    },
    {
      "cell_type": "markdown",
      "metadata": {
        "id": "dA020-V8kyb3",
        "colab_type": "text"
      },
      "source": [
        "## Mean Carrier Delay"
      ]
    },
    {
      "cell_type": "code",
      "metadata": {
        "id": "4GwYn53tkyb4",
        "colab_type": "code",
        "colab": {}
      },
      "source": [
        "dfF['mean_carrier_arr_delay'] = dfF.groupby(['op_unique_carrier'])['arr_delay'].transform(np.mean)\n"
      ],
      "execution_count": null,
      "outputs": []
    },
    {
      "cell_type": "markdown",
      "metadata": {
        "id": "iMm4A7dgkyb6",
        "colab_type": "text"
      },
      "source": [
        "## Carrier Delay per month"
      ]
    },
    {
      "cell_type": "code",
      "metadata": {
        "id": "lf2SFLfqkyb6",
        "colab_type": "code",
        "colab": {}
      },
      "source": [
        "stattype = [('mean', np.mean), ('median', np.median), ('std',np.std)]\n",
        "\n",
        "for stat in stattype:\n",
        "  # arr per airline per month\n",
        "  dfF[stat[0]+'_carrier_arr_delay_month'] = dfF.groupby(['op_unique_carrier','fl_month'])['arr_delay'].transform(stat[1])\n",
        "\n",
        "  # dep per airline per month\n",
        "  dfF[stat[0]+'_carrier_dep_delay_month'] = dfF.groupby(['op_unique_carrier','fl_month'])['dep_delay'].transform(stat[1])"
      ],
      "execution_count": 115,
      "outputs": []
    },
    {
      "cell_type": "code",
      "metadata": {
        "id": "ptHwu4LEkycP",
        "colab_type": "code",
        "colab": {}
      },
      "source": [
        ""
      ],
      "execution_count": null,
      "outputs": []
    },
    {
      "cell_type": "code",
      "metadata": {
        "id": "W6jy_kljkycR",
        "colab_type": "code",
        "colab": {}
      },
      "source": [
        "## Mean Carrier-Airport-(DEP and ARR) delay per (DEP and ARR) hour\n",
        "\n",
        "stattype = [('mean', np.mean), ('median', np.median), ('std',np.std)]\n",
        "\n",
        "for stat in stattype:\n",
        "  dfF[stat[0]+'_carrier_origin_dep-hour_dep_delay'] = dfF.groupby(['op_unique_carrier','origin','dep_hour'])['dep_delay'].transform(stat[1])\n",
        "  dfF[stat[0]+'_carrier_dest_fl-hour_delay'] = dfF.groupby(['op_unique_carrier','dest','arr_hour'])['arr_delay'].transform(stat[1])"
      ],
      "execution_count": 116,
      "outputs": []
    },
    {
      "cell_type": "code",
      "metadata": {
        "id": "uvhPj2kFkycU",
        "colab_type": "code",
        "colab": {}
      },
      "source": [
        "## Mean DEP and ARR delay for Carrier routes per month per day of the week per day section. \n",
        "\n",
        "stattype = [('mean', np.mean), ('median', np.median), ('std',np.std)]\n",
        "\n",
        "for stat in stattype:\n",
        "  dfF[stat[0]+'_carrier_route_month_dow_dayS_dep-delay'] = dfF.groupby(['op_unique_carrier','origin','dest','fl_month','fl_day_of_week','dep_daysection'])['dep_delay'].transform(stat[1])\n",
        "  dfF[stat[0]+'_carrier_route_month_dow_dayS_arr-delay'] = dfF.groupby(['op_unique_carrier','origin','dest','fl_month','fl_day_of_week','arr_daysection'])['arr_delay'].transform(stat[1])\n",
        "\n"
      ],
      "execution_count": 117,
      "outputs": []
    },
    {
      "cell_type": "code",
      "metadata": {
        "id": "AKMldBY3kycW",
        "colab_type": "code",
        "colab": {}
      },
      "source": [
        "#dfF"
      ],
      "execution_count": null,
      "outputs": []
    },
    {
      "cell_type": "code",
      "metadata": {
        "id": "TGgdfUMxkyca",
        "colab_type": "code",
        "colab": {}
      },
      "source": [
        "#means\n",
        "stattype = [('mean', np.mean), ('median', np.median), ('std',np.std)]\n",
        "\n",
        "for stat in stattype:\n",
        "  #by month\n",
        "  dfF[stat[0]+'_route_arr_delay_month'] = dfF.groupby(['origin','dest','fl_month'])['arr_delay'].transform(stat[1])\n",
        "  dfF[stat[0]+'_route_dep_delay_month'] = dfF.groupby(['origin','dest','fl_month'])['dep_delay'].transform(stat[1])\n",
        "  \n",
        "  #by day of week\n",
        "  dfF[stat[0]+'_route_arr_delay_dow'] = dfF.groupby(['origin','dest','fl_day_of_week'])['arr_delay'].transform(stat[1])\n",
        "  dfF[stat[0]+'_route_dep_delay_dow'] = dfF.groupby(['origin','dest','fl_day_of_week'])['dep_delay'].transform(stat[1])\n",
        "\n",
        "  #by departure day section\n",
        "  dfF[stat[0]+'_route_arr_delay_dep_hour'] = dfF.groupby(['origin','dest','dep_daysection'])['arr_delay'].transform(stat[1])\n",
        "  dfF[stat[0]+'_route_dep_delay_dep_hour'] = dfF.groupby(['origin','dest','dep_daysection'])['dep_delay'].transform(stat[1])\n",
        "\n",
        "  #by arrival day section\n",
        "  dfF[stat[0]+'_route_arr_delay_arr_hour'] = dfF.groupby(['origin','dest','arr_daysection'])['arr_delay'].transform(stat[1])\n",
        "  dfF[stat[0]+'_route_dep_delay_arr_hour'] = dfF.groupby(['origin','dest','arr_daysection'])['dep_delay'].transform(stat[1])\n"
      ],
      "execution_count": 118,
      "outputs": []
    },
    {
      "cell_type": "code",
      "metadata": {
        "id": "3269LTN7kycd",
        "colab_type": "code",
        "colab": {}
      },
      "source": [
        ""
      ],
      "execution_count": 119,
      "outputs": []
    },
    {
      "cell_type": "markdown",
      "metadata": {
        "id": "yRuOYW3Tew9c",
        "colab_type": "text"
      },
      "source": [
        "## Delay by Route/Time of Year"
      ]
    },
    {
      "cell_type": "code",
      "metadata": {
        "id": "ENnW_if3e0qL",
        "colab_type": "code",
        "colab": {}
      },
      "source": [
        "## Origin weather delay per month PCT\n",
        "dfF['origin_month_weather_delay_pct'] = dfF.groupby(['origin','fl_month'])['isweather_delay'].transform(np.sum) / dfF.groupby(['origin','fl_month'])['flights'].transform(np.sum) * 100\n",
        "## Dest weather delay per month PCT \n",
        "dfF['dest_month_weather_delay_pct'] = dfF.groupby(['dest','fl_month'])['isweather_delay'].transform(np.sum) / dfF.groupby(['dest','fl_month'])['flights'].transform(np.sum) * 100\n",
        "## Route weather delay per month PCT\n",
        "dfF['route_month_weather_delay_pct'] = dfF.groupby(['origin','dest','fl_month'])['isweather_delay'].transform(np.sum) / dfF.groupby(['origin','dest','fl_month'])['flights'].transform(np.sum) * 100"
      ],
      "execution_count": null,
      "outputs": []
    },
    {
      "cell_type": "code",
      "metadata": {
        "id": "5VERyfTde0BS",
        "colab_type": "code",
        "colab": {}
      },
      "source": [
        ""
      ],
      "execution_count": null,
      "outputs": []
    },
    {
      "cell_type": "markdown",
      "metadata": {
        "id": "OixFfKvAi5L_",
        "colab_type": "text"
      },
      "source": [
        "## Delay by Time of Day"
      ]
    },
    {
      "cell_type": "code",
      "metadata": {
        "id": "ayCkPeQ2i9fh",
        "colab_type": "code",
        "colab": {}
      },
      "source": [
        "#list of each delay type\n",
        "delaytypes = ['carrier_delay', 'weather_delay', 'nas_delay', 'security_delay', 'late_aircraft_delay']\n",
        "times = ['arr_daysection', 'dep_daysection']\n",
        "#creates feature for % of each delay type for time of day\n",
        "for delay in delaytypes:\n",
        "  for time in times:\n",
        "    dfF[time+'_'+delay+'_pct'] = dfF.groupby([time])['is'+delay].transform(np.sum) / dfF.groupby([time])['flights'].transform(np.sum) * 100\n",
        "\n",
        "#dropping arrival time vs security and late aircraft delay\n",
        "dfF = dfF.drop(['arr_daysection_security_delay_pct','arr_daysection_late_aircraft_delay_pct'],axis=1)"
      ],
      "execution_count": null,
      "outputs": []
    },
    {
      "cell_type": "code",
      "metadata": {
        "id": "7x6Ho5HCi9UI",
        "colab_type": "code",
        "colab": {}
      },
      "source": [
        "#dfF"
      ],
      "execution_count": 113,
      "outputs": []
    },
    {
      "cell_type": "markdown",
      "metadata": {
        "id": "oe2GWnTXTEUp",
        "colab_type": "text"
      },
      "source": [
        "## Delay Type vs Carrier"
      ]
    },
    {
      "cell_type": "code",
      "metadata": {
        "id": "waO3uDEokycf",
        "colab_type": "code",
        "colab": {}
      },
      "source": [
        "#list of each delay type\n",
        "delaytypes = ['carrier_delay', 'weather_delay', 'nas_delay', 'security_delay', 'late_aircraft_delay']\n",
        "\n",
        "#creates feature for % of each delay type for each carrier\n",
        "for delay in delaytypes:\n",
        "    dfF['carrier_'+delay+'_pct'] = dfF.groupby(['op_unique_carrier'])['is'+delay].transform(np.sum) / dfF.groupby(['op_unique_carrier'])['flights'].transform(np.sum) * 100\n",
        "\n"
      ],
      "execution_count": null,
      "outputs": []
    },
    {
      "cell_type": "code",
      "metadata": {
        "id": "3xuO1Z2gdgxh",
        "colab_type": "code",
        "colab": {}
      },
      "source": [
        "#list of each delay type\n",
        "delaytypes = ['carrier_delay', 'late_aircraft_delay']\n",
        "#creates fields for each delay type\n",
        "for delay in delaytypes:\n",
        "    dfF['carrier_route_month_'+delay] = dfF.groupby(['op_unique_carrier','origin','dest','fl_month'])['is'+delay].transform(np.sum) / dfF.groupby(['op_unique_carrier','origin','dest','fl_month'])['flights'].transform(np.sum) * 100"
      ],
      "execution_count": null,
      "outputs": []
    },
    {
      "cell_type": "code",
      "metadata": {
        "id": "5ZFrScxO4Nb2",
        "colab_type": "code",
        "colab": {}
      },
      "source": [
        "#dfF"
      ],
      "execution_count": 120,
      "outputs": []
    },
    {
      "cell_type": "markdown",
      "metadata": {
        "id": "sPsbZSARoAap",
        "colab_type": "text"
      },
      "source": [
        "## Origin and destination and route month weekday daysection NAS delay PCT\n"
      ]
    },
    {
      "cell_type": "code",
      "metadata": {
        "id": "yM0Vt8amkych",
        "colab_type": "code",
        "colab": {}
      },
      "source": [
        "#list of each delay type\n",
        "delaytypes = ['nas_delay']\n",
        "#creates fields for each delay type\n",
        "for delay in delaytypes:\n",
        "    dfF['origin_month_weekday_daysection_'+delay] = dfF.groupby(['origin','fl_month','fl_day_of_week','dep_daysection'])['is'+delay].transform(np.sum) / dfF.groupby(['origin','fl_month','fl_day_of_week','dep_daysection'])['flights'].transform(np.sum) * 100\n",
        "for delay in delaytypes:\n",
        "    dfF['dest_month_weekday_daysection_'+delay] = dfF.groupby(['dest','fl_month','fl_day_of_week','arr_daysection'])['is'+delay].transform(np.sum) / dfF.groupby(['dest','fl_month','fl_day_of_week','arr_daysection'])['flights'].transform(np.sum) * 100\n",
        "for delay in delaytypes:\n",
        "    dfF['route_month_weekday_daysection_'+delay] = dfF.groupby(['origin','dest','fl_month','fl_day_of_week','dep_daysection'])['is'+delay].transform(np.sum) / dfF.groupby(['origin','dest','fl_month','fl_day_of_week','dep_daysection'])['flights'].transform(np.sum) * 100"
      ],
      "execution_count": null,
      "outputs": []
    },
    {
      "cell_type": "code",
      "metadata": {
        "id": "VHRg2C13oEPS",
        "colab_type": "code",
        "colab": {}
      },
      "source": [
        ""
      ],
      "execution_count": null,
      "outputs": []
    },
    {
      "cell_type": "code",
      "metadata": {
        "id": "17c6R6ZSoEGw",
        "colab_type": "code",
        "colab": {}
      },
      "source": [
        ""
      ],
      "execution_count": null,
      "outputs": []
    },
    {
      "cell_type": "markdown",
      "metadata": {
        "id": "59Vv_7H_kycm",
        "colab_type": "text"
      },
      "source": [
        "# Columns dropping stars here\n",
        "## Convert categorical data"
      ]
    },
    {
      "cell_type": "markdown",
      "metadata": {
        "id": "Crlxam3jkycn",
        "colab_type": "text"
      },
      "source": [
        "### Get dummies"
      ]
    },
    {
      "cell_type": "code",
      "metadata": {
        "id": "wUiDboyOkyco",
        "colab_type": "code",
        "colab": {
          "base_uri": "https://localhost:8080/",
          "height": 378
        },
        "outputId": "8f344a9b-afb1-48e7-c12c-358195fc365a"
      },
      "source": [
        "#Get dummies\n",
        "df_dummy = pd.get_dummies(dfF[[\"op_unique_carrier\"]])\n",
        "df_dummy.shape\n",
        "# Merge into DF\n",
        "dfF = pd.concat([dfF,df_dummy],axis=1).drop([\"op_unique_carrier\",'op_unique_carrier_9E'],axis=1)\n",
        "\n",
        "#Get dummies\n",
        "#df_dummy = pd.get_dummies(dfFT[[\"op_unique_carrier\"]])\n",
        "#df_dummy.shape\n",
        "# Merge into DF\n",
        "#dfFT = pd.concat([dfFT,df_dummy],axis=1).drop([\"op_unique_carrier\",'op_unique_carrier_9E'],axis=1)"
      ],
      "execution_count": null,
      "outputs": [
        {
          "output_type": "error",
          "ename": "KeyError",
          "evalue": "ignored",
          "traceback": [
            "\u001b[0;31m---------------------------------------------------------------------------\u001b[0m",
            "\u001b[0;31mKeyError\u001b[0m                                  Traceback (most recent call last)",
            "\u001b[0;32m<ipython-input-160-956e2b5de055>\u001b[0m in \u001b[0;36m<module>\u001b[0;34m()\u001b[0m\n\u001b[1;32m      1\u001b[0m \u001b[0;31m#Get dummies\u001b[0m\u001b[0;34m\u001b[0m\u001b[0;34m\u001b[0m\u001b[0;34m\u001b[0m\u001b[0m\n\u001b[0;32m----> 2\u001b[0;31m \u001b[0mdf_dummy\u001b[0m \u001b[0;34m=\u001b[0m \u001b[0mpd\u001b[0m\u001b[0;34m.\u001b[0m\u001b[0mget_dummies\u001b[0m\u001b[0;34m(\u001b[0m\u001b[0mdfF\u001b[0m\u001b[0;34m[\u001b[0m\u001b[0;34m[\u001b[0m\u001b[0;34m\"op_unique_carrier\"\u001b[0m\u001b[0;34m]\u001b[0m\u001b[0;34m]\u001b[0m\u001b[0;34m)\u001b[0m\u001b[0;34m\u001b[0m\u001b[0;34m\u001b[0m\u001b[0m\n\u001b[0m\u001b[1;32m      3\u001b[0m \u001b[0mdf_dummy\u001b[0m\u001b[0;34m.\u001b[0m\u001b[0mshape\u001b[0m\u001b[0;34m\u001b[0m\u001b[0;34m\u001b[0m\u001b[0m\n\u001b[1;32m      4\u001b[0m \u001b[0;31m# Merge into DF\u001b[0m\u001b[0;34m\u001b[0m\u001b[0;34m\u001b[0m\u001b[0;34m\u001b[0m\u001b[0m\n\u001b[1;32m      5\u001b[0m \u001b[0mdfF\u001b[0m \u001b[0;34m=\u001b[0m \u001b[0mpd\u001b[0m\u001b[0;34m.\u001b[0m\u001b[0mconcat\u001b[0m\u001b[0;34m(\u001b[0m\u001b[0;34m[\u001b[0m\u001b[0mdfF\u001b[0m\u001b[0;34m,\u001b[0m\u001b[0mdf_dummy\u001b[0m\u001b[0;34m]\u001b[0m\u001b[0;34m,\u001b[0m\u001b[0maxis\u001b[0m\u001b[0;34m=\u001b[0m\u001b[0;36m1\u001b[0m\u001b[0;34m)\u001b[0m\u001b[0;34m.\u001b[0m\u001b[0mdrop\u001b[0m\u001b[0;34m(\u001b[0m\u001b[0;34m[\u001b[0m\u001b[0;34m\"op_unique_carrier\"\u001b[0m\u001b[0;34m,\u001b[0m\u001b[0;34m'op_unique_carrier_9E'\u001b[0m\u001b[0;34m]\u001b[0m\u001b[0;34m,\u001b[0m\u001b[0maxis\u001b[0m\u001b[0;34m=\u001b[0m\u001b[0;36m1\u001b[0m\u001b[0;34m)\u001b[0m\u001b[0;34m\u001b[0m\u001b[0;34m\u001b[0m\u001b[0m\n",
            "\u001b[0;32m/usr/local/lib/python3.6/dist-packages/pandas/core/frame.py\u001b[0m in \u001b[0;36m__getitem__\u001b[0;34m(self, key)\u001b[0m\n\u001b[1;32m   2804\u001b[0m             \u001b[0;32mif\u001b[0m \u001b[0mis_iterator\u001b[0m\u001b[0;34m(\u001b[0m\u001b[0mkey\u001b[0m\u001b[0;34m)\u001b[0m\u001b[0;34m:\u001b[0m\u001b[0;34m\u001b[0m\u001b[0;34m\u001b[0m\u001b[0m\n\u001b[1;32m   2805\u001b[0m                 \u001b[0mkey\u001b[0m \u001b[0;34m=\u001b[0m \u001b[0mlist\u001b[0m\u001b[0;34m(\u001b[0m\u001b[0mkey\u001b[0m\u001b[0;34m)\u001b[0m\u001b[0;34m\u001b[0m\u001b[0;34m\u001b[0m\u001b[0m\n\u001b[0;32m-> 2806\u001b[0;31m             \u001b[0mindexer\u001b[0m \u001b[0;34m=\u001b[0m \u001b[0mself\u001b[0m\u001b[0;34m.\u001b[0m\u001b[0mloc\u001b[0m\u001b[0;34m.\u001b[0m\u001b[0m_get_listlike_indexer\u001b[0m\u001b[0;34m(\u001b[0m\u001b[0mkey\u001b[0m\u001b[0;34m,\u001b[0m \u001b[0maxis\u001b[0m\u001b[0;34m=\u001b[0m\u001b[0;36m1\u001b[0m\u001b[0;34m,\u001b[0m \u001b[0mraise_missing\u001b[0m\u001b[0;34m=\u001b[0m\u001b[0;32mTrue\u001b[0m\u001b[0;34m)\u001b[0m\u001b[0;34m[\u001b[0m\u001b[0;36m1\u001b[0m\u001b[0;34m]\u001b[0m\u001b[0;34m\u001b[0m\u001b[0;34m\u001b[0m\u001b[0m\n\u001b[0m\u001b[1;32m   2807\u001b[0m \u001b[0;34m\u001b[0m\u001b[0m\n\u001b[1;32m   2808\u001b[0m         \u001b[0;31m# take() does not accept boolean indexers\u001b[0m\u001b[0;34m\u001b[0m\u001b[0;34m\u001b[0m\u001b[0;34m\u001b[0m\u001b[0m\n",
            "\u001b[0;32m/usr/local/lib/python3.6/dist-packages/pandas/core/indexing.py\u001b[0m in \u001b[0;36m_get_listlike_indexer\u001b[0;34m(self, key, axis, raise_missing)\u001b[0m\n\u001b[1;32m   1551\u001b[0m \u001b[0;34m\u001b[0m\u001b[0m\n\u001b[1;32m   1552\u001b[0m         self._validate_read_indexer(\n\u001b[0;32m-> 1553\u001b[0;31m             \u001b[0mkeyarr\u001b[0m\u001b[0;34m,\u001b[0m \u001b[0mindexer\u001b[0m\u001b[0;34m,\u001b[0m \u001b[0mo\u001b[0m\u001b[0;34m.\u001b[0m\u001b[0m_get_axis_number\u001b[0m\u001b[0;34m(\u001b[0m\u001b[0maxis\u001b[0m\u001b[0;34m)\u001b[0m\u001b[0;34m,\u001b[0m \u001b[0mraise_missing\u001b[0m\u001b[0;34m=\u001b[0m\u001b[0mraise_missing\u001b[0m\u001b[0;34m\u001b[0m\u001b[0;34m\u001b[0m\u001b[0m\n\u001b[0m\u001b[1;32m   1554\u001b[0m         )\n\u001b[1;32m   1555\u001b[0m         \u001b[0;32mreturn\u001b[0m \u001b[0mkeyarr\u001b[0m\u001b[0;34m,\u001b[0m \u001b[0mindexer\u001b[0m\u001b[0;34m\u001b[0m\u001b[0;34m\u001b[0m\u001b[0m\n",
            "\u001b[0;32m/usr/local/lib/python3.6/dist-packages/pandas/core/indexing.py\u001b[0m in \u001b[0;36m_validate_read_indexer\u001b[0;34m(self, key, indexer, axis, raise_missing)\u001b[0m\n\u001b[1;32m   1638\u001b[0m             \u001b[0;32mif\u001b[0m \u001b[0mmissing\u001b[0m \u001b[0;34m==\u001b[0m \u001b[0mlen\u001b[0m\u001b[0;34m(\u001b[0m\u001b[0mindexer\u001b[0m\u001b[0;34m)\u001b[0m\u001b[0;34m:\u001b[0m\u001b[0;34m\u001b[0m\u001b[0;34m\u001b[0m\u001b[0m\n\u001b[1;32m   1639\u001b[0m                 \u001b[0maxis_name\u001b[0m \u001b[0;34m=\u001b[0m \u001b[0mself\u001b[0m\u001b[0;34m.\u001b[0m\u001b[0mobj\u001b[0m\u001b[0;34m.\u001b[0m\u001b[0m_get_axis_name\u001b[0m\u001b[0;34m(\u001b[0m\u001b[0maxis\u001b[0m\u001b[0;34m)\u001b[0m\u001b[0;34m\u001b[0m\u001b[0;34m\u001b[0m\u001b[0m\n\u001b[0;32m-> 1640\u001b[0;31m                 \u001b[0;32mraise\u001b[0m \u001b[0mKeyError\u001b[0m\u001b[0;34m(\u001b[0m\u001b[0;34mf\"None of [{key}] are in the [{axis_name}]\"\u001b[0m\u001b[0;34m)\u001b[0m\u001b[0;34m\u001b[0m\u001b[0;34m\u001b[0m\u001b[0m\n\u001b[0m\u001b[1;32m   1641\u001b[0m \u001b[0;34m\u001b[0m\u001b[0m\n\u001b[1;32m   1642\u001b[0m             \u001b[0;31m# We (temporarily) allow for some missing keys with .loc, except in\u001b[0m\u001b[0;34m\u001b[0m\u001b[0;34m\u001b[0m\u001b[0;34m\u001b[0m\u001b[0m\n",
            "\u001b[0;31mKeyError\u001b[0m: \"None of [Index(['op_unique_carrier'], dtype='object')] are in the [columns]\""
          ]
        }
      ]
    },
    {
      "cell_type": "code",
      "metadata": {
        "id": "bRADFQ6dkycp",
        "colab_type": "code",
        "colab": {}
      },
      "source": [
        ""
      ],
      "execution_count": null,
      "outputs": []
    },
    {
      "cell_type": "code",
      "metadata": {
        "id": "d3u_ZEwDkycr",
        "colab_type": "code",
        "colab": {}
      },
      "source": [
        ""
      ],
      "execution_count": null,
      "outputs": []
    },
    {
      "cell_type": "code",
      "metadata": {
        "id": "N2ldBjE7kycu",
        "colab_type": "code",
        "colab": {}
      },
      "source": [
        ""
      ],
      "execution_count": null,
      "outputs": []
    },
    {
      "cell_type": "code",
      "metadata": {
        "id": "_wk5HQVZkycv",
        "colab_type": "code",
        "colab": {}
      },
      "source": [
        ""
      ],
      "execution_count": null,
      "outputs": []
    },
    {
      "cell_type": "markdown",
      "metadata": {
        "id": "Cqzjl1U-kycx",
        "colab_type": "text"
      },
      "source": [
        "### Drop columns"
      ]
    },
    {
      "cell_type": "code",
      "metadata": {
        "id": "dSefRULCkycx",
        "colab_type": "code",
        "colab": {
          "base_uri": "https://localhost:8080/",
          "height": 1000
        },
        "outputId": "ec341ab2-8477-4da7-b022-19e8698e1d8a"
      },
      "source": [
        "list(dfF.columns)"
      ],
      "execution_count": null,
      "outputs": [
        {
          "output_type": "execute_result",
          "data": {
            "text/plain": [
              "['fl_date',\n",
              " 'mkt_unique_carrier',\n",
              " 'branded_code_share',\n",
              " 'mkt_carrier',\n",
              " 'mkt_carrier_fl_num',\n",
              " 'tail_num',\n",
              " 'op_carrier_fl_num',\n",
              " 'origin_airport_id',\n",
              " 'origin',\n",
              " 'origin_city_name',\n",
              " 'dest_airport_id',\n",
              " 'dest',\n",
              " 'dest_city_name',\n",
              " 'crs_dep_time',\n",
              " 'dep_delay',\n",
              " 'crs_arr_time',\n",
              " 'dup',\n",
              " 'crs_elapsed_time',\n",
              " 'flights',\n",
              " 'distance',\n",
              " 'arr_delay',\n",
              " 'carrier_delay',\n",
              " 'weather_delay',\n",
              " 'nas_delay',\n",
              " 'security_delay',\n",
              " 'late_aircraft_delay',\n",
              " 'cancelled',\n",
              " 'taxi_in',\n",
              " 'taxi_out',\n",
              " 'diverted',\n",
              " 'iscarrier_delay',\n",
              " 'isweather_delay',\n",
              " 'isnas_delay',\n",
              " 'issecurity_delay',\n",
              " 'islate_aircraft_delay',\n",
              " 'delay_type',\n",
              " 'flight_number',\n",
              " 'fl_month',\n",
              " 'fl_day',\n",
              " 'fl_day_of_year',\n",
              " 'fl_day_of_week',\n",
              " 'dep_hour',\n",
              " 'arr_hour',\n",
              " 'duration_type',\n",
              " 'dep_daysection',\n",
              " 'arr_daysection',\n",
              " 'fl_season',\n",
              " 'origin_state',\n",
              " 'dest_state',\n",
              " 'origin_airport_vol',\n",
              " 'dest_airport_vol',\n",
              " 'carrier_origin_apt_vol',\n",
              " 'carrier_dest_apt_vol',\n",
              " 'carrier_origin_apt_pct',\n",
              " 'carrier_dest_apt_pct',\n",
              " 'mean_carrier_arr_delay',\n",
              " 'mean_carrier_arr_delay_month',\n",
              " 'mean_carrier_dep_delay_month',\n",
              " 'median_carrier_arr_delay_month',\n",
              " 'median_carrier_dep_delay_month',\n",
              " 'std_carrier_arr_delay_month',\n",
              " 'std_carrier_dep_delay_month',\n",
              " 'mean_carrier_origin_dep-hour_dep_delay',\n",
              " 'mean_carrier_dest_fl-hour_delay',\n",
              " 'median_carrier_origin_dep-hour_dep_delay',\n",
              " 'median_carrier_dest_fl-hour_delay',\n",
              " 'std_carrier_origin_dep-hour_dep_delay',\n",
              " 'std_carrier_dest_fl-hour_delay',\n",
              " 'mean_carrier_route_month_dow_dayS_dep-delay',\n",
              " 'mean_carrier_route_month_dow_dayS_arr-delay',\n",
              " 'median_carrier_route_month_dow_dayS_dep-delay',\n",
              " 'median_carrier_route_month_dow_dayS_arr-delay',\n",
              " 'std_carrier_route_month_dow_dayS_dep-delay',\n",
              " 'std_carrier_route_month_dow_dayS_arr-delay',\n",
              " 'mean_route_arr_delay_month',\n",
              " 'mean_route_dep_delay_month',\n",
              " 'mean_route_arr_delay_dow',\n",
              " 'mean_route_dep_delay_dow',\n",
              " 'mean_route_arr_delay_dep_hour',\n",
              " 'mean_route_dep_delay_dep_hour',\n",
              " 'mean_route_arr_delay_arr_hour',\n",
              " 'mean_route_dep_delay_arr_hour',\n",
              " 'median_route_arr_delay_month',\n",
              " 'median_route_dep_delay_month',\n",
              " 'median_route_arr_delay_dow',\n",
              " 'median_route_dep_delay_dow',\n",
              " 'median_route_arr_delay_dep_hour',\n",
              " 'median_route_dep_delay_dep_hour',\n",
              " 'median_route_arr_delay_arr_hour',\n",
              " 'median_route_dep_delay_arr_hour',\n",
              " 'std_route_arr_delay_month',\n",
              " 'std_route_dep_delay_month',\n",
              " 'std_route_arr_delay_dow',\n",
              " 'std_route_dep_delay_dow',\n",
              " 'std_route_arr_delay_dep_hour',\n",
              " 'std_route_dep_delay_dep_hour',\n",
              " 'std_route_arr_delay_arr_hour',\n",
              " 'std_route_dep_delay_arr_hour',\n",
              " 'origin_month_weather_delay_pct',\n",
              " 'dest_month_weather_delay_pct',\n",
              " 'route_month_weather_delay_pct',\n",
              " 'arr_daysection_carrier_delay_pct',\n",
              " 'dep_daysection_carrier_delay_pct',\n",
              " 'arr_daysection_weather_delay_pct',\n",
              " 'dep_daysection_weather_delay_pct',\n",
              " 'arr_daysection_nas_delay_pct',\n",
              " 'dep_daysection_nas_delay_pct',\n",
              " 'dep_daysection_security_delay_pct',\n",
              " 'dep_daysection_late_aircraft_delay_pct',\n",
              " 'carrier_carrier_delay_pct',\n",
              " 'carrier_weather_delay_pct',\n",
              " 'carrier_nas_delay_pct',\n",
              " 'carrier_security_delay_pct',\n",
              " 'carrier_late_aircraft_delay_pct',\n",
              " 'carrier_route_month_carrier_delay',\n",
              " 'carrier_route_month_late_aircraft_delay',\n",
              " 'origin_month_weekday_daysection_nas_delay',\n",
              " 'dest_month_weekday_daysection_nas_delay',\n",
              " 'route_month_weekday_daysection_nas_delay',\n",
              " 'op_unique_carrier_9K',\n",
              " 'op_unique_carrier_AA',\n",
              " 'op_unique_carrier_AS',\n",
              " 'op_unique_carrier_AX',\n",
              " 'op_unique_carrier_B6',\n",
              " 'op_unique_carrier_C5',\n",
              " 'op_unique_carrier_CP',\n",
              " 'op_unique_carrier_DL',\n",
              " 'op_unique_carrier_EM',\n",
              " 'op_unique_carrier_EV',\n",
              " 'op_unique_carrier_F9',\n",
              " 'op_unique_carrier_G4',\n",
              " 'op_unique_carrier_G7',\n",
              " 'op_unique_carrier_HA',\n",
              " 'op_unique_carrier_KS',\n",
              " 'op_unique_carrier_MQ',\n",
              " 'op_unique_carrier_NK',\n",
              " 'op_unique_carrier_OH',\n",
              " 'op_unique_carrier_OO',\n",
              " 'op_unique_carrier_PT',\n",
              " 'op_unique_carrier_QX',\n",
              " 'op_unique_carrier_UA',\n",
              " 'op_unique_carrier_VX',\n",
              " 'op_unique_carrier_WN',\n",
              " 'op_unique_carrier_YV',\n",
              " 'op_unique_carrier_YX',\n",
              " 'op_unique_carrier_ZW']"
            ]
          },
          "metadata": {
            "tags": []
          },
          "execution_count": 161
        }
      ]
    },
    {
      "cell_type": "code",
      "metadata": {
        "id": "0ThuQB5Bkycz",
        "colab_type": "code",
        "colab": {}
      },
      "source": [
        ""
      ],
      "execution_count": null,
      "outputs": []
    },
    {
      "cell_type": "code",
      "metadata": {
        "id": "hjIluZjvkyc1",
        "colab_type": "code",
        "colab": {}
      },
      "source": [
        "dfF1 = dfF"
      ],
      "execution_count": null,
      "outputs": []
    },
    {
      "cell_type": "code",
      "metadata": {
        "id": "Orqt92VMkyc3",
        "colab_type": "code",
        "colab": {}
      },
      "source": [
        "#dfF1 = dfF1.select_dtypes('number').dropna(axis='columns')"
      ],
      "execution_count": null,
      "outputs": []
    },
    {
      "cell_type": "code",
      "metadata": {
        "id": "9qHWNI_Rkyc6",
        "colab_type": "code",
        "colab": {}
      },
      "source": [
        ""
      ],
      "execution_count": null,
      "outputs": []
    },
    {
      "cell_type": "code",
      "metadata": {
        "id": "sWoTliFqkyc8",
        "colab_type": "code",
        "colab": {}
      },
      "source": [
        ""
      ],
      "execution_count": null,
      "outputs": []
    },
    {
      "cell_type": "code",
      "metadata": {
        "id": "2BeXNiYGkyc-",
        "colab_type": "code",
        "colab": {}
      },
      "source": [
        "#dfF1"
      ],
      "execution_count": null,
      "outputs": []
    },
    {
      "cell_type": "code",
      "metadata": {
        "id": "Z3I1TPyKkydC",
        "colab_type": "code",
        "colab": {}
      },
      "source": [
        "dfF1 = dfF1.drop([\n",
        "'carrier_delay',\n",
        " 'weather_delay',\n",
        " 'nas_delay',\n",
        " 'security_delay',\n",
        " 'late_aircraft_delay',                             \n",
        "'iscarrier_delay',\n",
        " 'isweather_delay',\n",
        " 'isnas_delay',\n",
        " 'issecurity_delay',\n",
        " 'islate_aircraft_delay'],axis=1)"
      ],
      "execution_count": null,
      "outputs": []
    },
    {
      "cell_type": "code",
      "metadata": {
        "id": "95_P6dtTkydE",
        "colab_type": "code",
        "colab": {}
      },
      "source": [
        ""
      ],
      "execution_count": null,
      "outputs": []
    },
    {
      "cell_type": "markdown",
      "metadata": {
        "id": "6BYBKlpMkydG",
        "colab_type": "text"
      },
      "source": [
        "## Deal with Naans"
      ]
    },
    {
      "cell_type": "code",
      "metadata": {
        "id": "xf4WSUPCkydG",
        "colab_type": "code",
        "colab": {
          "base_uri": "https://localhost:8080/",
          "height": 1000
        },
        "outputId": "36d717ed-87db-4e8c-8a7d-e1f2dc9c87ce"
      },
      "source": [
        "total = dfF1.isnull().sum().sort_values(ascending=False)\n",
        "percent = (dfF1.isnull().sum()/dfF1.isnull().count()).sort_values(ascending=False)\n",
        "missing_data = pd.concat([total, percent], axis=1, keys=['Total', 'Percent'])\n",
        "missing_data.head(50)"
      ],
      "execution_count": null,
      "outputs": [
        {
          "output_type": "execute_result",
          "data": {
            "text/html": [
              "<div>\n",
              "<style scoped>\n",
              "    .dataframe tbody tr th:only-of-type {\n",
              "        vertical-align: middle;\n",
              "    }\n",
              "\n",
              "    .dataframe tbody tr th {\n",
              "        vertical-align: top;\n",
              "    }\n",
              "\n",
              "    .dataframe thead th {\n",
              "        text-align: right;\n",
              "    }\n",
              "</style>\n",
              "<table border=\"1\" class=\"dataframe\">\n",
              "  <thead>\n",
              "    <tr style=\"text-align: right;\">\n",
              "      <th></th>\n",
              "      <th>Total</th>\n",
              "      <th>Percent</th>\n",
              "    </tr>\n",
              "  </thead>\n",
              "  <tbody>\n",
              "    <tr>\n",
              "      <th>delay_type</th>\n",
              "      <td>1291631</td>\n",
              "      <td>0.811100</td>\n",
              "    </tr>\n",
              "    <tr>\n",
              "      <th>std_carrier_route_month_dow_dayS_arr-delay</th>\n",
              "      <td>677141</td>\n",
              "      <td>0.425221</td>\n",
              "    </tr>\n",
              "    <tr>\n",
              "      <th>std_carrier_route_month_dow_dayS_dep-delay</th>\n",
              "      <td>656026</td>\n",
              "      <td>0.411962</td>\n",
              "    </tr>\n",
              "    <tr>\n",
              "      <th>arr_delay</th>\n",
              "      <td>31241</td>\n",
              "      <td>0.019618</td>\n",
              "    </tr>\n",
              "    <tr>\n",
              "      <th>taxi_in</th>\n",
              "      <td>28187</td>\n",
              "      <td>0.017700</td>\n",
              "    </tr>\n",
              "    <tr>\n",
              "      <th>taxi_out</th>\n",
              "      <td>27433</td>\n",
              "      <td>0.017227</td>\n",
              "    </tr>\n",
              "    <tr>\n",
              "      <th>dep_delay</th>\n",
              "      <td>26581</td>\n",
              "      <td>0.016692</td>\n",
              "    </tr>\n",
              "    <tr>\n",
              "      <th>mean_carrier_route_month_dow_dayS_arr-delay</th>\n",
              "      <td>14157</td>\n",
              "      <td>0.008890</td>\n",
              "    </tr>\n",
              "    <tr>\n",
              "      <th>median_carrier_route_month_dow_dayS_arr-delay</th>\n",
              "      <td>14157</td>\n",
              "      <td>0.008890</td>\n",
              "    </tr>\n",
              "    <tr>\n",
              "      <th>median_carrier_route_month_dow_dayS_dep-delay</th>\n",
              "      <td>11801</td>\n",
              "      <td>0.007411</td>\n",
              "    </tr>\n",
              "    <tr>\n",
              "      <th>mean_carrier_route_month_dow_dayS_dep-delay</th>\n",
              "      <td>11801</td>\n",
              "      <td>0.007411</td>\n",
              "    </tr>\n",
              "    <tr>\n",
              "      <th>tail_num</th>\n",
              "      <td>5008</td>\n",
              "      <td>0.003145</td>\n",
              "    </tr>\n",
              "    <tr>\n",
              "      <th>std_route_arr_delay_month</th>\n",
              "      <td>4516</td>\n",
              "      <td>0.002836</td>\n",
              "    </tr>\n",
              "    <tr>\n",
              "      <th>std_route_dep_delay_month</th>\n",
              "      <td>4473</td>\n",
              "      <td>0.002809</td>\n",
              "    </tr>\n",
              "    <tr>\n",
              "      <th>std_carrier_dest_fl-hour_delay</th>\n",
              "      <td>2372</td>\n",
              "      <td>0.001490</td>\n",
              "    </tr>\n",
              "    <tr>\n",
              "      <th>std_carrier_origin_dep-hour_dep_delay</th>\n",
              "      <td>2189</td>\n",
              "      <td>0.001375</td>\n",
              "    </tr>\n",
              "    <tr>\n",
              "      <th>std_route_arr_delay_dow</th>\n",
              "      <td>1963</td>\n",
              "      <td>0.001233</td>\n",
              "    </tr>\n",
              "    <tr>\n",
              "      <th>std_route_dep_delay_dow</th>\n",
              "      <td>1945</td>\n",
              "      <td>0.001221</td>\n",
              "    </tr>\n",
              "    <tr>\n",
              "      <th>std_route_arr_delay_arr_hour</th>\n",
              "      <td>1175</td>\n",
              "      <td>0.000738</td>\n",
              "    </tr>\n",
              "    <tr>\n",
              "      <th>std_route_dep_delay_arr_hour</th>\n",
              "      <td>1161</td>\n",
              "      <td>0.000729</td>\n",
              "    </tr>\n",
              "    <tr>\n",
              "      <th>std_route_arr_delay_dep_hour</th>\n",
              "      <td>1157</td>\n",
              "      <td>0.000727</td>\n",
              "    </tr>\n",
              "    <tr>\n",
              "      <th>std_route_dep_delay_dep_hour</th>\n",
              "      <td>1151</td>\n",
              "      <td>0.000723</td>\n",
              "    </tr>\n",
              "    <tr>\n",
              "      <th>mean_route_arr_delay_month</th>\n",
              "      <td>62</td>\n",
              "      <td>0.000039</td>\n",
              "    </tr>\n",
              "    <tr>\n",
              "      <th>median_route_arr_delay_month</th>\n",
              "      <td>62</td>\n",
              "      <td>0.000039</td>\n",
              "    </tr>\n",
              "    <tr>\n",
              "      <th>mean_carrier_dest_fl-hour_delay</th>\n",
              "      <td>55</td>\n",
              "      <td>0.000035</td>\n",
              "    </tr>\n",
              "    <tr>\n",
              "      <th>median_carrier_dest_fl-hour_delay</th>\n",
              "      <td>55</td>\n",
              "      <td>0.000035</td>\n",
              "    </tr>\n",
              "    <tr>\n",
              "      <th>median_route_arr_delay_dow</th>\n",
              "      <td>55</td>\n",
              "      <td>0.000035</td>\n",
              "    </tr>\n",
              "    <tr>\n",
              "      <th>mean_route_arr_delay_dow</th>\n",
              "      <td>55</td>\n",
              "      <td>0.000035</td>\n",
              "    </tr>\n",
              "    <tr>\n",
              "      <th>mean_carrier_origin_dep-hour_dep_delay</th>\n",
              "      <td>47</td>\n",
              "      <td>0.000030</td>\n",
              "    </tr>\n",
              "    <tr>\n",
              "      <th>median_carrier_origin_dep-hour_dep_delay</th>\n",
              "      <td>47</td>\n",
              "      <td>0.000030</td>\n",
              "    </tr>\n",
              "    <tr>\n",
              "      <th>mean_route_dep_delay_month</th>\n",
              "      <td>45</td>\n",
              "      <td>0.000028</td>\n",
              "    </tr>\n",
              "    <tr>\n",
              "      <th>median_route_dep_delay_month</th>\n",
              "      <td>45</td>\n",
              "      <td>0.000028</td>\n",
              "    </tr>\n",
              "    <tr>\n",
              "      <th>mean_route_dep_delay_dow</th>\n",
              "      <td>40</td>\n",
              "      <td>0.000025</td>\n",
              "    </tr>\n",
              "    <tr>\n",
              "      <th>median_route_dep_delay_dow</th>\n",
              "      <td>40</td>\n",
              "      <td>0.000025</td>\n",
              "    </tr>\n",
              "    <tr>\n",
              "      <th>median_route_arr_delay_dep_hour</th>\n",
              "      <td>32</td>\n",
              "      <td>0.000020</td>\n",
              "    </tr>\n",
              "    <tr>\n",
              "      <th>mean_route_arr_delay_dep_hour</th>\n",
              "      <td>32</td>\n",
              "      <td>0.000020</td>\n",
              "    </tr>\n",
              "    <tr>\n",
              "      <th>median_route_arr_delay_arr_hour</th>\n",
              "      <td>31</td>\n",
              "      <td>0.000019</td>\n",
              "    </tr>\n",
              "    <tr>\n",
              "      <th>mean_route_arr_delay_arr_hour</th>\n",
              "      <td>31</td>\n",
              "      <td>0.000019</td>\n",
              "    </tr>\n",
              "    <tr>\n",
              "      <th>median_route_dep_delay_dep_hour</th>\n",
              "      <td>23</td>\n",
              "      <td>0.000014</td>\n",
              "    </tr>\n",
              "    <tr>\n",
              "      <th>mean_route_dep_delay_dep_hour</th>\n",
              "      <td>23</td>\n",
              "      <td>0.000014</td>\n",
              "    </tr>\n",
              "    <tr>\n",
              "      <th>median_route_dep_delay_arr_hour</th>\n",
              "      <td>20</td>\n",
              "      <td>0.000013</td>\n",
              "    </tr>\n",
              "    <tr>\n",
              "      <th>mean_route_dep_delay_arr_hour</th>\n",
              "      <td>20</td>\n",
              "      <td>0.000013</td>\n",
              "    </tr>\n",
              "    <tr>\n",
              "      <th>duration_type</th>\n",
              "      <td>6</td>\n",
              "      <td>0.000004</td>\n",
              "    </tr>\n",
              "    <tr>\n",
              "      <th>crs_elapsed_time</th>\n",
              "      <td>6</td>\n",
              "      <td>0.000004</td>\n",
              "    </tr>\n",
              "    <tr>\n",
              "      <th>mean_carrier_arr_delay_month</th>\n",
              "      <td>0</td>\n",
              "      <td>0.000000</td>\n",
              "    </tr>\n",
              "    <tr>\n",
              "      <th>mean_carrier_dep_delay_month</th>\n",
              "      <td>0</td>\n",
              "      <td>0.000000</td>\n",
              "    </tr>\n",
              "    <tr>\n",
              "      <th>carrier_origin_apt_vol</th>\n",
              "      <td>0</td>\n",
              "      <td>0.000000</td>\n",
              "    </tr>\n",
              "    <tr>\n",
              "      <th>mean_carrier_arr_delay</th>\n",
              "      <td>0</td>\n",
              "      <td>0.000000</td>\n",
              "    </tr>\n",
              "    <tr>\n",
              "      <th>dest_airport_id</th>\n",
              "      <td>0</td>\n",
              "      <td>0.000000</td>\n",
              "    </tr>\n",
              "    <tr>\n",
              "      <th>distance</th>\n",
              "      <td>0</td>\n",
              "      <td>0.000000</td>\n",
              "    </tr>\n",
              "  </tbody>\n",
              "</table>\n",
              "</div>"
            ],
            "text/plain": [
              "                                                 Total   Percent\n",
              "delay_type                                     1291631  0.811100\n",
              "std_carrier_route_month_dow_dayS_arr-delay      677141  0.425221\n",
              "std_carrier_route_month_dow_dayS_dep-delay      656026  0.411962\n",
              "arr_delay                                        31241  0.019618\n",
              "taxi_in                                          28187  0.017700\n",
              "taxi_out                                         27433  0.017227\n",
              "dep_delay                                        26581  0.016692\n",
              "mean_carrier_route_month_dow_dayS_arr-delay      14157  0.008890\n",
              "median_carrier_route_month_dow_dayS_arr-delay    14157  0.008890\n",
              "median_carrier_route_month_dow_dayS_dep-delay    11801  0.007411\n",
              "mean_carrier_route_month_dow_dayS_dep-delay      11801  0.007411\n",
              "tail_num                                          5008  0.003145\n",
              "std_route_arr_delay_month                         4516  0.002836\n",
              "std_route_dep_delay_month                         4473  0.002809\n",
              "std_carrier_dest_fl-hour_delay                    2372  0.001490\n",
              "std_carrier_origin_dep-hour_dep_delay             2189  0.001375\n",
              "std_route_arr_delay_dow                           1963  0.001233\n",
              "std_route_dep_delay_dow                           1945  0.001221\n",
              "std_route_arr_delay_arr_hour                      1175  0.000738\n",
              "std_route_dep_delay_arr_hour                      1161  0.000729\n",
              "std_route_arr_delay_dep_hour                      1157  0.000727\n",
              "std_route_dep_delay_dep_hour                      1151  0.000723\n",
              "mean_route_arr_delay_month                          62  0.000039\n",
              "median_route_arr_delay_month                        62  0.000039\n",
              "mean_carrier_dest_fl-hour_delay                     55  0.000035\n",
              "median_carrier_dest_fl-hour_delay                   55  0.000035\n",
              "median_route_arr_delay_dow                          55  0.000035\n",
              "mean_route_arr_delay_dow                            55  0.000035\n",
              "mean_carrier_origin_dep-hour_dep_delay              47  0.000030\n",
              "median_carrier_origin_dep-hour_dep_delay            47  0.000030\n",
              "mean_route_dep_delay_month                          45  0.000028\n",
              "median_route_dep_delay_month                        45  0.000028\n",
              "mean_route_dep_delay_dow                            40  0.000025\n",
              "median_route_dep_delay_dow                          40  0.000025\n",
              "median_route_arr_delay_dep_hour                     32  0.000020\n",
              "mean_route_arr_delay_dep_hour                       32  0.000020\n",
              "median_route_arr_delay_arr_hour                     31  0.000019\n",
              "mean_route_arr_delay_arr_hour                       31  0.000019\n",
              "median_route_dep_delay_dep_hour                     23  0.000014\n",
              "mean_route_dep_delay_dep_hour                       23  0.000014\n",
              "median_route_dep_delay_arr_hour                     20  0.000013\n",
              "mean_route_dep_delay_arr_hour                       20  0.000013\n",
              "duration_type                                        6  0.000004\n",
              "crs_elapsed_time                                     6  0.000004\n",
              "mean_carrier_arr_delay_month                         0  0.000000\n",
              "mean_carrier_dep_delay_month                         0  0.000000\n",
              "carrier_origin_apt_vol                               0  0.000000\n",
              "mean_carrier_arr_delay                               0  0.000000\n",
              "dest_airport_id                                      0  0.000000\n",
              "distance                                             0  0.000000"
            ]
          },
          "metadata": {
            "tags": []
          },
          "execution_count": 165
        }
      ]
    },
    {
      "cell_type": "code",
      "metadata": {
        "id": "HBmDtViIkydI",
        "colab_type": "code",
        "colab": {}
      },
      "source": [
        "# Remove Nans\n",
        "dfF1 = dfF1[dfF1['delay_type'].notnull()]\n",
        "dfF1 = dfF1[dfF1['duration_type'].notnull()]\n",
        "# dfF1 = dfF1[dfF1['crs_elapsed_time'].notnull()]"
      ],
      "execution_count": null,
      "outputs": []
    },
    {
      "cell_type": "code",
      "metadata": {
        "id": "XLZ5gkjzkydJ",
        "colab_type": "code",
        "colab": {}
      },
      "source": [
        "dfF1 = dfF1[dfF1['taxi_in'].notnull()]\n",
        "dfF1 = dfF1[dfF1['taxi_out'].notnull()]\n",
        "dfF1 = dfF1[dfF1['dep_delay'].notnull()]\n",
        "dfF1 = dfF1[dfF1['mean_carrier_route_month_dow_dayS_dep-delay'].notnull()]\n",
        "dfF1 = dfF1[dfF1['median_carrier_route_month_dow_dayS_dep-delay'].notnull()]"
      ],
      "execution_count": null,
      "outputs": []
    },
    {
      "cell_type": "code",
      "metadata": {
        "id": "_RcJZwYDkydM",
        "colab_type": "code",
        "colab": {}
      },
      "source": [
        "# Keep numerical data only\n",
        "dfF1 = dfF1.select_dtypes('number')\n",
        "# Remove Columns with Nans\n",
        "dfF1 = dfF1.select_dtypes('number').dropna(axis='columns')"
      ],
      "execution_count": null,
      "outputs": []
    },
    {
      "cell_type": "code",
      "metadata": {
        "id": "Q96RX2GGkydN",
        "colab_type": "code",
        "colab": {}
      },
      "source": [
        "y = dfF1.delay_type\n",
        "df_numeric = dfF1.drop([\"delay_type\"],axis=1)\n",
        "\n",
        "from sklearn.feature_selection import VarianceThreshold\n",
        "# remove features with small variance\n",
        "vt = VarianceThreshold(0.1)\n",
        "df_transformed = vt.fit_transform(df_numeric)\n",
        "selected_columns = df_numeric.columns[vt.get_support()]\n",
        "# transforming an array back to a data-frame preserves column labels\n",
        "df_transformed = pd.DataFrame(df_transformed, columns = selected_columns)"
      ],
      "execution_count": null,
      "outputs": []
    },
    {
      "cell_type": "code",
      "metadata": {
        "id": "bVy0bU70kydP",
        "colab_type": "code",
        "colab": {}
      },
      "source": [
        "# remove highly correlated pairs\n",
        "df_corr = df_transformed.corr().abs()\n",
        "indices = np.where(df_corr > 0.9)\n",
        "indices = [(df_corr.index[x], df_corr.columns[y]) for x, y in zip(*indices)\n",
        "              if x != y and x < y]\n",
        "for idx in indices:\n",
        "    try:\n",
        "        df_transformed.drop(idx[1], axis = 1, inplace=True)\n",
        "    except KeyError:\n",
        "        pass"
      ],
      "execution_count": null,
      "outputs": []
    },
    {
      "cell_type": "code",
      "metadata": {
        "id": "gKtP5YNukydR",
        "colab_type": "code",
        "colab": {
          "base_uri": "https://localhost:8080/",
          "height": 326
        },
        "outputId": "0ebbfb78-af7c-43bf-d96e-f8f61c3a9304"
      },
      "source": [
        "# forward regression\n",
        "from sklearn.feature_selection import f_regression, SelectKBest\n",
        "skb = SelectKBest(f_regression, k=30)\n",
        "X = skb.fit_transform(df_transformed, y)\n",
        "X = pd.DataFrame(X,columns=df_transformed.columns[skb.get_support()])\n",
        "X.columns"
      ],
      "execution_count": null,
      "outputs": [
        {
          "output_type": "execute_result",
          "data": {
            "text/plain": [
              "Index(['mkt_carrier_fl_num', 'origin_airport_id', 'crs_elapsed_time',\n",
              "       'taxi_out', 'dep_daysection', 'arr_daysection', 'origin_airport_vol',\n",
              "       'carrier_origin_apt_vol', 'carrier_dest_apt_vol',\n",
              "       'carrier_origin_apt_pct', 'carrier_dest_apt_pct',\n",
              "       'mean_carrier_arr_delay_month',\n",
              "       'mean_carrier_origin_dep-hour_dep_delay',\n",
              "       'mean_carrier_dest_fl-hour_delay',\n",
              "       'median_carrier_origin_dep-hour_dep_delay',\n",
              "       'median_carrier_dest_fl-hour_delay', 'mean_route_arr_delay_dep_hour',\n",
              "       'mean_route_arr_delay_arr_hour', 'median_route_arr_delay_dep_hour',\n",
              "       'median_route_dep_delay_dep_hour', 'median_route_arr_delay_arr_hour',\n",
              "       'median_route_dep_delay_arr_hour', 'route_month_weather_delay_pct',\n",
              "       'arr_daysection_carrier_delay_pct', 'arr_daysection_nas_delay_pct',\n",
              "       'dep_daysection_nas_delay_pct', 'carrier_late_aircraft_delay_pct',\n",
              "       'carrier_route_month_carrier_delay',\n",
              "       'carrier_route_month_late_aircraft_delay',\n",
              "       'route_month_weekday_daysection_nas_delay'],\n",
              "      dtype='object')"
            ]
          },
          "metadata": {
            "tags": []
          },
          "execution_count": 171
        }
      ]
    },
    {
      "cell_type": "code",
      "metadata": {
        "id": "qvVHwSZkkydU",
        "colab_type": "code",
        "colab": {}
      },
      "source": [
        "#X = X.drop('dep_delay',axis=1)"
      ],
      "execution_count": 121,
      "outputs": []
    },
    {
      "cell_type": "code",
      "metadata": {
        "id": "BvOp4eTtkydV",
        "colab_type": "code",
        "colab": {}
      },
      "source": [
        ""
      ],
      "execution_count": null,
      "outputs": []
    },
    {
      "cell_type": "code",
      "metadata": {
        "id": "smhXXhdokydX",
        "colab_type": "code",
        "colab": {}
      },
      "source": [
        ""
      ],
      "execution_count": null,
      "outputs": []
    },
    {
      "cell_type": "markdown",
      "metadata": {
        "id": "71LXiRsVkydZ",
        "colab_type": "text"
      },
      "source": [
        "# Modelling"
      ]
    },
    {
      "cell_type": "code",
      "metadata": {
        "id": "p7R3Oe1Rkyda",
        "colab_type": "code",
        "colab": {}
      },
      "source": [
        "# Find 50 features\n"
      ],
      "execution_count": null,
      "outputs": []
    },
    {
      "cell_type": "code",
      "metadata": {
        "id": "eDQj53Bgkydc",
        "colab_type": "code",
        "colab": {}
      },
      "source": [
        "# Assign X and y\n",
        "#X = dfF1.drop('delay_type',axis=1)\n",
        "#y = dfF1['delay_type']"
      ],
      "execution_count": null,
      "outputs": []
    },
    {
      "cell_type": "code",
      "metadata": {
        "id": "fVaOPwghkydd",
        "colab_type": "code",
        "colab": {}
      },
      "source": [
        "# Data test train Split\n",
        "\n",
        "from sklearn.model_selection import train_test_split\n",
        "X_train,X_test,y_train,y_test=train_test_split(X,y,train_size=0.80,random_state=1,stratify=y)\n"
      ],
      "execution_count": null,
      "outputs": []
    },
    {
      "cell_type": "code",
      "metadata": {
        "id": "DptOCRlnkydf",
        "colab_type": "code",
        "colab": {
          "base_uri": "https://localhost:8080/",
          "height": 454
        },
        "outputId": "020abc56-e4da-486e-c27c-df8f0d9cb69f"
      },
      "source": [
        "X_train"
      ],
      "execution_count": null,
      "outputs": [
        {
          "output_type": "execute_result",
          "data": {
            "text/html": [
              "<div>\n",
              "<style scoped>\n",
              "    .dataframe tbody tr th:only-of-type {\n",
              "        vertical-align: middle;\n",
              "    }\n",
              "\n",
              "    .dataframe tbody tr th {\n",
              "        vertical-align: top;\n",
              "    }\n",
              "\n",
              "    .dataframe thead th {\n",
              "        text-align: right;\n",
              "    }\n",
              "</style>\n",
              "<table border=\"1\" class=\"dataframe\">\n",
              "  <thead>\n",
              "    <tr style=\"text-align: right;\">\n",
              "      <th></th>\n",
              "      <th>mkt_carrier_fl_num</th>\n",
              "      <th>origin_airport_id</th>\n",
              "      <th>crs_elapsed_time</th>\n",
              "      <th>taxi_out</th>\n",
              "      <th>dep_daysection</th>\n",
              "      <th>arr_daysection</th>\n",
              "      <th>origin_airport_vol</th>\n",
              "      <th>carrier_origin_apt_vol</th>\n",
              "      <th>carrier_dest_apt_vol</th>\n",
              "      <th>carrier_origin_apt_pct</th>\n",
              "      <th>carrier_dest_apt_pct</th>\n",
              "      <th>mean_carrier_arr_delay_month</th>\n",
              "      <th>mean_carrier_origin_dep-hour_dep_delay</th>\n",
              "      <th>mean_carrier_dest_fl-hour_delay</th>\n",
              "      <th>median_carrier_origin_dep-hour_dep_delay</th>\n",
              "      <th>median_carrier_dest_fl-hour_delay</th>\n",
              "      <th>mean_route_arr_delay_dep_hour</th>\n",
              "      <th>mean_route_arr_delay_arr_hour</th>\n",
              "      <th>median_route_arr_delay_dep_hour</th>\n",
              "      <th>median_route_dep_delay_dep_hour</th>\n",
              "      <th>median_route_arr_delay_arr_hour</th>\n",
              "      <th>median_route_dep_delay_arr_hour</th>\n",
              "      <th>route_month_weather_delay_pct</th>\n",
              "      <th>arr_daysection_carrier_delay_pct</th>\n",
              "      <th>arr_daysection_nas_delay_pct</th>\n",
              "      <th>dep_daysection_nas_delay_pct</th>\n",
              "      <th>carrier_late_aircraft_delay_pct</th>\n",
              "      <th>carrier_route_month_carrier_delay</th>\n",
              "      <th>carrier_route_month_late_aircraft_delay</th>\n",
              "      <th>route_month_weekday_daysection_nas_delay</th>\n",
              "    </tr>\n",
              "  </thead>\n",
              "  <tbody>\n",
              "    <tr>\n",
              "      <th>20723</th>\n",
              "      <td>5712.0</td>\n",
              "      <td>14747.0</td>\n",
              "      <td>134.0</td>\n",
              "      <td>13.0</td>\n",
              "      <td>2.0</td>\n",
              "      <td>3.0</td>\n",
              "      <td>37819.0</td>\n",
              "      <td>2827.0</td>\n",
              "      <td>1322.0</td>\n",
              "      <td>7.475079</td>\n",
              "      <td>3.495597</td>\n",
              "      <td>1.760079</td>\n",
              "      <td>14.549206</td>\n",
              "      <td>-1.094595</td>\n",
              "      <td>-2.0</td>\n",
              "      <td>-10.5</td>\n",
              "      <td>3.685333</td>\n",
              "      <td>-0.913420</td>\n",
              "      <td>-6.0</td>\n",
              "      <td>-2.0</td>\n",
              "      <td>-5.0</td>\n",
              "      <td>-2.0</td>\n",
              "      <td>1.020408</td>\n",
              "      <td>5.153119</td>\n",
              "      <td>7.189542</td>\n",
              "      <td>6.209534</td>\n",
              "      <td>8.345150</td>\n",
              "      <td>15.789474</td>\n",
              "      <td>5.263158</td>\n",
              "      <td>0.000000</td>\n",
              "    </tr>\n",
              "    <tr>\n",
              "      <th>222819</th>\n",
              "      <td>1813.0</td>\n",
              "      <td>14100.0</td>\n",
              "      <td>138.0</td>\n",
              "      <td>24.0</td>\n",
              "      <td>2.0</td>\n",
              "      <td>3.0</td>\n",
              "      <td>31102.0</td>\n",
              "      <td>9824.0</td>\n",
              "      <td>2466.0</td>\n",
              "      <td>31.586393</td>\n",
              "      <td>7.928751</td>\n",
              "      <td>2.299194</td>\n",
              "      <td>10.069079</td>\n",
              "      <td>19.680000</td>\n",
              "      <td>-3.0</td>\n",
              "      <td>3.0</td>\n",
              "      <td>-0.991170</td>\n",
              "      <td>5.053942</td>\n",
              "      <td>-9.0</td>\n",
              "      <td>-2.0</td>\n",
              "      <td>-4.0</td>\n",
              "      <td>0.0</td>\n",
              "      <td>0.000000</td>\n",
              "      <td>5.153119</td>\n",
              "      <td>7.189542</td>\n",
              "      <td>6.209534</td>\n",
              "      <td>7.184755</td>\n",
              "      <td>9.677419</td>\n",
              "      <td>12.903226</td>\n",
              "      <td>0.000000</td>\n",
              "    </tr>\n",
              "    <tr>\n",
              "      <th>128664</th>\n",
              "      <td>494.0</td>\n",
              "      <td>11057.0</td>\n",
              "      <td>58.0</td>\n",
              "      <td>30.0</td>\n",
              "      <td>4.0</td>\n",
              "      <td>4.0</td>\n",
              "      <td>50167.0</td>\n",
              "      <td>19588.0</td>\n",
              "      <td>2013.0</td>\n",
              "      <td>39.045588</td>\n",
              "      <td>4.012598</td>\n",
              "      <td>5.091603</td>\n",
              "      <td>16.526633</td>\n",
              "      <td>12.518717</td>\n",
              "      <td>0.0</td>\n",
              "      <td>0.0</td>\n",
              "      <td>17.042553</td>\n",
              "      <td>17.042553</td>\n",
              "      <td>3.0</td>\n",
              "      <td>1.0</td>\n",
              "      <td>3.0</td>\n",
              "      <td>1.0</td>\n",
              "      <td>0.000000</td>\n",
              "      <td>6.273976</td>\n",
              "      <td>6.307453</td>\n",
              "      <td>4.593159</td>\n",
              "      <td>7.184755</td>\n",
              "      <td>2.040816</td>\n",
              "      <td>2.040816</td>\n",
              "      <td>100.000000</td>\n",
              "    </tr>\n",
              "    <tr>\n",
              "      <th>43872</th>\n",
              "      <td>4323.0</td>\n",
              "      <td>14831.0</td>\n",
              "      <td>145.0</td>\n",
              "      <td>17.0</td>\n",
              "      <td>2.0</td>\n",
              "      <td>3.0</td>\n",
              "      <td>13688.0</td>\n",
              "      <td>6688.0</td>\n",
              "      <td>13926.0</td>\n",
              "      <td>48.860316</td>\n",
              "      <td>101.738749</td>\n",
              "      <td>6.584201</td>\n",
              "      <td>10.250000</td>\n",
              "      <td>10.073544</td>\n",
              "      <td>1.0</td>\n",
              "      <td>0.0</td>\n",
              "      <td>4.077236</td>\n",
              "      <td>-1.072289</td>\n",
              "      <td>-6.0</td>\n",
              "      <td>-1.0</td>\n",
              "      <td>-8.0</td>\n",
              "      <td>-1.0</td>\n",
              "      <td>0.000000</td>\n",
              "      <td>5.153119</td>\n",
              "      <td>7.189542</td>\n",
              "      <td>6.209534</td>\n",
              "      <td>8.783435</td>\n",
              "      <td>3.448276</td>\n",
              "      <td>13.793103</td>\n",
              "      <td>16.666667</td>\n",
              "    </tr>\n",
              "    <tr>\n",
              "      <th>189093</th>\n",
              "      <td>4515.0</td>\n",
              "      <td>14100.0</td>\n",
              "      <td>71.0</td>\n",
              "      <td>33.0</td>\n",
              "      <td>3.0</td>\n",
              "      <td>3.0</td>\n",
              "      <td>31102.0</td>\n",
              "      <td>3772.0</td>\n",
              "      <td>6626.0</td>\n",
              "      <td>12.127837</td>\n",
              "      <td>21.304096</td>\n",
              "      <td>7.606678</td>\n",
              "      <td>7.529880</td>\n",
              "      <td>10.739336</td>\n",
              "      <td>-4.0</td>\n",
              "      <td>-7.0</td>\n",
              "      <td>14.062500</td>\n",
              "      <td>6.154639</td>\n",
              "      <td>-9.5</td>\n",
              "      <td>-2.0</td>\n",
              "      <td>-11.0</td>\n",
              "      <td>-3.0</td>\n",
              "      <td>0.000000</td>\n",
              "      <td>5.153119</td>\n",
              "      <td>7.189542</td>\n",
              "      <td>6.870966</td>\n",
              "      <td>6.325297</td>\n",
              "      <td>0.000000</td>\n",
              "      <td>0.000000</td>\n",
              "      <td>50.000000</td>\n",
              "    </tr>\n",
              "    <tr>\n",
              "      <th>...</th>\n",
              "      <td>...</td>\n",
              "      <td>...</td>\n",
              "      <td>...</td>\n",
              "      <td>...</td>\n",
              "      <td>...</td>\n",
              "      <td>...</td>\n",
              "      <td>...</td>\n",
              "      <td>...</td>\n",
              "      <td>...</td>\n",
              "      <td>...</td>\n",
              "      <td>...</td>\n",
              "      <td>...</td>\n",
              "      <td>...</td>\n",
              "      <td>...</td>\n",
              "      <td>...</td>\n",
              "      <td>...</td>\n",
              "      <td>...</td>\n",
              "      <td>...</td>\n",
              "      <td>...</td>\n",
              "      <td>...</td>\n",
              "      <td>...</td>\n",
              "      <td>...</td>\n",
              "      <td>...</td>\n",
              "      <td>...</td>\n",
              "      <td>...</td>\n",
              "      <td>...</td>\n",
              "      <td>...</td>\n",
              "      <td>...</td>\n",
              "      <td>...</td>\n",
              "      <td>...</td>\n",
              "    </tr>\n",
              "    <tr>\n",
              "      <th>280229</th>\n",
              "      <td>2410.0</td>\n",
              "      <td>10397.0</td>\n",
              "      <td>137.0</td>\n",
              "      <td>27.0</td>\n",
              "      <td>2.0</td>\n",
              "      <td>3.0</td>\n",
              "      <td>78303.0</td>\n",
              "      <td>48800.0</td>\n",
              "      <td>1128.0</td>\n",
              "      <td>62.322006</td>\n",
              "      <td>1.440558</td>\n",
              "      <td>-1.367736</td>\n",
              "      <td>6.801622</td>\n",
              "      <td>15.835616</td>\n",
              "      <td>-1.0</td>\n",
              "      <td>3.0</td>\n",
              "      <td>24.194444</td>\n",
              "      <td>29.652542</td>\n",
              "      <td>1.0</td>\n",
              "      <td>5.0</td>\n",
              "      <td>7.0</td>\n",
              "      <td>11.0</td>\n",
              "      <td>1.000000</td>\n",
              "      <td>5.153119</td>\n",
              "      <td>7.189542</td>\n",
              "      <td>6.209534</td>\n",
              "      <td>4.222974</td>\n",
              "      <td>0.000000</td>\n",
              "      <td>2.127660</td>\n",
              "      <td>33.333333</td>\n",
              "    </tr>\n",
              "    <tr>\n",
              "      <th>60166</th>\n",
              "      <td>1114.0</td>\n",
              "      <td>14683.0</td>\n",
              "      <td>195.0</td>\n",
              "      <td>11.0</td>\n",
              "      <td>2.0</td>\n",
              "      <td>2.0</td>\n",
              "      <td>8459.0</td>\n",
              "      <td>3334.0</td>\n",
              "      <td>14168.0</td>\n",
              "      <td>39.413642</td>\n",
              "      <td>167.490247</td>\n",
              "      <td>6.968599</td>\n",
              "      <td>8.188755</td>\n",
              "      <td>5.642066</td>\n",
              "      <td>0.0</td>\n",
              "      <td>-5.0</td>\n",
              "      <td>-6.312500</td>\n",
              "      <td>-7.232877</td>\n",
              "      <td>-8.0</td>\n",
              "      <td>-1.0</td>\n",
              "      <td>-11.0</td>\n",
              "      <td>-1.0</td>\n",
              "      <td>0.000000</td>\n",
              "      <td>4.571698</td>\n",
              "      <td>5.329035</td>\n",
              "      <td>6.209534</td>\n",
              "      <td>8.783435</td>\n",
              "      <td>15.000000</td>\n",
              "      <td>20.000000</td>\n",
              "      <td>0.000000</td>\n",
              "    </tr>\n",
              "    <tr>\n",
              "      <th>44028</th>\n",
              "      <td>3166.0</td>\n",
              "      <td>11298.0</td>\n",
              "      <td>53.0</td>\n",
              "      <td>60.0</td>\n",
              "      <td>3.0</td>\n",
              "      <td>3.0</td>\n",
              "      <td>58492.0</td>\n",
              "      <td>2642.0</td>\n",
              "      <td>52.0</td>\n",
              "      <td>4.516857</td>\n",
              "      <td>0.088901</td>\n",
              "      <td>8.128602</td>\n",
              "      <td>18.772727</td>\n",
              "      <td>44.571429</td>\n",
              "      <td>-4.0</td>\n",
              "      <td>12.0</td>\n",
              "      <td>42.882353</td>\n",
              "      <td>12.656716</td>\n",
              "      <td>12.0</td>\n",
              "      <td>-3.0</td>\n",
              "      <td>-3.0</td>\n",
              "      <td>-4.0</td>\n",
              "      <td>0.000000</td>\n",
              "      <td>5.153119</td>\n",
              "      <td>7.189542</td>\n",
              "      <td>6.870966</td>\n",
              "      <td>7.525156</td>\n",
              "      <td>20.000000</td>\n",
              "      <td>0.000000</td>\n",
              "      <td>100.000000</td>\n",
              "    </tr>\n",
              "    <tr>\n",
              "      <th>201778</th>\n",
              "      <td>572.0</td>\n",
              "      <td>13891.0</td>\n",
              "      <td>65.0</td>\n",
              "      <td>6.0</td>\n",
              "      <td>2.0</td>\n",
              "      <td>2.0</td>\n",
              "      <td>4470.0</td>\n",
              "      <td>2408.0</td>\n",
              "      <td>14345.0</td>\n",
              "      <td>53.870246</td>\n",
              "      <td>320.917226</td>\n",
              "      <td>5.650779</td>\n",
              "      <td>13.384615</td>\n",
              "      <td>6.054254</td>\n",
              "      <td>3.0</td>\n",
              "      <td>-3.0</td>\n",
              "      <td>6.247059</td>\n",
              "      <td>3.000000</td>\n",
              "      <td>-4.0</td>\n",
              "      <td>1.0</td>\n",
              "      <td>-5.0</td>\n",
              "      <td>0.0</td>\n",
              "      <td>4.347826</td>\n",
              "      <td>4.571698</td>\n",
              "      <td>5.329035</td>\n",
              "      <td>6.209534</td>\n",
              "      <td>8.783435</td>\n",
              "      <td>0.000000</td>\n",
              "      <td>13.043478</td>\n",
              "      <td>0.000000</td>\n",
              "    </tr>\n",
              "    <tr>\n",
              "      <th>200479</th>\n",
              "      <td>2171.0</td>\n",
              "      <td>13930.0</td>\n",
              "      <td>173.0</td>\n",
              "      <td>54.0</td>\n",
              "      <td>2.0</td>\n",
              "      <td>2.0</td>\n",
              "      <td>78881.0</td>\n",
              "      <td>15523.0</td>\n",
              "      <td>12230.0</td>\n",
              "      <td>19.679010</td>\n",
              "      <td>15.504367</td>\n",
              "      <td>4.770628</td>\n",
              "      <td>12.296296</td>\n",
              "      <td>2.462687</td>\n",
              "      <td>-2.0</td>\n",
              "      <td>-7.0</td>\n",
              "      <td>10.175926</td>\n",
              "      <td>6.813268</td>\n",
              "      <td>-1.0</td>\n",
              "      <td>-1.0</td>\n",
              "      <td>-3.0</td>\n",
              "      <td>-2.0</td>\n",
              "      <td>1.408451</td>\n",
              "      <td>4.571698</td>\n",
              "      <td>5.329035</td>\n",
              "      <td>6.209534</td>\n",
              "      <td>7.112803</td>\n",
              "      <td>4.166667</td>\n",
              "      <td>12.500000</td>\n",
              "      <td>40.000000</td>\n",
              "    </tr>\n",
              "  </tbody>\n",
              "</table>\n",
              "<p>240510 rows × 30 columns</p>\n",
              "</div>"
            ],
            "text/plain": [
              "        mkt_carrier_fl_num  origin_airport_id  crs_elapsed_time  taxi_out  \\\n",
              "20723               5712.0            14747.0             134.0      13.0   \n",
              "222819              1813.0            14100.0             138.0      24.0   \n",
              "128664               494.0            11057.0              58.0      30.0   \n",
              "43872               4323.0            14831.0             145.0      17.0   \n",
              "189093              4515.0            14100.0              71.0      33.0   \n",
              "...                    ...                ...               ...       ...   \n",
              "280229              2410.0            10397.0             137.0      27.0   \n",
              "60166               1114.0            14683.0             195.0      11.0   \n",
              "44028               3166.0            11298.0              53.0      60.0   \n",
              "201778               572.0            13891.0              65.0       6.0   \n",
              "200479              2171.0            13930.0             173.0      54.0   \n",
              "\n",
              "        dep_daysection  arr_daysection  origin_airport_vol  \\\n",
              "20723              2.0             3.0             37819.0   \n",
              "222819             2.0             3.0             31102.0   \n",
              "128664             4.0             4.0             50167.0   \n",
              "43872              2.0             3.0             13688.0   \n",
              "189093             3.0             3.0             31102.0   \n",
              "...                ...             ...                 ...   \n",
              "280229             2.0             3.0             78303.0   \n",
              "60166              2.0             2.0              8459.0   \n",
              "44028              3.0             3.0             58492.0   \n",
              "201778             2.0             2.0              4470.0   \n",
              "200479             2.0             2.0             78881.0   \n",
              "\n",
              "        carrier_origin_apt_vol  carrier_dest_apt_vol  carrier_origin_apt_pct  \\\n",
              "20723                   2827.0                1322.0                7.475079   \n",
              "222819                  9824.0                2466.0               31.586393   \n",
              "128664                 19588.0                2013.0               39.045588   \n",
              "43872                   6688.0               13926.0               48.860316   \n",
              "189093                  3772.0                6626.0               12.127837   \n",
              "...                        ...                   ...                     ...   \n",
              "280229                 48800.0                1128.0               62.322006   \n",
              "60166                   3334.0               14168.0               39.413642   \n",
              "44028                   2642.0                  52.0                4.516857   \n",
              "201778                  2408.0               14345.0               53.870246   \n",
              "200479                 15523.0               12230.0               19.679010   \n",
              "\n",
              "        carrier_dest_apt_pct  mean_carrier_arr_delay_month  \\\n",
              "20723               3.495597                      1.760079   \n",
              "222819              7.928751                      2.299194   \n",
              "128664              4.012598                      5.091603   \n",
              "43872             101.738749                      6.584201   \n",
              "189093             21.304096                      7.606678   \n",
              "...                      ...                           ...   \n",
              "280229              1.440558                     -1.367736   \n",
              "60166             167.490247                      6.968599   \n",
              "44028               0.088901                      8.128602   \n",
              "201778            320.917226                      5.650779   \n",
              "200479             15.504367                      4.770628   \n",
              "\n",
              "        mean_carrier_origin_dep-hour_dep_delay  \\\n",
              "20723                                14.549206   \n",
              "222819                               10.069079   \n",
              "128664                               16.526633   \n",
              "43872                                10.250000   \n",
              "189093                                7.529880   \n",
              "...                                        ...   \n",
              "280229                                6.801622   \n",
              "60166                                 8.188755   \n",
              "44028                                18.772727   \n",
              "201778                               13.384615   \n",
              "200479                               12.296296   \n",
              "\n",
              "        mean_carrier_dest_fl-hour_delay  \\\n",
              "20723                         -1.094595   \n",
              "222819                        19.680000   \n",
              "128664                        12.518717   \n",
              "43872                         10.073544   \n",
              "189093                        10.739336   \n",
              "...                                 ...   \n",
              "280229                        15.835616   \n",
              "60166                          5.642066   \n",
              "44028                         44.571429   \n",
              "201778                         6.054254   \n",
              "200479                         2.462687   \n",
              "\n",
              "        median_carrier_origin_dep-hour_dep_delay  \\\n",
              "20723                                       -2.0   \n",
              "222819                                      -3.0   \n",
              "128664                                       0.0   \n",
              "43872                                        1.0   \n",
              "189093                                      -4.0   \n",
              "...                                          ...   \n",
              "280229                                      -1.0   \n",
              "60166                                        0.0   \n",
              "44028                                       -4.0   \n",
              "201778                                       3.0   \n",
              "200479                                      -2.0   \n",
              "\n",
              "        median_carrier_dest_fl-hour_delay  mean_route_arr_delay_dep_hour  \\\n",
              "20723                               -10.5                       3.685333   \n",
              "222819                                3.0                      -0.991170   \n",
              "128664                                0.0                      17.042553   \n",
              "43872                                 0.0                       4.077236   \n",
              "189093                               -7.0                      14.062500   \n",
              "...                                   ...                            ...   \n",
              "280229                                3.0                      24.194444   \n",
              "60166                                -5.0                      -6.312500   \n",
              "44028                                12.0                      42.882353   \n",
              "201778                               -3.0                       6.247059   \n",
              "200479                               -7.0                      10.175926   \n",
              "\n",
              "        mean_route_arr_delay_arr_hour  median_route_arr_delay_dep_hour  \\\n",
              "20723                       -0.913420                             -6.0   \n",
              "222819                       5.053942                             -9.0   \n",
              "128664                      17.042553                              3.0   \n",
              "43872                       -1.072289                             -6.0   \n",
              "189093                       6.154639                             -9.5   \n",
              "...                               ...                              ...   \n",
              "280229                      29.652542                              1.0   \n",
              "60166                       -7.232877                             -8.0   \n",
              "44028                       12.656716                             12.0   \n",
              "201778                       3.000000                             -4.0   \n",
              "200479                       6.813268                             -1.0   \n",
              "\n",
              "        median_route_dep_delay_dep_hour  median_route_arr_delay_arr_hour  \\\n",
              "20723                              -2.0                             -5.0   \n",
              "222819                             -2.0                             -4.0   \n",
              "128664                              1.0                              3.0   \n",
              "43872                              -1.0                             -8.0   \n",
              "189093                             -2.0                            -11.0   \n",
              "...                                 ...                              ...   \n",
              "280229                              5.0                              7.0   \n",
              "60166                              -1.0                            -11.0   \n",
              "44028                              -3.0                             -3.0   \n",
              "201778                              1.0                             -5.0   \n",
              "200479                             -1.0                             -3.0   \n",
              "\n",
              "        median_route_dep_delay_arr_hour  route_month_weather_delay_pct  \\\n",
              "20723                              -2.0                       1.020408   \n",
              "222819                              0.0                       0.000000   \n",
              "128664                              1.0                       0.000000   \n",
              "43872                              -1.0                       0.000000   \n",
              "189093                             -3.0                       0.000000   \n",
              "...                                 ...                            ...   \n",
              "280229                             11.0                       1.000000   \n",
              "60166                              -1.0                       0.000000   \n",
              "44028                              -4.0                       0.000000   \n",
              "201778                              0.0                       4.347826   \n",
              "200479                             -2.0                       1.408451   \n",
              "\n",
              "        arr_daysection_carrier_delay_pct  arr_daysection_nas_delay_pct  \\\n",
              "20723                           5.153119                      7.189542   \n",
              "222819                          5.153119                      7.189542   \n",
              "128664                          6.273976                      6.307453   \n",
              "43872                           5.153119                      7.189542   \n",
              "189093                          5.153119                      7.189542   \n",
              "...                                  ...                           ...   \n",
              "280229                          5.153119                      7.189542   \n",
              "60166                           4.571698                      5.329035   \n",
              "44028                           5.153119                      7.189542   \n",
              "201778                          4.571698                      5.329035   \n",
              "200479                          4.571698                      5.329035   \n",
              "\n",
              "        dep_daysection_nas_delay_pct  carrier_late_aircraft_delay_pct  \\\n",
              "20723                       6.209534                         8.345150   \n",
              "222819                      6.209534                         7.184755   \n",
              "128664                      4.593159                         7.184755   \n",
              "43872                       6.209534                         8.783435   \n",
              "189093                      6.870966                         6.325297   \n",
              "...                              ...                              ...   \n",
              "280229                      6.209534                         4.222974   \n",
              "60166                       6.209534                         8.783435   \n",
              "44028                       6.870966                         7.525156   \n",
              "201778                      6.209534                         8.783435   \n",
              "200479                      6.209534                         7.112803   \n",
              "\n",
              "        carrier_route_month_carrier_delay  \\\n",
              "20723                           15.789474   \n",
              "222819                           9.677419   \n",
              "128664                           2.040816   \n",
              "43872                            3.448276   \n",
              "189093                           0.000000   \n",
              "...                                   ...   \n",
              "280229                           0.000000   \n",
              "60166                           15.000000   \n",
              "44028                           20.000000   \n",
              "201778                           0.000000   \n",
              "200479                           4.166667   \n",
              "\n",
              "        carrier_route_month_late_aircraft_delay  \\\n",
              "20723                                  5.263158   \n",
              "222819                                12.903226   \n",
              "128664                                 2.040816   \n",
              "43872                                 13.793103   \n",
              "189093                                 0.000000   \n",
              "...                                         ...   \n",
              "280229                                 2.127660   \n",
              "60166                                 20.000000   \n",
              "44028                                  0.000000   \n",
              "201778                                13.043478   \n",
              "200479                                12.500000   \n",
              "\n",
              "        route_month_weekday_daysection_nas_delay  \n",
              "20723                                   0.000000  \n",
              "222819                                  0.000000  \n",
              "128664                                100.000000  \n",
              "43872                                  16.666667  \n",
              "189093                                 50.000000  \n",
              "...                                          ...  \n",
              "280229                                 33.333333  \n",
              "60166                                   0.000000  \n",
              "44028                                 100.000000  \n",
              "201778                                  0.000000  \n",
              "200479                                 40.000000  \n",
              "\n",
              "[240510 rows x 30 columns]"
            ]
          },
          "metadata": {
            "tags": []
          },
          "execution_count": 173
        }
      ]
    },
    {
      "cell_type": "markdown",
      "metadata": {
        "id": "STv_D7zhkydg",
        "colab_type": "text"
      },
      "source": [
        "## RandomForestClassifier"
      ]
    },
    {
      "cell_type": "code",
      "metadata": {
        "id": "XtIR01Fqkydg",
        "colab_type": "code",
        "colab": {
          "base_uri": "https://localhost:8080/",
          "height": 154
        },
        "outputId": "839b5cca-95c3-4283-f2d0-e5be0bce849b"
      },
      "source": [
        "from sklearn.ensemble import RandomForestClassifier\n",
        "\n",
        "regr = RandomForestClassifier(n_estimators=60, max_depth=10, random_state=0)\n",
        "regr.fit(X_train,y_train)\n",
        "#LAST PARAMS : 50/10"
      ],
      "execution_count": null,
      "outputs": [
        {
          "output_type": "execute_result",
          "data": {
            "text/plain": [
              "RandomForestClassifier(bootstrap=True, ccp_alpha=0.0, class_weight=None,\n",
              "                       criterion='gini', max_depth=10, max_features='auto',\n",
              "                       max_leaf_nodes=None, max_samples=None,\n",
              "                       min_impurity_decrease=0.0, min_impurity_split=None,\n",
              "                       min_samples_leaf=1, min_samples_split=2,\n",
              "                       min_weight_fraction_leaf=0.0, n_estimators=60,\n",
              "                       n_jobs=None, oob_score=False, random_state=0, verbose=0,\n",
              "                       warm_start=False)"
            ]
          },
          "metadata": {
            "tags": []
          },
          "execution_count": 197
        }
      ]
    },
    {
      "cell_type": "code",
      "metadata": {
        "id": "2ypOX37Ykydh",
        "colab_type": "code",
        "colab": {
          "base_uri": "https://localhost:8080/",
          "height": 34
        },
        "outputId": "b0fa0e93-d45f-4c3f-dfcc-f3fe9a3b81a0"
      },
      "source": [
        "y_pred=regr.predict(X_test)\n",
        "y_pred"
      ],
      "execution_count": null,
      "outputs": [
        {
          "output_type": "execute_result",
          "data": {
            "text/plain": [
              "array([5, 3, 3, ..., 3, 3, 3])"
            ]
          },
          "metadata": {
            "tags": []
          },
          "execution_count": 198
        }
      ]
    },
    {
      "cell_type": "code",
      "metadata": {
        "id": "gEqRUhlrkydk",
        "colab_type": "code",
        "colab": {
          "base_uri": "https://localhost:8080/",
          "height": 326
        },
        "outputId": "abdee88a-a7e3-4d0b-8334-d4cf7faf8e51"
      },
      "source": [
        "#Accuracy Score\n",
        "regr.score(X_test, y_pred)\n",
        "\n",
        "from sklearn.metrics import accuracy_score\n",
        "print(accuracy_score(y_test, y_pred))\n",
        "\n",
        "#Classification Report\n",
        "from sklearn.metrics import classification_report\n",
        "print(classification_report(y_test, y_pred))\n",
        "\n",
        "#Confusion Matrix\n",
        "from sklearn.metrics import confusion_matrix\n",
        "print(confusion_matrix(y_test, y_pred))"
      ],
      "execution_count": null,
      "outputs": [
        {
          "output_type": "stream",
          "text": [
            "0.7837114156466205\n",
            "              precision    recall  f1-score   support\n",
            "\n",
            "           1       0.79      0.57      0.67     16130\n",
            "           2       0.96      0.22      0.36      1969\n",
            "           3       0.81      0.99      0.89     18391\n",
            "           4       1.00      0.02      0.03       124\n",
            "           5       0.75      0.82      0.78     23514\n",
            "\n",
            "    accuracy                           0.78     60128\n",
            "   macro avg       0.86      0.52      0.55     60128\n",
            "weighted avg       0.79      0.78      0.77     60128\n",
            "\n",
            "[[ 9244     2  1659     0  5225]\n",
            " [  495   434   238     0   802]\n",
            " [   15     0 18213     0   163]\n",
            " [   41     9     7     2    65]\n",
            " [ 1864     6  2414     0 19230]]\n"
          ],
          "name": "stdout"
        }
      ]
    },
    {
      "cell_type": "code",
      "metadata": {
        "id": "VUFhPzb1kydn",
        "colab_type": "code",
        "colab": {
          "base_uri": "https://localhost:8080/",
          "height": 171
        },
        "outputId": "437566bb-a16d-422a-e6e6-bd3537a74c66"
      },
      "source": [
        "pd.Series(y_pred).describe()"
      ],
      "execution_count": null,
      "outputs": [
        {
          "output_type": "execute_result",
          "data": {
            "text/plain": [
              "count    60128.000000\n",
              "mean         3.559606\n",
              "std          1.467066\n",
              "min          1.000000\n",
              "25%          3.000000\n",
              "50%          3.000000\n",
              "75%          5.000000\n",
              "max          5.000000\n",
              "dtype: float64"
            ]
          },
          "metadata": {
            "tags": []
          },
          "execution_count": 177
        }
      ]
    },
    {
      "cell_type": "markdown",
      "metadata": {
        "id": "MDlvxIIXdOdl",
        "colab_type": "text"
      },
      "source": [
        "## Naive Bayes"
      ]
    },
    {
      "cell_type": "code",
      "metadata": {
        "id": "wCh9VPVxdOC2",
        "colab_type": "code",
        "colab": {}
      },
      "source": [
        "from sklearn.naive_bayes import GaussianNB\n",
        "clf = GaussianNB()"
      ],
      "execution_count": null,
      "outputs": []
    },
    {
      "cell_type": "code",
      "metadata": {
        "id": "ZgUV1Fpfkydr",
        "colab_type": "code",
        "colab": {
          "base_uri": "https://localhost:8080/",
          "height": 34
        },
        "outputId": "b77c5b3e-db9b-473b-951e-cad9897fd29e"
      },
      "source": [
        "#train model\n",
        "clf.fit(X_train, y_train)"
      ],
      "execution_count": null,
      "outputs": [
        {
          "output_type": "execute_result",
          "data": {
            "text/plain": [
              "GaussianNB(priors=None, var_smoothing=1e-09)"
            ]
          },
          "metadata": {
            "tags": []
          },
          "execution_count": 179
        }
      ]
    },
    {
      "cell_type": "code",
      "metadata": {
        "id": "IjfgrQGfd8N7",
        "colab_type": "code",
        "colab": {}
      },
      "source": [
        "y_pred = clf.predict(X_test)"
      ],
      "execution_count": null,
      "outputs": []
    },
    {
      "cell_type": "code",
      "metadata": {
        "id": "NQxfQR5FeJx-",
        "colab_type": "code",
        "colab": {
          "base_uri": "https://localhost:8080/",
          "height": 326
        },
        "outputId": "22b7965f-5a3b-4ee1-b681-ad934fb2716a"
      },
      "source": [
        "#Accuracy Score\n",
        "regr.score(X_test, y_pred)\n",
        "\n",
        "from sklearn.metrics import accuracy_score\n",
        "print(accuracy_score(y_test, y_pred))\n",
        "\n",
        "#Classification Report\n",
        "from sklearn.metrics import classification_report\n",
        "print(classification_report(y_test, y_pred))\n",
        "\n",
        "#Confusion Matrix\n",
        "from sklearn.metrics import confusion_matrix\n",
        "print(confusion_matrix(y_test, y_pred))"
      ],
      "execution_count": null,
      "outputs": [
        {
          "output_type": "stream",
          "text": [
            "0.6925059872272485\n",
            "              precision    recall  f1-score   support\n",
            "\n",
            "         1.0       0.58      0.64      0.61     16135\n",
            "         2.0       0.22      0.18      0.20      2042\n",
            "         3.0       0.80      0.89      0.84     18318\n",
            "         4.0       0.00      0.02      0.01       108\n",
            "         5.0       0.74      0.62      0.68     23525\n",
            "\n",
            "    accuracy                           0.69     60128\n",
            "   macro avg       0.47      0.47      0.47     60128\n",
            "weighted avg       0.70      0.69      0.69     60128\n",
            "\n",
            "[[10327   380  1484   117  3827]\n",
            " [  676   374   378    39   575]\n",
            " [  955   300 16253    75   735]\n",
            " [   50     1     9     2    46]\n",
            " [ 5779   667  2086   310 14683]]\n"
          ],
          "name": "stdout"
        }
      ]
    },
    {
      "cell_type": "code",
      "metadata": {
        "id": "SBZpfhbdegPQ",
        "colab_type": "code",
        "colab": {}
      },
      "source": [
        ""
      ],
      "execution_count": null,
      "outputs": []
    },
    {
      "cell_type": "markdown",
      "metadata": {
        "id": "Eb1ufei1fRlL",
        "colab_type": "text"
      },
      "source": [
        "##XGBOOST"
      ]
    },
    {
      "cell_type": "code",
      "metadata": {
        "id": "Smbe03C6fP8L",
        "colab_type": "code",
        "colab": {}
      },
      "source": [
        "import xgboost as xgb\n",
        "from sklearn.metrics import mean_squared_error\n",
        "\n",
        "data_dmatrix = xgb.DMatrix(data=X.astype(int),label=y.astype(int))\n",
        "\n"
      ],
      "execution_count": null,
      "outputs": []
    },
    {
      "cell_type": "code",
      "metadata": {
        "id": "5wzpsjNjfPx3",
        "colab_type": "code",
        "colab": {}
      },
      "source": [
        "#create train/test split\n",
        "from sklearn.model_selection import train_test_split\n",
        "\n",
        "X_train, X_test, y_train, y_test = train_test_split(X.astype(int), y.astype(int), test_size=0.2, random_state=123)"
      ],
      "execution_count": null,
      "outputs": []
    },
    {
      "cell_type": "code",
      "metadata": {
        "id": "aLAS1z8fgpHu",
        "colab_type": "code",
        "colab": {}
      },
      "source": [
        "xg_reg = xgb.XGBRegressor(objective ='reg:squarederror', colsample_bytree = 0.3, learning_rate = 0.1,\n",
        "                max_depth = 5, alpha = 10, n_estimators = 10)"
      ],
      "execution_count": null,
      "outputs": []
    },
    {
      "cell_type": "code",
      "metadata": {
        "id": "-HNaLqeLgt3O",
        "colab_type": "code",
        "colab": {}
      },
      "source": [
        "xg_reg.fit(X_train,y_train)\n",
        "\n",
        "y_preds = xg_reg.predict(X_test)"
      ],
      "execution_count": null,
      "outputs": []
    },
    {
      "cell_type": "code",
      "metadata": {
        "id": "EE_UUNp_gtzR",
        "colab_type": "code",
        "colab": {
          "base_uri": "https://localhost:8080/",
          "height": 34
        },
        "outputId": "5ecebe63-e30e-4e33-ae2c-84aff57c040f"
      },
      "source": [
        "rmse = np.sqrt(mean_squared_error(y_test, y_preds))\n",
        "print(\"RMSE: %f\" % (rmse))"
      ],
      "execution_count": null,
      "outputs": [
        {
          "output_type": "stream",
          "text": [
            "RMSE: 1.751816\n"
          ],
          "name": "stdout"
        }
      ]
    },
    {
      "cell_type": "code",
      "metadata": {
        "id": "JhcbIIdqgttE",
        "colab_type": "code",
        "colab": {
          "base_uri": "https://localhost:8080/",
          "height": 326
        },
        "outputId": "b088b59d-428d-40a7-bf0b-fbd0c5f891cf"
      },
      "source": [
        "#Accuracy Score\n",
        "regr.score(X_test, y_pred)\n",
        "\n",
        "from sklearn.metrics import accuracy_score\n",
        "print(accuracy_score(y_test, y_pred))\n",
        "\n",
        "#Classification Report\n",
        "from sklearn.metrics import classification_report\n",
        "print(classification_report(y_test, y_pred))\n",
        "\n",
        "#Confusion Matrix\n",
        "from sklearn.metrics import confusion_matrix\n",
        "print(confusion_matrix(y_test, y_pred))"
      ],
      "execution_count": null,
      "outputs": [
        {
          "output_type": "stream",
          "text": [
            "0.3143294305481639\n",
            "              precision    recall  f1-score   support\n",
            "\n",
            "           1       0.27      0.30      0.29     16130\n",
            "           2       0.04      0.03      0.03      1969\n",
            "           3       0.31      0.34      0.32     18391\n",
            "           4       0.01      0.03      0.01       124\n",
            "           5       0.39      0.33      0.36     23514\n",
            "\n",
            "    accuracy                           0.31     60128\n",
            "   macro avg       0.20      0.21      0.20     60128\n",
            "weighted avg       0.32      0.31      0.32     60128\n",
            "\n",
            "[[4854  442 5404  141 5289]\n",
            " [ 585   62  674   17  631]\n",
            " [5409  504 6190  177 6111]\n",
            " [  31    4   40    4   45]\n",
            " [6908  710 7902  204 7790]]\n"
          ],
          "name": "stdout"
        }
      ]
    },
    {
      "cell_type": "code",
      "metadata": {
        "id": "9u9kWZ1EgtiN",
        "colab_type": "code",
        "colab": {}
      },
      "source": [
        ""
      ],
      "execution_count": null,
      "outputs": []
    },
    {
      "cell_type": "markdown",
      "metadata": {
        "id": "k93fj3_Pdgia",
        "colab_type": "text"
      },
      "source": [
        "# Dealing with Ram"
      ]
    },
    {
      "cell_type": "code",
      "metadata": {
        "id": "ezt29ChEkyds",
        "colab_type": "code",
        "colab": {},
        "outputId": "bb7d5400-a2a3-48e9-e213-06f1142c27be"
      },
      "source": [
        "\n",
        "import sys\n",
        "\n",
        "# These are the usual ipython objects, including this one you are creating\n",
        "ipython_vars = ['In', 'Out', 'exit', 'quit', 'get_ipython', 'ipython_vars']\n",
        "\n",
        "# Get a sorted list of the objects and their sizes\n",
        "sorted([(x, sys.getsizeof(globals().get(x))) for x in dir() if not x.startswith('_') and x not in sys.modules and x not in ipython_vars], key=lambda x: x[1], reverse=True)\n",
        "\n",
        "#say a data frame is taking up a lot and it happens to be one you don't need anymore you can do:\n",
        "#del df"
      ],
      "execution_count": null,
      "outputs": [
        {
          "output_type": "execute_result",
          "data": {
            "text/plain": [
              "[('dfF', 2602606480),\n",
              " ('df', 1542050435),\n",
              " ('dfFT', 1007882019),\n",
              " ('df_test', 507999370),\n",
              " ('dfF1', 216740560),\n",
              " ('X', 204255024),\n",
              " ('ohe_df', 140135216),\n",
              " ('transformed', 140135184),\n",
              " ('X_train', 129849528),\n",
              " ('dfFT1', 111647668),\n",
              " ('y', 66914128),\n",
              " ('X_test', 32462472),\n",
              " ('y_train', 19976864),\n",
              " ('df_dummy', 16514044),\n",
              " ('y_test', 4994240),\n",
              " ('y_pred', 2497208),\n",
              " ('airports', 3072),\n",
              " ('RandomForestRegressor', 2008),\n",
              " ('missing_data', 1369),\n",
              " ('percent', 1265),\n",
              " ('total', 1265),\n",
              " ('LabelBinarizer', 1192),\n",
              " ('OneHotEncoder', 1192),\n",
              " ('hour_to_daysection', 1176),\n",
              " ('LabelEncoder', 1064),\n",
              " ('MultiColumnLabelEncoder', 1064),\n",
              " ('Pipeline', 1064),\n",
              " ('fruit_data', 672),\n",
              " ('month_to_season', 640),\n",
              " ('defaultdict', 416),\n",
              " ('mean_absolute_error', 136),\n",
              " ('mean_squared_error', 136),\n",
              " ('r2_score', 136),\n",
              " ('train_test_split', 136),\n",
              " ('delaytypes', 96),\n",
              " ('bins', 88),\n",
              " ('labels', 80),\n",
              " ('np', 72),\n",
              " ('pd', 72),\n",
              " ('preprocessing', 72),\n",
              " ('c', 69),\n",
              " ('delay', 68),\n",
              " ('path', 63),\n",
              " ('carrier_encoder', 48),\n",
              " ('carrier_le', 48),\n",
              " ('city_le', 48),\n",
              " ('enc', 48),\n",
              " ('le', 48),\n",
              " ('regr', 48)]"
            ]
          },
          "metadata": {
            "tags": []
          },
          "execution_count": 710
        }
      ]
    },
    {
      "cell_type": "code",
      "metadata": {
        "id": "DFxSoda4kydt",
        "colab_type": "code",
        "colab": {}
      },
      "source": [
        "del dfF_encodertest\n",
        "del dfF_encoded\n",
        "del df_test\n",
        "del dfF1"
      ],
      "execution_count": null,
      "outputs": []
    },
    {
      "cell_type": "code",
      "metadata": {
        "id": "Ndv2Ip8kkydu",
        "colab_type": "code",
        "colab": {}
      },
      "source": [
        ""
      ],
      "execution_count": null,
      "outputs": []
    },
    {
      "cell_type": "code",
      "metadata": {
        "id": "WralK5IEC_EN",
        "colab_type": "code",
        "colab": {}
      },
      "source": [
        ""
      ],
      "execution_count": null,
      "outputs": []
    }
  ]
}