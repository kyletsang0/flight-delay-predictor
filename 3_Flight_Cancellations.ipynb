{
  "nbformat": 4,
  "nbformat_minor": 0,
  "metadata": {
    "kernelspec": {
      "display_name": "Python 3",
      "language": "python",
      "name": "python3"
    },
    "language_info": {
      "codemirror_mode": {
        "name": "ipython",
        "version": 3
      },
      "file_extension": ".py",
      "mimetype": "text/x-python",
      "name": "python",
      "nbconvert_exporter": "python",
      "pygments_lexer": "ipython3",
      "version": "3.7.6"
    },
    "colab": {
      "name": "3 - Flight Cancellations.ipynb",
      "provenance": [],
      "collapsed_sections": [],
      "toc_visible": true
    }
  },
  "cells": [
    {
      "cell_type": "markdown",
      "metadata": {
        "id": "Gs_kl0OEkyZU",
        "colab_type": "text"
      },
      "source": [
        "# Prep procedure"
      ]
    },
    {
      "cell_type": "markdown",
      "metadata": {
        "id": "B5H-sK7akyZX",
        "colab_type": "text"
      },
      "source": [
        "### Import Modules"
      ]
    },
    {
      "cell_type": "code",
      "metadata": {
        "id": "feN2TBtRkyZY",
        "colab_type": "code",
        "colab": {}
      },
      "source": [
        "import pandas as pd\n",
        "pd.set_option('display.max_columns', None)\n",
        "import datetime\n",
        "import numpy as np\n",
        "from sklearn import preprocessing "
      ],
      "execution_count": 1,
      "outputs": []
    },
    {
      "cell_type": "markdown",
      "metadata": {
        "id": "Vmuuvv2FkyZj",
        "colab_type": "text"
      },
      "source": [
        "### Import data"
      ]
    },
    {
      "cell_type": "code",
      "metadata": {
        "id": "Vi337yq_k7YY",
        "colab_type": "code",
        "colab": {
          "base_uri": "https://localhost:8080/",
          "height": 124
        },
        "outputId": "4dc9335a-49f1-48e2-bb38-3ec46a4140a7"
      },
      "source": [
        "from google.colab import drive\n",
        "drive.mount('/content/drive')"
      ],
      "execution_count": 2,
      "outputs": [
        {
          "output_type": "stream",
          "text": [
            "Go to this URL in a browser: https://accounts.google.com/o/oauth2/auth?client_id=947318989803-6bn6qk8qdgf4n4g3pfee6491hc0brc4i.apps.googleusercontent.com&redirect_uri=urn%3aietf%3awg%3aoauth%3a2.0%3aoob&scope=email%20https%3a%2f%2fwww.googleapis.com%2fauth%2fdocs.test%20https%3a%2f%2fwww.googleapis.com%2fauth%2fdrive%20https%3a%2f%2fwww.googleapis.com%2fauth%2fdrive.photos.readonly%20https%3a%2f%2fwww.googleapis.com%2fauth%2fpeopleapi.readonly&response_type=code\n",
            "\n",
            "Enter your authorization code:\n",
            "··········\n",
            "Mounted at /content/drive\n"
          ],
          "name": "stdout"
        }
      ]
    },
    {
      "cell_type": "code",
      "metadata": {
        "id": "4b2VtQ32kyZk",
        "colab_type": "code",
        "colab": {}
      },
      "source": [
        "#Import data\n",
        "path = '/content/drive/My Drive/flights_data/'\n",
        "#path = '/content/drive/My Drive/PERSO/LIGHTHOUSE LABS/MIDTERM/data/'\n",
        "df = pd.read_csv(str(path)+\"flights_sample_10.csv\",low_memory=False)"
      ],
      "execution_count": 3,
      "outputs": []
    },
    {
      "cell_type": "code",
      "metadata": {
        "id": "LqfQUBCnkyZt",
        "colab_type": "code",
        "colab": {
          "base_uri": "https://localhost:8080/",
          "height": 225
        },
        "outputId": "66efc416-86d2-414d-83b1-e9e96f0dfb65"
      },
      "source": [
        "print(df.columns)"
      ],
      "execution_count": null,
      "outputs": [
        {
          "output_type": "stream",
          "text": [
            "Index(['Unnamed: 0', 'fl_date', 'mkt_unique_carrier', 'branded_code_share',\n",
            "       'mkt_carrier', 'mkt_carrier_fl_num', 'op_unique_carrier', 'tail_num',\n",
            "       'op_carrier_fl_num', 'origin_airport_id', 'origin', 'origin_city_name',\n",
            "       'dest_airport_id', 'dest', 'dest_city_name', 'crs_dep_time', 'dep_time',\n",
            "       'dep_delay', 'taxi_out', 'wheels_off', 'wheels_on', 'taxi_in',\n",
            "       'crs_arr_time', 'arr_time', 'arr_delay', 'cancelled',\n",
            "       'cancellation_code', 'diverted', 'dup', 'crs_elapsed_time',\n",
            "       'actual_elapsed_time', 'air_time', 'flights', 'distance',\n",
            "       'carrier_delay', 'weather_delay', 'nas_delay', 'security_delay',\n",
            "       'late_aircraft_delay', 'first_dep_time', 'total_add_gtime',\n",
            "       'longest_add_gtime', 'no_name'],\n",
            "      dtype='object')\n"
          ],
          "name": "stdout"
        }
      ]
    },
    {
      "cell_type": "markdown",
      "metadata": {
        "id": "FBLGVmeikyZ5",
        "colab_type": "text"
      },
      "source": [
        ""
      ]
    },
    {
      "cell_type": "code",
      "metadata": {
        "id": "QfZbzVsjkyZ7",
        "colab_type": "code",
        "colab": {}
      },
      "source": [
        "dfF = df[['fl_date', 'mkt_unique_carrier', 'mkt_carrier',\n",
        "       'mkt_carrier_fl_num', 'op_unique_carrier', 'tail_num',\n",
        "       'op_carrier_fl_num', 'origin_airport_id', 'origin', 'origin_city_name',\n",
        "       'dest_airport_id', 'dest', 'dest_city_name', 'crs_dep_time','dep_delay',\n",
        "       'crs_arr_time', 'dup', 'crs_elapsed_time', 'flights', 'distance','arr_delay','carrier_delay', 'weather_delay', 'nas_delay', 'security_delay',\n",
        "       'late_aircraft_delay','cancelled','cancellation_code','total_add_gtime',\n",
        "       'longest_add_gtime']].copy()"
      ],
      "execution_count": 4,
      "outputs": []
    },
    {
      "cell_type": "code",
      "metadata": {
        "id": "y87yVbi-kyZ_",
        "colab_type": "code",
        "colab": {
          "base_uri": "https://localhost:8080/",
          "height": 990
        },
        "outputId": "7ee1b485-76f1-48f3-81cc-74f3430cd823"
      },
      "source": [
        "total = dfF.isnull().sum().sort_values(ascending=False)\n",
        "percent = (dfF.isnull().sum()/dfF.isnull().count()).sort_values(ascending=False)\n",
        "missing_data = pd.concat([total, percent], axis=1, keys=['Total', 'Percent'])\n",
        "missing_data"
      ],
      "execution_count": 5,
      "outputs": [
        {
          "output_type": "execute_result",
          "data": {
            "text/html": [
              "<div>\n",
              "<style scoped>\n",
              "    .dataframe tbody tr th:only-of-type {\n",
              "        vertical-align: middle;\n",
              "    }\n",
              "\n",
              "    .dataframe tbody tr th {\n",
              "        vertical-align: top;\n",
              "    }\n",
              "\n",
              "    .dataframe thead th {\n",
              "        text-align: right;\n",
              "    }\n",
              "</style>\n",
              "<table border=\"1\" class=\"dataframe\">\n",
              "  <thead>\n",
              "    <tr style=\"text-align: right;\">\n",
              "      <th></th>\n",
              "      <th>Total</th>\n",
              "      <th>Percent</th>\n",
              "    </tr>\n",
              "  </thead>\n",
              "  <tbody>\n",
              "    <tr>\n",
              "      <th>total_add_gtime</th>\n",
              "      <td>1581485</td>\n",
              "      <td>0.993118</td>\n",
              "    </tr>\n",
              "    <tr>\n",
              "      <th>longest_add_gtime</th>\n",
              "      <td>1581484</td>\n",
              "      <td>0.993117</td>\n",
              "    </tr>\n",
              "    <tr>\n",
              "      <th>cancellation_code</th>\n",
              "      <td>1565457</td>\n",
              "      <td>0.983053</td>\n",
              "    </tr>\n",
              "    <tr>\n",
              "      <th>late_aircraft_delay</th>\n",
              "      <td>1291631</td>\n",
              "      <td>0.811100</td>\n",
              "    </tr>\n",
              "    <tr>\n",
              "      <th>security_delay</th>\n",
              "      <td>1291631</td>\n",
              "      <td>0.811100</td>\n",
              "    </tr>\n",
              "    <tr>\n",
              "      <th>nas_delay</th>\n",
              "      <td>1291631</td>\n",
              "      <td>0.811100</td>\n",
              "    </tr>\n",
              "    <tr>\n",
              "      <th>weather_delay</th>\n",
              "      <td>1291631</td>\n",
              "      <td>0.811100</td>\n",
              "    </tr>\n",
              "    <tr>\n",
              "      <th>carrier_delay</th>\n",
              "      <td>1291631</td>\n",
              "      <td>0.811100</td>\n",
              "    </tr>\n",
              "    <tr>\n",
              "      <th>arr_delay</th>\n",
              "      <td>31241</td>\n",
              "      <td>0.019618</td>\n",
              "    </tr>\n",
              "    <tr>\n",
              "      <th>dep_delay</th>\n",
              "      <td>26581</td>\n",
              "      <td>0.016692</td>\n",
              "    </tr>\n",
              "    <tr>\n",
              "      <th>tail_num</th>\n",
              "      <td>5008</td>\n",
              "      <td>0.003145</td>\n",
              "    </tr>\n",
              "    <tr>\n",
              "      <th>crs_elapsed_time</th>\n",
              "      <td>6</td>\n",
              "      <td>0.000004</td>\n",
              "    </tr>\n",
              "    <tr>\n",
              "      <th>distance</th>\n",
              "      <td>0</td>\n",
              "      <td>0.000000</td>\n",
              "    </tr>\n",
              "    <tr>\n",
              "      <th>origin</th>\n",
              "      <td>0</td>\n",
              "      <td>0.000000</td>\n",
              "    </tr>\n",
              "    <tr>\n",
              "      <th>mkt_unique_carrier</th>\n",
              "      <td>0</td>\n",
              "      <td>0.000000</td>\n",
              "    </tr>\n",
              "    <tr>\n",
              "      <th>mkt_carrier</th>\n",
              "      <td>0</td>\n",
              "      <td>0.000000</td>\n",
              "    </tr>\n",
              "    <tr>\n",
              "      <th>mkt_carrier_fl_num</th>\n",
              "      <td>0</td>\n",
              "      <td>0.000000</td>\n",
              "    </tr>\n",
              "    <tr>\n",
              "      <th>op_unique_carrier</th>\n",
              "      <td>0</td>\n",
              "      <td>0.000000</td>\n",
              "    </tr>\n",
              "    <tr>\n",
              "      <th>op_carrier_fl_num</th>\n",
              "      <td>0</td>\n",
              "      <td>0.000000</td>\n",
              "    </tr>\n",
              "    <tr>\n",
              "      <th>origin_airport_id</th>\n",
              "      <td>0</td>\n",
              "      <td>0.000000</td>\n",
              "    </tr>\n",
              "    <tr>\n",
              "      <th>origin_city_name</th>\n",
              "      <td>0</td>\n",
              "      <td>0.000000</td>\n",
              "    </tr>\n",
              "    <tr>\n",
              "      <th>flights</th>\n",
              "      <td>0</td>\n",
              "      <td>0.000000</td>\n",
              "    </tr>\n",
              "    <tr>\n",
              "      <th>dest_airport_id</th>\n",
              "      <td>0</td>\n",
              "      <td>0.000000</td>\n",
              "    </tr>\n",
              "    <tr>\n",
              "      <th>dest</th>\n",
              "      <td>0</td>\n",
              "      <td>0.000000</td>\n",
              "    </tr>\n",
              "    <tr>\n",
              "      <th>dest_city_name</th>\n",
              "      <td>0</td>\n",
              "      <td>0.000000</td>\n",
              "    </tr>\n",
              "    <tr>\n",
              "      <th>crs_dep_time</th>\n",
              "      <td>0</td>\n",
              "      <td>0.000000</td>\n",
              "    </tr>\n",
              "    <tr>\n",
              "      <th>cancelled</th>\n",
              "      <td>0</td>\n",
              "      <td>0.000000</td>\n",
              "    </tr>\n",
              "    <tr>\n",
              "      <th>crs_arr_time</th>\n",
              "      <td>0</td>\n",
              "      <td>0.000000</td>\n",
              "    </tr>\n",
              "    <tr>\n",
              "      <th>dup</th>\n",
              "      <td>0</td>\n",
              "      <td>0.000000</td>\n",
              "    </tr>\n",
              "    <tr>\n",
              "      <th>fl_date</th>\n",
              "      <td>0</td>\n",
              "      <td>0.000000</td>\n",
              "    </tr>\n",
              "  </tbody>\n",
              "</table>\n",
              "</div>"
            ],
            "text/plain": [
              "                       Total   Percent\n",
              "total_add_gtime      1581485  0.993118\n",
              "longest_add_gtime    1581484  0.993117\n",
              "cancellation_code    1565457  0.983053\n",
              "late_aircraft_delay  1291631  0.811100\n",
              "security_delay       1291631  0.811100\n",
              "nas_delay            1291631  0.811100\n",
              "weather_delay        1291631  0.811100\n",
              "carrier_delay        1291631  0.811100\n",
              "arr_delay              31241  0.019618\n",
              "dep_delay              26581  0.016692\n",
              "tail_num                5008  0.003145\n",
              "crs_elapsed_time           6  0.000004\n",
              "distance                   0  0.000000\n",
              "origin                     0  0.000000\n",
              "mkt_unique_carrier         0  0.000000\n",
              "mkt_carrier                0  0.000000\n",
              "mkt_carrier_fl_num         0  0.000000\n",
              "op_unique_carrier          0  0.000000\n",
              "op_carrier_fl_num          0  0.000000\n",
              "origin_airport_id          0  0.000000\n",
              "origin_city_name           0  0.000000\n",
              "flights                    0  0.000000\n",
              "dest_airport_id            0  0.000000\n",
              "dest                       0  0.000000\n",
              "dest_city_name             0  0.000000\n",
              "crs_dep_time               0  0.000000\n",
              "cancelled                  0  0.000000\n",
              "crs_arr_time               0  0.000000\n",
              "dup                        0  0.000000\n",
              "fl_date                    0  0.000000"
            ]
          },
          "metadata": {
            "tags": []
          },
          "execution_count": 5
        }
      ]
    },
    {
      "cell_type": "code",
      "metadata": {
        "id": "Mz62qMtmkyaD",
        "colab_type": "code",
        "colab": {}
      },
      "source": [
        ""
      ],
      "execution_count": null,
      "outputs": []
    },
    {
      "cell_type": "code",
      "metadata": {
        "id": "tpQ5faMYkyaG",
        "colab_type": "code",
        "colab": {
          "base_uri": "https://localhost:8080/",
          "height": 320
        },
        "outputId": "66eda83b-35be-4d9c-acc7-426ddd590339"
      },
      "source": [
        "dfF[dfF['cancelled']==1].describe()"
      ],
      "execution_count": null,
      "outputs": [
        {
          "output_type": "execute_result",
          "data": {
            "text/html": [
              "<div>\n",
              "<style scoped>\n",
              "    .dataframe tbody tr th:only-of-type {\n",
              "        vertical-align: middle;\n",
              "    }\n",
              "\n",
              "    .dataframe tbody tr th {\n",
              "        vertical-align: top;\n",
              "    }\n",
              "\n",
              "    .dataframe thead th {\n",
              "        text-align: right;\n",
              "    }\n",
              "</style>\n",
              "<table border=\"1\" class=\"dataframe\">\n",
              "  <thead>\n",
              "    <tr style=\"text-align: right;\">\n",
              "      <th></th>\n",
              "      <th>mkt_carrier_fl_num</th>\n",
              "      <th>op_carrier_fl_num</th>\n",
              "      <th>origin_airport_id</th>\n",
              "      <th>dest_airport_id</th>\n",
              "      <th>crs_dep_time</th>\n",
              "      <th>dep_delay</th>\n",
              "      <th>crs_arr_time</th>\n",
              "      <th>crs_elapsed_time</th>\n",
              "      <th>flights</th>\n",
              "      <th>distance</th>\n",
              "      <th>arr_delay</th>\n",
              "      <th>carrier_delay</th>\n",
              "      <th>weather_delay</th>\n",
              "      <th>nas_delay</th>\n",
              "      <th>security_delay</th>\n",
              "      <th>late_aircraft_delay</th>\n",
              "      <th>cancelled</th>\n",
              "      <th>total_add_gtime</th>\n",
              "      <th>longest_add_gtime</th>\n",
              "    </tr>\n",
              "  </thead>\n",
              "  <tbody>\n",
              "    <tr>\n",
              "      <th>count</th>\n",
              "      <td>26987.00000</td>\n",
              "      <td>26987.000000</td>\n",
              "      <td>26987.000000</td>\n",
              "      <td>26987.000000</td>\n",
              "      <td>26987.000000</td>\n",
              "      <td>941.000000</td>\n",
              "      <td>26987.000000</td>\n",
              "      <td>26983.000000</td>\n",
              "      <td>26987.0</td>\n",
              "      <td>26987.000000</td>\n",
              "      <td>0.0</td>\n",
              "      <td>0.0</td>\n",
              "      <td>0.0</td>\n",
              "      <td>0.0</td>\n",
              "      <td>0.0</td>\n",
              "      <td>0.0</td>\n",
              "      <td>26987.0</td>\n",
              "      <td>766.000000</td>\n",
              "      <td>766.000000</td>\n",
              "    </tr>\n",
              "    <tr>\n",
              "      <th>mean</th>\n",
              "      <td>3255.40312</td>\n",
              "      <td>3255.740245</td>\n",
              "      <td>12645.343202</td>\n",
              "      <td>12619.918146</td>\n",
              "      <td>1400.706340</td>\n",
              "      <td>52.925611</td>\n",
              "      <td>1546.118502</td>\n",
              "      <td>121.269021</td>\n",
              "      <td>1.0</td>\n",
              "      <td>606.801126</td>\n",
              "      <td>NaN</td>\n",
              "      <td>NaN</td>\n",
              "      <td>NaN</td>\n",
              "      <td>NaN</td>\n",
              "      <td>NaN</td>\n",
              "      <td>NaN</td>\n",
              "      <td>1.0</td>\n",
              "      <td>78.263708</td>\n",
              "      <td>75.429504</td>\n",
              "    </tr>\n",
              "    <tr>\n",
              "      <th>std</th>\n",
              "      <td>1836.76809</td>\n",
              "      <td>1837.611854</td>\n",
              "      <td>1472.510888</td>\n",
              "      <td>1465.179061</td>\n",
              "      <td>495.946568</td>\n",
              "      <td>86.217604</td>\n",
              "      <td>525.451462</td>\n",
              "      <td>57.151781</td>\n",
              "      <td>0.0</td>\n",
              "      <td>463.861138</td>\n",
              "      <td>NaN</td>\n",
              "      <td>NaN</td>\n",
              "      <td>NaN</td>\n",
              "      <td>NaN</td>\n",
              "      <td>NaN</td>\n",
              "      <td>NaN</td>\n",
              "      <td>0.0</td>\n",
              "      <td>51.923205</td>\n",
              "      <td>48.406769</td>\n",
              "    </tr>\n",
              "    <tr>\n",
              "      <th>min</th>\n",
              "      <td>1.00000</td>\n",
              "      <td>1.000000</td>\n",
              "      <td>10135.000000</td>\n",
              "      <td>10135.000000</td>\n",
              "      <td>1.000000</td>\n",
              "      <td>-24.000000</td>\n",
              "      <td>1.000000</td>\n",
              "      <td>18.000000</td>\n",
              "      <td>1.0</td>\n",
              "      <td>27.000000</td>\n",
              "      <td>NaN</td>\n",
              "      <td>NaN</td>\n",
              "      <td>NaN</td>\n",
              "      <td>NaN</td>\n",
              "      <td>NaN</td>\n",
              "      <td>NaN</td>\n",
              "      <td>1.0</td>\n",
              "      <td>1.000000</td>\n",
              "      <td>1.000000</td>\n",
              "    </tr>\n",
              "    <tr>\n",
              "      <th>25%</th>\n",
              "      <td>1639.00000</td>\n",
              "      <td>1639.000000</td>\n",
              "      <td>11292.000000</td>\n",
              "      <td>11292.000000</td>\n",
              "      <td>955.000000</td>\n",
              "      <td>-2.000000</td>\n",
              "      <td>1125.000000</td>\n",
              "      <td>82.000000</td>\n",
              "      <td>1.0</td>\n",
              "      <td>282.000000</td>\n",
              "      <td>NaN</td>\n",
              "      <td>NaN</td>\n",
              "      <td>NaN</td>\n",
              "      <td>NaN</td>\n",
              "      <td>NaN</td>\n",
              "      <td>NaN</td>\n",
              "      <td>1.0</td>\n",
              "      <td>35.000000</td>\n",
              "      <td>33.250000</td>\n",
              "    </tr>\n",
              "    <tr>\n",
              "      <th>50%</th>\n",
              "      <td>3508.00000</td>\n",
              "      <td>3509.000000</td>\n",
              "      <td>12889.000000</td>\n",
              "      <td>12478.000000</td>\n",
              "      <td>1449.000000</td>\n",
              "      <td>18.000000</td>\n",
              "      <td>1627.000000</td>\n",
              "      <td>106.000000</td>\n",
              "      <td>1.0</td>\n",
              "      <td>477.000000</td>\n",
              "      <td>NaN</td>\n",
              "      <td>NaN</td>\n",
              "      <td>NaN</td>\n",
              "      <td>NaN</td>\n",
              "      <td>NaN</td>\n",
              "      <td>NaN</td>\n",
              "      <td>1.0</td>\n",
              "      <td>68.000000</td>\n",
              "      <td>68.000000</td>\n",
              "    </tr>\n",
              "    <tr>\n",
              "      <th>75%</th>\n",
              "      <td>4901.00000</td>\n",
              "      <td>4902.000000</td>\n",
              "      <td>13930.000000</td>\n",
              "      <td>13930.000000</td>\n",
              "      <td>1819.000000</td>\n",
              "      <td>78.000000</td>\n",
              "      <td>1959.000000</td>\n",
              "      <td>145.000000</td>\n",
              "      <td>1.0</td>\n",
              "      <td>792.000000</td>\n",
              "      <td>NaN</td>\n",
              "      <td>NaN</td>\n",
              "      <td>NaN</td>\n",
              "      <td>NaN</td>\n",
              "      <td>NaN</td>\n",
              "      <td>NaN</td>\n",
              "      <td>1.0</td>\n",
              "      <td>113.000000</td>\n",
              "      <td>110.000000</td>\n",
              "    </tr>\n",
              "    <tr>\n",
              "      <th>max</th>\n",
              "      <td>7439.00000</td>\n",
              "      <td>9372.000000</td>\n",
              "      <td>16869.000000</td>\n",
              "      <td>16869.000000</td>\n",
              "      <td>2359.000000</td>\n",
              "      <td>705.000000</td>\n",
              "      <td>2359.000000</td>\n",
              "      <td>559.000000</td>\n",
              "      <td>1.0</td>\n",
              "      <td>3801.000000</td>\n",
              "      <td>NaN</td>\n",
              "      <td>NaN</td>\n",
              "      <td>NaN</td>\n",
              "      <td>NaN</td>\n",
              "      <td>NaN</td>\n",
              "      <td>NaN</td>\n",
              "      <td>1.0</td>\n",
              "      <td>302.000000</td>\n",
              "      <td>241.000000</td>\n",
              "    </tr>\n",
              "  </tbody>\n",
              "</table>\n",
              "</div>"
            ],
            "text/plain": [
              "       mkt_carrier_fl_num  op_carrier_fl_num  origin_airport_id  \\\n",
              "count         26987.00000       26987.000000       26987.000000   \n",
              "mean           3255.40312        3255.740245       12645.343202   \n",
              "std            1836.76809        1837.611854        1472.510888   \n",
              "min               1.00000           1.000000       10135.000000   \n",
              "25%            1639.00000        1639.000000       11292.000000   \n",
              "50%            3508.00000        3509.000000       12889.000000   \n",
              "75%            4901.00000        4902.000000       13930.000000   \n",
              "max            7439.00000        9372.000000       16869.000000   \n",
              "\n",
              "       dest_airport_id  crs_dep_time   dep_delay  crs_arr_time  \\\n",
              "count     26987.000000  26987.000000  941.000000  26987.000000   \n",
              "mean      12619.918146   1400.706340   52.925611   1546.118502   \n",
              "std        1465.179061    495.946568   86.217604    525.451462   \n",
              "min       10135.000000      1.000000  -24.000000      1.000000   \n",
              "25%       11292.000000    955.000000   -2.000000   1125.000000   \n",
              "50%       12478.000000   1449.000000   18.000000   1627.000000   \n",
              "75%       13930.000000   1819.000000   78.000000   1959.000000   \n",
              "max       16869.000000   2359.000000  705.000000   2359.000000   \n",
              "\n",
              "       crs_elapsed_time  flights      distance  arr_delay  carrier_delay  \\\n",
              "count      26983.000000  26987.0  26987.000000        0.0            0.0   \n",
              "mean         121.269021      1.0    606.801126        NaN            NaN   \n",
              "std           57.151781      0.0    463.861138        NaN            NaN   \n",
              "min           18.000000      1.0     27.000000        NaN            NaN   \n",
              "25%           82.000000      1.0    282.000000        NaN            NaN   \n",
              "50%          106.000000      1.0    477.000000        NaN            NaN   \n",
              "75%          145.000000      1.0    792.000000        NaN            NaN   \n",
              "max          559.000000      1.0   3801.000000        NaN            NaN   \n",
              "\n",
              "       weather_delay  nas_delay  security_delay  late_aircraft_delay  \\\n",
              "count            0.0        0.0             0.0                  0.0   \n",
              "mean             NaN        NaN             NaN                  NaN   \n",
              "std              NaN        NaN             NaN                  NaN   \n",
              "min              NaN        NaN             NaN                  NaN   \n",
              "25%              NaN        NaN             NaN                  NaN   \n",
              "50%              NaN        NaN             NaN                  NaN   \n",
              "75%              NaN        NaN             NaN                  NaN   \n",
              "max              NaN        NaN             NaN                  NaN   \n",
              "\n",
              "       cancelled  total_add_gtime  longest_add_gtime  \n",
              "count    26987.0       766.000000         766.000000  \n",
              "mean         1.0        78.263708          75.429504  \n",
              "std          0.0        51.923205          48.406769  \n",
              "min          1.0         1.000000           1.000000  \n",
              "25%          1.0        35.000000          33.250000  \n",
              "50%          1.0        68.000000          68.000000  \n",
              "75%          1.0       113.000000         110.000000  \n",
              "max          1.0       302.000000         241.000000  "
            ]
          },
          "metadata": {
            "tags": []
          },
          "execution_count": 45
        }
      ]
    },
    {
      "cell_type": "code",
      "metadata": {
        "id": "ovbUE8bnBpGr",
        "colab_type": "code",
        "colab": {}
      },
      "source": [
        "dfF = df[['fl_date', 'mkt_unique_carrier', 'mkt_carrier',\n",
        "       'mkt_carrier_fl_num', 'op_unique_carrier', 'tail_num',\n",
        "       'op_carrier_fl_num', 'origin_airport_id', 'origin', 'origin_city_name',\n",
        "       'dest_airport_id', 'dest', 'dest_city_name', 'crs_dep_time','dep_delay',\n",
        "       'crs_arr_time', 'dup', 'crs_elapsed_time', 'flights', 'distance','cancelled','cancellation_code','total_add_gtime',\n",
        "       'longest_add_gtime']].copy()"
      ],
      "execution_count": 6,
      "outputs": []
    },
    {
      "cell_type": "code",
      "metadata": {
        "id": "LFS2lVWMBo8g",
        "colab_type": "code",
        "colab": {}
      },
      "source": [
        ""
      ],
      "execution_count": null,
      "outputs": []
    },
    {
      "cell_type": "markdown",
      "metadata": {
        "id": "acTtBccMkyaL",
        "colab_type": "text"
      },
      "source": [
        "# Feature engineering"
      ]
    },
    {
      "cell_type": "markdown",
      "metadata": {
        "id": "x4AqShaGkyaV",
        "colab_type": "text"
      },
      "source": [
        "### Create flight number"
      ]
    },
    {
      "cell_type": "code",
      "metadata": {
        "id": "SQ7AZglHkyaW",
        "colab_type": "code",
        "colab": {}
      },
      "source": [
        "dfF['flight_number'] = dfF['mkt_unique_carrier']+dfF['mkt_carrier_fl_num'].astype(str)+dfF['origin']+dfF['dest']"
      ],
      "execution_count": 7,
      "outputs": []
    },
    {
      "cell_type": "code",
      "metadata": {
        "id": "I1cmr2bdkyaa",
        "colab_type": "code",
        "colab": {
          "base_uri": "https://localhost:8080/",
          "height": 225
        },
        "outputId": "5850c2b3-c4a4-4c32-e30b-d6f11276f48a"
      },
      "source": [
        "dfF['flight_number'].value_counts()"
      ],
      "execution_count": 8,
      "outputs": [
        {
          "output_type": "execute_result",
          "data": {
            "text/plain": [
              "UA1768IAHTPA    98\n",
              "NK446LASORD     95\n",
              "UA778IADMCO     95\n",
              "HA64LIHLAX      93\n",
              "UA773DENSMF     93\n",
              "                ..\n",
              "WN2687TPADAL     1\n",
              "WN3358LAXMDW     1\n",
              "WN4630MCIBNA     1\n",
              "WN1911STLMDW     1\n",
              "DL5696SEAGEG     1\n",
              "Name: flight_number, Length: 280824, dtype: int64"
            ]
          },
          "metadata": {
            "tags": []
          },
          "execution_count": 8
        }
      ]
    },
    {
      "cell_type": "code",
      "metadata": {
        "id": "DRf_DNJBkyah",
        "colab_type": "code",
        "colab": {
          "base_uri": "https://localhost:8080/",
          "height": 34
        },
        "outputId": "98f0dcf5-e34c-4693-a824-17148d1fd6ee"
      },
      "source": [
        "print('Number of different flight_numbers in train set : ' +str(len(dfF['flight_number'].value_counts())))"
      ],
      "execution_count": 9,
      "outputs": [
        {
          "output_type": "stream",
          "text": [
            "Number of different flight_numbers in train set : 280824\n"
          ],
          "name": "stdout"
        }
      ]
    },
    {
      "cell_type": "code",
      "metadata": {
        "id": "SOqqWVqskyal",
        "colab_type": "code",
        "colab": {
          "base_uri": "https://localhost:8080/",
          "height": 173
        },
        "outputId": "3a170632-a96a-4bc7-ac66-2cb91de74dd2"
      },
      "source": [
        "dfF.flights.describe()"
      ],
      "execution_count": 10,
      "outputs": [
        {
          "output_type": "execute_result",
          "data": {
            "text/plain": [
              "count    1592444.0\n",
              "mean           1.0\n",
              "std            0.0\n",
              "min            1.0\n",
              "25%            1.0\n",
              "50%            1.0\n",
              "75%            1.0\n",
              "max            1.0\n",
              "Name: flights, dtype: float64"
            ]
          },
          "metadata": {
            "tags": []
          },
          "execution_count": 10
        }
      ]
    },
    {
      "cell_type": "code",
      "metadata": {
        "id": "eY3yT9Jvkya2",
        "colab_type": "code",
        "colab": {}
      },
      "source": [
        ""
      ],
      "execution_count": 10,
      "outputs": []
    },
    {
      "cell_type": "markdown",
      "metadata": {
        "id": "aaLSBU1Vkya5",
        "colab_type": "text"
      },
      "source": [
        "### Convert fly_date to Month / Day / Day of year / Day of Week / Dep Hour and Arr Hour"
      ]
    },
    {
      "cell_type": "code",
      "metadata": {
        "id": "isCrAza0kya6",
        "colab_type": "code",
        "colab": {}
      },
      "source": [
        "dfF.fl_date = pd.to_datetime(dfF.fl_date, format='%Y-%m-%d')\n",
        "dfF['fl_month'] = pd.DatetimeIndex(dfF.fl_date).month\n",
        "dfF['fl_day'] = pd.DatetimeIndex(dfF.fl_date).day\n",
        "dfF['fl_day_of_year'] = dfF.fl_date.dt.dayofyear\n",
        "dfF['fl_day_of_week'] = dfF.fl_date.dt.dayofweek\n",
        "\n",
        "dfF['crs_dep_time'] = dfF['crs_dep_time'].apply(lambda x: '{0:0>4}'.format(x))\n",
        "dfF['crs_arr_time'] = dfF['crs_arr_time'].apply(lambda x: '{0:0>4}'.format(x))\n",
        "\n",
        "dfF['dep_hour'] = dfF['crs_dep_time'].str[:2]\n",
        "dfF['arr_hour'] = dfF['crs_arr_time'].str[:2]"
      ],
      "execution_count": 11,
      "outputs": []
    },
    {
      "cell_type": "code",
      "metadata": {
        "id": "d_6YUOxQkybT",
        "colab_type": "code",
        "colab": {}
      },
      "source": [
        ""
      ],
      "execution_count": 11,
      "outputs": []
    },
    {
      "cell_type": "markdown",
      "metadata": {
        "id": "ehrWhY00kybX",
        "colab_type": "text"
      },
      "source": [
        "### Create short, med, long haul duration type"
      ]
    },
    {
      "cell_type": "code",
      "metadata": {
        "id": "ITtH3YKakybX",
        "colab_type": "code",
        "colab": {}
      },
      "source": [
        "# duration type (eg short, med, long haul)\n",
        "bins = [-100, 180, 360, 2000]\n",
        "labels = [1,2,3]\n",
        "dfF['duration_type'] = pd.cut(dfF['crs_elapsed_time'], bins=bins, labels=labels)"
      ],
      "execution_count": 12,
      "outputs": []
    },
    {
      "cell_type": "code",
      "metadata": {
        "id": "0XCLXxxakybZ",
        "colab_type": "code",
        "colab": {}
      },
      "source": [
        "#dfF"
      ],
      "execution_count": 13,
      "outputs": []
    },
    {
      "cell_type": "markdown",
      "metadata": {
        "id": "yi2ed26fkybj",
        "colab_type": "text"
      },
      "source": [
        "## Day section"
      ]
    },
    {
      "cell_type": "code",
      "metadata": {
        "id": "lEllDti9kybj",
        "colab_type": "code",
        "colab": {}
      },
      "source": [
        "hour_to_daysection = {'00': 0,\n",
        "                      '01': 0,\n",
        "                      '02': 0,\n",
        "                      '03': 0,\n",
        "                      '04': 0,\n",
        "                      '05': 0,\n",
        "                      '06': 1,\n",
        "                      '07': 1,\n",
        "                      '08': 1,\n",
        "                      '09': 1,\n",
        "                      '10': 1,\n",
        "                      '11': 2,\n",
        "                      '12': 2,\n",
        "                      '13': 2,\n",
        "                      '14': 2,\n",
        "                      '15': 2,\n",
        "                      '16': 2,\n",
        "                      '17': 3,\n",
        "                      '18': 3,\n",
        "                      '19': 3,\n",
        "                      '20': 4,\n",
        "                      '21': 4,\n",
        "                      '22': 4,\n",
        "                      '23': 4,\n",
        "                      '24': 4}\n",
        "\n",
        "# Night = 0, Morning rush = 1, Midday = 2, Afternoon rush = 3, Evening = 4\n",
        "\n",
        "dfF['dep_daysection'] = dfF['dep_hour'].map(hour_to_daysection)\n",
        "\n",
        "dfF['arr_daysection'] = dfF['arr_hour'].map(hour_to_daysection)"
      ],
      "execution_count": 14,
      "outputs": []
    },
    {
      "cell_type": "markdown",
      "metadata": {
        "id": "qCbCjrRVkybm",
        "colab_type": "text"
      },
      "source": [
        "## Season"
      ]
    },
    {
      "cell_type": "code",
      "metadata": {
        "id": "jAMIo-nckybn",
        "colab_type": "code",
        "colab": {}
      },
      "source": [
        "month_to_season = {1: 1, 2: 1, 3: 2, 4: 2, 5: 2, 6: 3, 7: 3, 8: 3, 9: 4, 10: 4, 11: 4, 12: 1}\n",
        "dfF['fl_season'] = dfF['fl_month'].map(month_to_season)"
      ],
      "execution_count": 15,
      "outputs": []
    },
    {
      "cell_type": "code",
      "metadata": {
        "id": "lHHsUXGikybo",
        "colab_type": "code",
        "colab": {}
      },
      "source": [
        "#dfF"
      ],
      "execution_count": 16,
      "outputs": []
    },
    {
      "cell_type": "markdown",
      "metadata": {
        "id": "Ly9ljgpykybq",
        "colab_type": "text"
      },
      "source": [
        "## Origin and Destination State"
      ]
    },
    {
      "cell_type": "code",
      "metadata": {
        "id": "ZxpYlMtqkybr",
        "colab_type": "code",
        "colab": {}
      },
      "source": [
        "dfF['origin_state'] = dfF['origin_city_name'].str[-2:]\n",
        "dfF['dest_state'] = dfF['dest_city_name'].str[-2:]"
      ],
      "execution_count": 17,
      "outputs": []
    },
    {
      "cell_type": "code",
      "metadata": {
        "id": "ubLSXzkHkybt",
        "colab_type": "code",
        "colab": {}
      },
      "source": [
        "#dfF"
      ],
      "execution_count": 18,
      "outputs": []
    },
    {
      "cell_type": "code",
      "metadata": {
        "id": "iqMWhNevkybv",
        "colab_type": "code",
        "colab": {}
      },
      "source": [
        ""
      ],
      "execution_count": 18,
      "outputs": []
    },
    {
      "cell_type": "markdown",
      "metadata": {
        "id": "Ai1Zt7WHkyby",
        "colab_type": "text"
      },
      "source": [
        "# Aggregate statistics values\n",
        "\n",
        "## Carrier Volume\n"
      ]
    },
    {
      "cell_type": "code",
      "metadata": {
        "id": "O8OICPpPkyby",
        "colab_type": "code",
        "colab": {}
      },
      "source": [
        "# total volume at origin and dest airport\n",
        "dfF['origin_airport_vol'] = dfF.groupby(['origin_airport_id'])['flights'].transform(np.sum)\n",
        "dfF['dest_airport_vol'] = dfF.groupby(['dest_airport_id'])['flights'].transform(np.sum)\n",
        "\n",
        "# how much the airline operates out of that airport\n",
        "dfF['carrier_origin_apt_vol'] = dfF.groupby(['origin_airport_id','op_unique_carrier'])['flights'].transform(np.sum)\n",
        "dfF['carrier_dest_apt_vol'] = dfF.groupby(['dest_airport_id','op_unique_carrier'])['flights'].transform(np.sum)\n",
        "\n",
        "# how much the airline operates out of that airport as pct\n",
        "dfF['carrier_origin_apt_pct'] = dfF['carrier_origin_apt_vol'] / dfF['origin_airport_vol'] * 100\n",
        "dfF['carrier_dest_apt_pct'] = dfF['carrier_dest_apt_vol'] / dfF['dest_airport_vol'] * 100"
      ],
      "execution_count": 19,
      "outputs": []
    },
    {
      "cell_type": "markdown",
      "metadata": {
        "id": "dA020-V8kyb3",
        "colab_type": "text"
      },
      "source": [
        "## Cancellation Percentage by Carrier"
      ]
    },
    {
      "cell_type": "code",
      "metadata": {
        "id": "4GwYn53tkyb4",
        "colab_type": "code",
        "colab": {}
      },
      "source": [
        "dfF['carrier_cx_pct'] = dfF.groupby(['op_unique_carrier'])['cancelled'].transform(np.sum) / dfF.groupby(['op_unique_carrier'])['flights'].transform(np.sum) * 100\n"
      ],
      "execution_count": 20,
      "outputs": []
    },
    {
      "cell_type": "markdown",
      "metadata": {
        "id": "cb0oU70WGZFa",
        "colab_type": "text"
      },
      "source": [
        "## Cancellation Percentage by Date/time"
      ]
    },
    {
      "cell_type": "code",
      "metadata": {
        "id": "uRLdYMmNGYoL",
        "colab_type": "code",
        "colab": {}
      },
      "source": [
        "times = ['fl_month','dep_hour','dep_daysection','fl_day_of_week','fl_season']\n",
        "for time in times:\n",
        "  dfF[time+'_cx_pct'] = dfF.groupby([time])['cancelled'].transform(np.sum) / dfF.groupby([time])['flights'].transform(np.sum) * 100\n"
      ],
      "execution_count": 21,
      "outputs": []
    },
    {
      "cell_type": "code",
      "metadata": {
        "id": "yDgZDflMGYfp",
        "colab_type": "code",
        "colab": {}
      },
      "source": [
        ""
      ],
      "execution_count": 21,
      "outputs": []
    },
    {
      "cell_type": "markdown",
      "metadata": {
        "id": "EU7wfuivPWsC",
        "colab_type": "text"
      },
      "source": [
        "## Cancellation by location/route"
      ]
    },
    {
      "cell_type": "code",
      "metadata": {
        "id": "ptHwu4LEkycP",
        "colab_type": "code",
        "colab": {}
      },
      "source": [
        "dfF['origin_cancellation_pct'] = dfF.groupby(['origin'])['cancelled'].transform(np.sum) / dfF.groupby(['origin'])['flights'].transform(np.sum) * 100\n",
        "dfF['dest_cancellation_pct'] = dfF.groupby(['dest'])['cancelled'].transform(np.sum) / dfF.groupby(['dest'])['flights'].transform(np.sum) * 100\n",
        "dfF['route_cancellation_pct'] = dfF.groupby(['origin','dest'])['cancelled'].transform(np.sum) / dfF.groupby(['origin','dest'])['flights'].transform(np.sum) * 100\n",
        "dfF['origin_month_cancellation_pct'] = dfF.groupby(['origin','fl_month'])['cancelled'].transform(np.sum) / dfF.groupby(['origin','fl_month'])['flights'].transform(np.sum) * 100\n",
        "dfF['dest_month_cancellation_pct'] = dfF.groupby(['dest','fl_month'])['cancelled'].transform(np.sum) / dfF.groupby(['dest','fl_month'])['flights'].transform(np.sum) * 100\n",
        "dfF['route_month_cancellation_pct'] = dfF.groupby(['origin','dest','fl_month'])['cancelled'].transform(np.sum) / dfF.groupby(['origin','dest','fl_month'])['flights'].transform(np.sum) * 100\n"
      ],
      "execution_count": 22,
      "outputs": []
    },
    {
      "cell_type": "code",
      "metadata": {
        "id": "17c6R6ZSoEGw",
        "colab_type": "code",
        "colab": {}
      },
      "source": [
        ""
      ],
      "execution_count": 22,
      "outputs": []
    },
    {
      "cell_type": "markdown",
      "metadata": {
        "id": "59Vv_7H_kycm",
        "colab_type": "text"
      },
      "source": [
        "# Columns dropping stars here\n",
        "## Convert categorical data"
      ]
    },
    {
      "cell_type": "markdown",
      "metadata": {
        "id": "Crlxam3jkycn",
        "colab_type": "text"
      },
      "source": [
        "### Get dummies"
      ]
    },
    {
      "cell_type": "code",
      "metadata": {
        "id": "wUiDboyOkyco",
        "colab_type": "code",
        "colab": {}
      },
      "source": [
        "#Get dummies\n",
        "#df_dummy = pd.get_dummies(dfF[[\"op_unique_carrier\"]])\n",
        "#df_dummy.shape\n",
        "# Merge into DF\n",
        "#dfF = pd.concat([dfF,df_dummy],axis=1).drop([\"op_unique_carrier\",'op_unique_carrier_9E'],axis=1)\n",
        "\n",
        "#Get dummies\n",
        "#df_dummy = pd.get_dummies(dfFT[[\"op_unique_carrier\"]])\n",
        "#df_dummy.shape\n",
        "# Merge into DF\n",
        "#dfFT = pd.concat([dfFT,df_dummy],axis=1).drop([\"op_unique_carrier\",'op_unique_carrier_9E'],axis=1)"
      ],
      "execution_count": 23,
      "outputs": []
    },
    {
      "cell_type": "code",
      "metadata": {
        "id": "N2ldBjE7kycu",
        "colab_type": "code",
        "colab": {}
      },
      "source": [
        ""
      ],
      "execution_count": 23,
      "outputs": []
    },
    {
      "cell_type": "code",
      "metadata": {
        "id": "_wk5HQVZkycv",
        "colab_type": "code",
        "colab": {}
      },
      "source": [
        ""
      ],
      "execution_count": 23,
      "outputs": []
    },
    {
      "cell_type": "markdown",
      "metadata": {
        "id": "Cqzjl1U-kycx",
        "colab_type": "text"
      },
      "source": [
        "### Drop columns"
      ]
    },
    {
      "cell_type": "code",
      "metadata": {
        "id": "dSefRULCkycx",
        "colab_type": "code",
        "colab": {
          "base_uri": "https://localhost:8080/",
          "height": 972
        },
        "outputId": "6e5816fd-301f-4184-f4c7-e73f33d35402"
      },
      "source": [
        "list(dfF.columns)"
      ],
      "execution_count": 24,
      "outputs": [
        {
          "output_type": "execute_result",
          "data": {
            "text/plain": [
              "['fl_date',\n",
              " 'mkt_unique_carrier',\n",
              " 'mkt_carrier',\n",
              " 'mkt_carrier_fl_num',\n",
              " 'op_unique_carrier',\n",
              " 'tail_num',\n",
              " 'op_carrier_fl_num',\n",
              " 'origin_airport_id',\n",
              " 'origin',\n",
              " 'origin_city_name',\n",
              " 'dest_airport_id',\n",
              " 'dest',\n",
              " 'dest_city_name',\n",
              " 'crs_dep_time',\n",
              " 'dep_delay',\n",
              " 'crs_arr_time',\n",
              " 'dup',\n",
              " 'crs_elapsed_time',\n",
              " 'flights',\n",
              " 'distance',\n",
              " 'cancelled',\n",
              " 'cancellation_code',\n",
              " 'total_add_gtime',\n",
              " 'longest_add_gtime',\n",
              " 'flight_number',\n",
              " 'fl_month',\n",
              " 'fl_day',\n",
              " 'fl_day_of_year',\n",
              " 'fl_day_of_week',\n",
              " 'dep_hour',\n",
              " 'arr_hour',\n",
              " 'duration_type',\n",
              " 'dep_daysection',\n",
              " 'arr_daysection',\n",
              " 'fl_season',\n",
              " 'origin_state',\n",
              " 'dest_state',\n",
              " 'origin_airport_vol',\n",
              " 'dest_airport_vol',\n",
              " 'carrier_origin_apt_vol',\n",
              " 'carrier_dest_apt_vol',\n",
              " 'carrier_origin_apt_pct',\n",
              " 'carrier_dest_apt_pct',\n",
              " 'carrier_cx_pct',\n",
              " 'fl_month_cx_pct',\n",
              " 'dep_hour_cx_pct',\n",
              " 'dep_daysection_cx_pct',\n",
              " 'fl_day_of_week_cx_pct',\n",
              " 'fl_season_cx_pct',\n",
              " 'origin_cancellation_pct',\n",
              " 'dest_cancellation_pct',\n",
              " 'route_cancellation_pct',\n",
              " 'origin_month_cancellation_pct',\n",
              " 'dest_month_cancellation_pct',\n",
              " 'route_month_cancellation_pct']"
            ]
          },
          "metadata": {
            "tags": []
          },
          "execution_count": 24
        }
      ]
    },
    {
      "cell_type": "code",
      "metadata": {
        "id": "0ThuQB5Bkycz",
        "colab_type": "code",
        "colab": {}
      },
      "source": [
        ""
      ],
      "execution_count": null,
      "outputs": []
    },
    {
      "cell_type": "code",
      "metadata": {
        "id": "hjIluZjvkyc1",
        "colab_type": "code",
        "colab": {
          "base_uri": "https://localhost:8080/",
          "height": 479
        },
        "outputId": "053645ea-76d8-4cf6-e5a2-b775cd5784ed"
      },
      "source": [
        "dfF1 = dfF\n",
        "dfF1"
      ],
      "execution_count": 25,
      "outputs": [
        {
          "output_type": "execute_result",
          "data": {
            "text/html": [
              "<div>\n",
              "<style scoped>\n",
              "    .dataframe tbody tr th:only-of-type {\n",
              "        vertical-align: middle;\n",
              "    }\n",
              "\n",
              "    .dataframe tbody tr th {\n",
              "        vertical-align: top;\n",
              "    }\n",
              "\n",
              "    .dataframe thead th {\n",
              "        text-align: right;\n",
              "    }\n",
              "</style>\n",
              "<table border=\"1\" class=\"dataframe\">\n",
              "  <thead>\n",
              "    <tr style=\"text-align: right;\">\n",
              "      <th></th>\n",
              "      <th>fl_date</th>\n",
              "      <th>mkt_unique_carrier</th>\n",
              "      <th>mkt_carrier</th>\n",
              "      <th>mkt_carrier_fl_num</th>\n",
              "      <th>op_unique_carrier</th>\n",
              "      <th>tail_num</th>\n",
              "      <th>op_carrier_fl_num</th>\n",
              "      <th>origin_airport_id</th>\n",
              "      <th>origin</th>\n",
              "      <th>origin_city_name</th>\n",
              "      <th>dest_airport_id</th>\n",
              "      <th>dest</th>\n",
              "      <th>dest_city_name</th>\n",
              "      <th>crs_dep_time</th>\n",
              "      <th>dep_delay</th>\n",
              "      <th>crs_arr_time</th>\n",
              "      <th>dup</th>\n",
              "      <th>crs_elapsed_time</th>\n",
              "      <th>flights</th>\n",
              "      <th>distance</th>\n",
              "      <th>cancelled</th>\n",
              "      <th>cancellation_code</th>\n",
              "      <th>total_add_gtime</th>\n",
              "      <th>longest_add_gtime</th>\n",
              "      <th>flight_number</th>\n",
              "      <th>fl_month</th>\n",
              "      <th>fl_day</th>\n",
              "      <th>fl_day_of_year</th>\n",
              "      <th>fl_day_of_week</th>\n",
              "      <th>dep_hour</th>\n",
              "      <th>arr_hour</th>\n",
              "      <th>duration_type</th>\n",
              "      <th>dep_daysection</th>\n",
              "      <th>arr_daysection</th>\n",
              "      <th>fl_season</th>\n",
              "      <th>origin_state</th>\n",
              "      <th>dest_state</th>\n",
              "      <th>origin_airport_vol</th>\n",
              "      <th>dest_airport_vol</th>\n",
              "      <th>carrier_origin_apt_vol</th>\n",
              "      <th>carrier_dest_apt_vol</th>\n",
              "      <th>carrier_origin_apt_pct</th>\n",
              "      <th>carrier_dest_apt_pct</th>\n",
              "      <th>carrier_cx_pct</th>\n",
              "      <th>fl_month_cx_pct</th>\n",
              "      <th>dep_hour_cx_pct</th>\n",
              "      <th>dep_daysection_cx_pct</th>\n",
              "      <th>fl_day_of_week_cx_pct</th>\n",
              "      <th>fl_season_cx_pct</th>\n",
              "      <th>origin_cancellation_pct</th>\n",
              "      <th>dest_cancellation_pct</th>\n",
              "      <th>route_cancellation_pct</th>\n",
              "      <th>origin_month_cancellation_pct</th>\n",
              "      <th>dest_month_cancellation_pct</th>\n",
              "      <th>route_month_cancellation_pct</th>\n",
              "    </tr>\n",
              "  </thead>\n",
              "  <tbody>\n",
              "    <tr>\n",
              "      <th>0</th>\n",
              "      <td>2018-05-29</td>\n",
              "      <td>DL</td>\n",
              "      <td>DL</td>\n",
              "      <td>551</td>\n",
              "      <td>DL</td>\n",
              "      <td>N945DL</td>\n",
              "      <td>551</td>\n",
              "      <td>10397</td>\n",
              "      <td>ATL</td>\n",
              "      <td>Atlanta, GA</td>\n",
              "      <td>11995</td>\n",
              "      <td>GSO</td>\n",
              "      <td>Greensboro/High Point, NC</td>\n",
              "      <td>2331</td>\n",
              "      <td>31.0</td>\n",
              "      <td>0039</td>\n",
              "      <td>N</td>\n",
              "      <td>68.0</td>\n",
              "      <td>1</td>\n",
              "      <td>306</td>\n",
              "      <td>0</td>\n",
              "      <td>NaN</td>\n",
              "      <td>NaN</td>\n",
              "      <td>NaN</td>\n",
              "      <td>DL551ATLGSO</td>\n",
              "      <td>5</td>\n",
              "      <td>29</td>\n",
              "      <td>149</td>\n",
              "      <td>1</td>\n",
              "      <td>23</td>\n",
              "      <td>00</td>\n",
              "      <td>1</td>\n",
              "      <td>4</td>\n",
              "      <td>0</td>\n",
              "      <td>2</td>\n",
              "      <td>GA</td>\n",
              "      <td>NC</td>\n",
              "      <td>78303</td>\n",
              "      <td>3569</td>\n",
              "      <td>48800</td>\n",
              "      <td>521</td>\n",
              "      <td>62.322006</td>\n",
              "      <td>14.597927</td>\n",
              "      <td>0.195112</td>\n",
              "      <td>1.688343</td>\n",
              "      <td>1.028844</td>\n",
              "      <td>1.983256</td>\n",
              "      <td>1.815103</td>\n",
              "      <td>1.957785</td>\n",
              "      <td>0.509559</td>\n",
              "      <td>2.661810</td>\n",
              "      <td>0.186567</td>\n",
              "      <td>0.380673</td>\n",
              "      <td>3.448276</td>\n",
              "      <td>0.000000</td>\n",
              "    </tr>\n",
              "    <tr>\n",
              "      <th>1</th>\n",
              "      <td>2018-05-29</td>\n",
              "      <td>DL</td>\n",
              "      <td>DL</td>\n",
              "      <td>565</td>\n",
              "      <td>DL</td>\n",
              "      <td>N918DH</td>\n",
              "      <td>565</td>\n",
              "      <td>14100</td>\n",
              "      <td>PHL</td>\n",
              "      <td>Philadelphia, PA</td>\n",
              "      <td>11433</td>\n",
              "      <td>DTW</td>\n",
              "      <td>Detroit, MI</td>\n",
              "      <td>0600</td>\n",
              "      <td>-6.0</td>\n",
              "      <td>0737</td>\n",
              "      <td>N</td>\n",
              "      <td>97.0</td>\n",
              "      <td>1</td>\n",
              "      <td>453</td>\n",
              "      <td>0</td>\n",
              "      <td>NaN</td>\n",
              "      <td>NaN</td>\n",
              "      <td>NaN</td>\n",
              "      <td>DL565PHLDTW</td>\n",
              "      <td>5</td>\n",
              "      <td>29</td>\n",
              "      <td>149</td>\n",
              "      <td>1</td>\n",
              "      <td>06</td>\n",
              "      <td>07</td>\n",
              "      <td>1</td>\n",
              "      <td>1</td>\n",
              "      <td>1</td>\n",
              "      <td>2</td>\n",
              "      <td>PA</td>\n",
              "      <td>MI</td>\n",
              "      <td>31102</td>\n",
              "      <td>34914</td>\n",
              "      <td>1290</td>\n",
              "      <td>11442</td>\n",
              "      <td>4.147643</td>\n",
              "      <td>32.771954</td>\n",
              "      <td>0.195112</td>\n",
              "      <td>1.688343</td>\n",
              "      <td>1.566918</td>\n",
              "      <td>1.421067</td>\n",
              "      <td>1.815103</td>\n",
              "      <td>1.957785</td>\n",
              "      <td>2.890489</td>\n",
              "      <td>0.942315</td>\n",
              "      <td>2.060440</td>\n",
              "      <td>2.703677</td>\n",
              "      <td>0.507786</td>\n",
              "      <td>0.000000</td>\n",
              "    </tr>\n",
              "    <tr>\n",
              "      <th>2</th>\n",
              "      <td>2018-05-29</td>\n",
              "      <td>DL</td>\n",
              "      <td>DL</td>\n",
              "      <td>658</td>\n",
              "      <td>DL</td>\n",
              "      <td>N990DL</td>\n",
              "      <td>658</td>\n",
              "      <td>10397</td>\n",
              "      <td>ATL</td>\n",
              "      <td>Atlanta, GA</td>\n",
              "      <td>12448</td>\n",
              "      <td>JAN</td>\n",
              "      <td>Jackson/Vicksburg, MS</td>\n",
              "      <td>1950</td>\n",
              "      <td>26.0</td>\n",
              "      <td>2010</td>\n",
              "      <td>N</td>\n",
              "      <td>80.0</td>\n",
              "      <td>1</td>\n",
              "      <td>341</td>\n",
              "      <td>0</td>\n",
              "      <td>NaN</td>\n",
              "      <td>NaN</td>\n",
              "      <td>NaN</td>\n",
              "      <td>DL658ATLJAN</td>\n",
              "      <td>5</td>\n",
              "      <td>29</td>\n",
              "      <td>149</td>\n",
              "      <td>1</td>\n",
              "      <td>19</td>\n",
              "      <td>20</td>\n",
              "      <td>1</td>\n",
              "      <td>3</td>\n",
              "      <td>4</td>\n",
              "      <td>2</td>\n",
              "      <td>GA</td>\n",
              "      <td>MS</td>\n",
              "      <td>78303</td>\n",
              "      <td>1627</td>\n",
              "      <td>48800</td>\n",
              "      <td>460</td>\n",
              "      <td>62.322006</td>\n",
              "      <td>28.272895</td>\n",
              "      <td>0.195112</td>\n",
              "      <td>1.688343</td>\n",
              "      <td>2.208482</td>\n",
              "      <td>2.205346</td>\n",
              "      <td>1.815103</td>\n",
              "      <td>1.957785</td>\n",
              "      <td>0.509559</td>\n",
              "      <td>1.905347</td>\n",
              "      <td>0.204082</td>\n",
              "      <td>0.380673</td>\n",
              "      <td>3.007519</td>\n",
              "      <td>0.000000</td>\n",
              "    </tr>\n",
              "    <tr>\n",
              "      <th>3</th>\n",
              "      <td>2018-05-29</td>\n",
              "      <td>DL</td>\n",
              "      <td>DL</td>\n",
              "      <td>678</td>\n",
              "      <td>DL</td>\n",
              "      <td>N365NB</td>\n",
              "      <td>678</td>\n",
              "      <td>11996</td>\n",
              "      <td>GSP</td>\n",
              "      <td>Greer, SC</td>\n",
              "      <td>11433</td>\n",
              "      <td>DTW</td>\n",
              "      <td>Detroit, MI</td>\n",
              "      <td>0600</td>\n",
              "      <td>-5.0</td>\n",
              "      <td>0750</td>\n",
              "      <td>N</td>\n",
              "      <td>110.0</td>\n",
              "      <td>1</td>\n",
              "      <td>508</td>\n",
              "      <td>0</td>\n",
              "      <td>NaN</td>\n",
              "      <td>NaN</td>\n",
              "      <td>NaN</td>\n",
              "      <td>DL678GSPDTW</td>\n",
              "      <td>5</td>\n",
              "      <td>29</td>\n",
              "      <td>149</td>\n",
              "      <td>1</td>\n",
              "      <td>06</td>\n",
              "      <td>07</td>\n",
              "      <td>1</td>\n",
              "      <td>1</td>\n",
              "      <td>1</td>\n",
              "      <td>2</td>\n",
              "      <td>SC</td>\n",
              "      <td>MI</td>\n",
              "      <td>3485</td>\n",
              "      <td>34914</td>\n",
              "      <td>604</td>\n",
              "      <td>11442</td>\n",
              "      <td>17.331420</td>\n",
              "      <td>32.771954</td>\n",
              "      <td>0.195112</td>\n",
              "      <td>1.688343</td>\n",
              "      <td>1.566918</td>\n",
              "      <td>1.421067</td>\n",
              "      <td>1.815103</td>\n",
              "      <td>1.957785</td>\n",
              "      <td>2.123386</td>\n",
              "      <td>0.942315</td>\n",
              "      <td>0.478469</td>\n",
              "      <td>2.140673</td>\n",
              "      <td>0.507786</td>\n",
              "      <td>0.000000</td>\n",
              "    </tr>\n",
              "    <tr>\n",
              "      <th>4</th>\n",
              "      <td>2018-05-29</td>\n",
              "      <td>DL</td>\n",
              "      <td>DL</td>\n",
              "      <td>724</td>\n",
              "      <td>DL</td>\n",
              "      <td>N819DN</td>\n",
              "      <td>724</td>\n",
              "      <td>14869</td>\n",
              "      <td>SLC</td>\n",
              "      <td>Salt Lake City, UT</td>\n",
              "      <td>10849</td>\n",
              "      <td>BZN</td>\n",
              "      <td>Bozeman, MT</td>\n",
              "      <td>2220</td>\n",
              "      <td>41.0</td>\n",
              "      <td>2333</td>\n",
              "      <td>N</td>\n",
              "      <td>73.0</td>\n",
              "      <td>1</td>\n",
              "      <td>347</td>\n",
              "      <td>0</td>\n",
              "      <td>NaN</td>\n",
              "      <td>NaN</td>\n",
              "      <td>NaN</td>\n",
              "      <td>DL724SLCBZN</td>\n",
              "      <td>5</td>\n",
              "      <td>29</td>\n",
              "      <td>149</td>\n",
              "      <td>1</td>\n",
              "      <td>22</td>\n",
              "      <td>23</td>\n",
              "      <td>1</td>\n",
              "      <td>4</td>\n",
              "      <td>4</td>\n",
              "      <td>2</td>\n",
              "      <td>UT</td>\n",
              "      <td>MT</td>\n",
              "      <td>23865</td>\n",
              "      <td>1619</td>\n",
              "      <td>9070</td>\n",
              "      <td>316</td>\n",
              "      <td>38.005447</td>\n",
              "      <td>19.518221</td>\n",
              "      <td>0.195112</td>\n",
              "      <td>1.688343</td>\n",
              "      <td>1.921364</td>\n",
              "      <td>1.983256</td>\n",
              "      <td>1.815103</td>\n",
              "      <td>1.957785</td>\n",
              "      <td>0.351980</td>\n",
              "      <td>0.679432</td>\n",
              "      <td>0.000000</td>\n",
              "      <td>0.339971</td>\n",
              "      <td>0.917431</td>\n",
              "      <td>0.000000</td>\n",
              "    </tr>\n",
              "    <tr>\n",
              "      <th>...</th>\n",
              "      <td>...</td>\n",
              "      <td>...</td>\n",
              "      <td>...</td>\n",
              "      <td>...</td>\n",
              "      <td>...</td>\n",
              "      <td>...</td>\n",
              "      <td>...</td>\n",
              "      <td>...</td>\n",
              "      <td>...</td>\n",
              "      <td>...</td>\n",
              "      <td>...</td>\n",
              "      <td>...</td>\n",
              "      <td>...</td>\n",
              "      <td>...</td>\n",
              "      <td>...</td>\n",
              "      <td>...</td>\n",
              "      <td>...</td>\n",
              "      <td>...</td>\n",
              "      <td>...</td>\n",
              "      <td>...</td>\n",
              "      <td>...</td>\n",
              "      <td>...</td>\n",
              "      <td>...</td>\n",
              "      <td>...</td>\n",
              "      <td>...</td>\n",
              "      <td>...</td>\n",
              "      <td>...</td>\n",
              "      <td>...</td>\n",
              "      <td>...</td>\n",
              "      <td>...</td>\n",
              "      <td>...</td>\n",
              "      <td>...</td>\n",
              "      <td>...</td>\n",
              "      <td>...</td>\n",
              "      <td>...</td>\n",
              "      <td>...</td>\n",
              "      <td>...</td>\n",
              "      <td>...</td>\n",
              "      <td>...</td>\n",
              "      <td>...</td>\n",
              "      <td>...</td>\n",
              "      <td>...</td>\n",
              "      <td>...</td>\n",
              "      <td>...</td>\n",
              "      <td>...</td>\n",
              "      <td>...</td>\n",
              "      <td>...</td>\n",
              "      <td>...</td>\n",
              "      <td>...</td>\n",
              "      <td>...</td>\n",
              "      <td>...</td>\n",
              "      <td>...</td>\n",
              "      <td>...</td>\n",
              "      <td>...</td>\n",
              "      <td>...</td>\n",
              "    </tr>\n",
              "    <tr>\n",
              "      <th>1592439</th>\n",
              "      <td>2018-05-29</td>\n",
              "      <td>DL</td>\n",
              "      <td>DL</td>\n",
              "      <td>458</td>\n",
              "      <td>DL</td>\n",
              "      <td>N175DZ</td>\n",
              "      <td>458</td>\n",
              "      <td>12478</td>\n",
              "      <td>JFK</td>\n",
              "      <td>New York, NY</td>\n",
              "      <td>12892</td>\n",
              "      <td>LAX</td>\n",
              "      <td>Los Angeles, CA</td>\n",
              "      <td>1355</td>\n",
              "      <td>-3.0</td>\n",
              "      <td>1701</td>\n",
              "      <td>N</td>\n",
              "      <td>366.0</td>\n",
              "      <td>1</td>\n",
              "      <td>2475</td>\n",
              "      <td>0</td>\n",
              "      <td>NaN</td>\n",
              "      <td>NaN</td>\n",
              "      <td>NaN</td>\n",
              "      <td>DL458JFKLAX</td>\n",
              "      <td>5</td>\n",
              "      <td>29</td>\n",
              "      <td>149</td>\n",
              "      <td>1</td>\n",
              "      <td>13</td>\n",
              "      <td>17</td>\n",
              "      <td>3</td>\n",
              "      <td>2</td>\n",
              "      <td>3</td>\n",
              "      <td>2</td>\n",
              "      <td>NY</td>\n",
              "      <td>CA</td>\n",
              "      <td>25875</td>\n",
              "      <td>49948</td>\n",
              "      <td>6258</td>\n",
              "      <td>7002</td>\n",
              "      <td>24.185507</td>\n",
              "      <td>14.018579</td>\n",
              "      <td>0.195112</td>\n",
              "      <td>1.688343</td>\n",
              "      <td>1.527128</td>\n",
              "      <td>1.594470</td>\n",
              "      <td>1.815103</td>\n",
              "      <td>1.957785</td>\n",
              "      <td>1.685024</td>\n",
              "      <td>1.013054</td>\n",
              "      <td>0.658659</td>\n",
              "      <td>1.115760</td>\n",
              "      <td>1.187980</td>\n",
              "      <td>0.456621</td>\n",
              "    </tr>\n",
              "    <tr>\n",
              "      <th>1592440</th>\n",
              "      <td>2018-05-29</td>\n",
              "      <td>DL</td>\n",
              "      <td>DL</td>\n",
              "      <td>460</td>\n",
              "      <td>DL</td>\n",
              "      <td>N831MH</td>\n",
              "      <td>460</td>\n",
              "      <td>12478</td>\n",
              "      <td>JFK</td>\n",
              "      <td>New York, NY</td>\n",
              "      <td>12892</td>\n",
              "      <td>LAX</td>\n",
              "      <td>Los Angeles, CA</td>\n",
              "      <td>1819</td>\n",
              "      <td>-3.0</td>\n",
              "      <td>2135</td>\n",
              "      <td>N</td>\n",
              "      <td>376.0</td>\n",
              "      <td>1</td>\n",
              "      <td>2475</td>\n",
              "      <td>0</td>\n",
              "      <td>NaN</td>\n",
              "      <td>NaN</td>\n",
              "      <td>NaN</td>\n",
              "      <td>DL460JFKLAX</td>\n",
              "      <td>5</td>\n",
              "      <td>29</td>\n",
              "      <td>149</td>\n",
              "      <td>1</td>\n",
              "      <td>18</td>\n",
              "      <td>21</td>\n",
              "      <td>3</td>\n",
              "      <td>3</td>\n",
              "      <td>4</td>\n",
              "      <td>2</td>\n",
              "      <td>NY</td>\n",
              "      <td>CA</td>\n",
              "      <td>25875</td>\n",
              "      <td>49948</td>\n",
              "      <td>6258</td>\n",
              "      <td>7002</td>\n",
              "      <td>24.185507</td>\n",
              "      <td>14.018579</td>\n",
              "      <td>0.195112</td>\n",
              "      <td>1.688343</td>\n",
              "      <td>2.364007</td>\n",
              "      <td>2.205346</td>\n",
              "      <td>1.815103</td>\n",
              "      <td>1.957785</td>\n",
              "      <td>1.685024</td>\n",
              "      <td>1.013054</td>\n",
              "      <td>0.658659</td>\n",
              "      <td>1.115760</td>\n",
              "      <td>1.187980</td>\n",
              "      <td>0.456621</td>\n",
              "    </tr>\n",
              "    <tr>\n",
              "      <th>1592441</th>\n",
              "      <td>2018-05-29</td>\n",
              "      <td>DL</td>\n",
              "      <td>DL</td>\n",
              "      <td>465</td>\n",
              "      <td>DL</td>\n",
              "      <td>N3773D</td>\n",
              "      <td>465</td>\n",
              "      <td>14869</td>\n",
              "      <td>SLC</td>\n",
              "      <td>Salt Lake City, UT</td>\n",
              "      <td>13495</td>\n",
              "      <td>MSY</td>\n",
              "      <td>New Orleans, LA</td>\n",
              "      <td>1359</td>\n",
              "      <td>-6.0</td>\n",
              "      <td>1823</td>\n",
              "      <td>N</td>\n",
              "      <td>204.0</td>\n",
              "      <td>1</td>\n",
              "      <td>1428</td>\n",
              "      <td>0</td>\n",
              "      <td>NaN</td>\n",
              "      <td>NaN</td>\n",
              "      <td>NaN</td>\n",
              "      <td>DL465SLCMSY</td>\n",
              "      <td>5</td>\n",
              "      <td>29</td>\n",
              "      <td>149</td>\n",
              "      <td>1</td>\n",
              "      <td>13</td>\n",
              "      <td>18</td>\n",
              "      <td>2</td>\n",
              "      <td>2</td>\n",
              "      <td>3</td>\n",
              "      <td>2</td>\n",
              "      <td>UT</td>\n",
              "      <td>LA</td>\n",
              "      <td>23865</td>\n",
              "      <td>11424</td>\n",
              "      <td>9070</td>\n",
              "      <td>1523</td>\n",
              "      <td>38.005447</td>\n",
              "      <td>13.331583</td>\n",
              "      <td>0.195112</td>\n",
              "      <td>1.688343</td>\n",
              "      <td>1.527128</td>\n",
              "      <td>1.594470</td>\n",
              "      <td>1.815103</td>\n",
              "      <td>1.957785</td>\n",
              "      <td>0.351980</td>\n",
              "      <td>1.242997</td>\n",
              "      <td>0.000000</td>\n",
              "      <td>0.339971</td>\n",
              "      <td>1.624365</td>\n",
              "      <td>0.000000</td>\n",
              "    </tr>\n",
              "    <tr>\n",
              "      <th>1592442</th>\n",
              "      <td>2018-05-29</td>\n",
              "      <td>DL</td>\n",
              "      <td>DL</td>\n",
              "      <td>470</td>\n",
              "      <td>DL</td>\n",
              "      <td>N822DX</td>\n",
              "      <td>470</td>\n",
              "      <td>10397</td>\n",
              "      <td>ATL</td>\n",
              "      <td>Atlanta, GA</td>\n",
              "      <td>12478</td>\n",
              "      <td>JFK</td>\n",
              "      <td>New York, NY</td>\n",
              "      <td>1340</td>\n",
              "      <td>16.0</td>\n",
              "      <td>1601</td>\n",
              "      <td>N</td>\n",
              "      <td>141.0</td>\n",
              "      <td>1</td>\n",
              "      <td>760</td>\n",
              "      <td>0</td>\n",
              "      <td>NaN</td>\n",
              "      <td>NaN</td>\n",
              "      <td>NaN</td>\n",
              "      <td>DL470ATLJFK</td>\n",
              "      <td>5</td>\n",
              "      <td>29</td>\n",
              "      <td>149</td>\n",
              "      <td>1</td>\n",
              "      <td>13</td>\n",
              "      <td>16</td>\n",
              "      <td>1</td>\n",
              "      <td>2</td>\n",
              "      <td>2</td>\n",
              "      <td>2</td>\n",
              "      <td>GA</td>\n",
              "      <td>NY</td>\n",
              "      <td>78303</td>\n",
              "      <td>25524</td>\n",
              "      <td>48800</td>\n",
              "      <td>6202</td>\n",
              "      <td>62.322006</td>\n",
              "      <td>24.298699</td>\n",
              "      <td>0.195112</td>\n",
              "      <td>1.688343</td>\n",
              "      <td>1.527128</td>\n",
              "      <td>1.594470</td>\n",
              "      <td>1.815103</td>\n",
              "      <td>1.957785</td>\n",
              "      <td>0.509559</td>\n",
              "      <td>1.939351</td>\n",
              "      <td>0.921659</td>\n",
              "      <td>0.380673</td>\n",
              "      <td>0.895804</td>\n",
              "      <td>0.000000</td>\n",
              "    </tr>\n",
              "    <tr>\n",
              "      <th>1592443</th>\n",
              "      <td>2018-05-29</td>\n",
              "      <td>DL</td>\n",
              "      <td>DL</td>\n",
              "      <td>496</td>\n",
              "      <td>DL</td>\n",
              "      <td>N854DN</td>\n",
              "      <td>496</td>\n",
              "      <td>13487</td>\n",
              "      <td>MSP</td>\n",
              "      <td>Minneapolis, MN</td>\n",
              "      <td>14107</td>\n",
              "      <td>PHX</td>\n",
              "      <td>Phoenix, AZ</td>\n",
              "      <td>1140</td>\n",
              "      <td>-4.0</td>\n",
              "      <td>1303</td>\n",
              "      <td>N</td>\n",
              "      <td>203.0</td>\n",
              "      <td>1</td>\n",
              "      <td>1276</td>\n",
              "      <td>0</td>\n",
              "      <td>NaN</td>\n",
              "      <td>NaN</td>\n",
              "      <td>NaN</td>\n",
              "      <td>DL496MSPPHX</td>\n",
              "      <td>5</td>\n",
              "      <td>29</td>\n",
              "      <td>149</td>\n",
              "      <td>1</td>\n",
              "      <td>11</td>\n",
              "      <td>13</td>\n",
              "      <td>2</td>\n",
              "      <td>2</td>\n",
              "      <td>2</td>\n",
              "      <td>2</td>\n",
              "      <td>MN</td>\n",
              "      <td>AZ</td>\n",
              "      <td>32728</td>\n",
              "      <td>35779</td>\n",
              "      <td>13578</td>\n",
              "      <td>1685</td>\n",
              "      <td>41.487411</td>\n",
              "      <td>4.709466</td>\n",
              "      <td>0.195112</td>\n",
              "      <td>1.688343</td>\n",
              "      <td>1.247075</td>\n",
              "      <td>1.594470</td>\n",
              "      <td>1.815103</td>\n",
              "      <td>1.957785</td>\n",
              "      <td>0.922757</td>\n",
              "      <td>1.120769</td>\n",
              "      <td>0.608273</td>\n",
              "      <td>0.326560</td>\n",
              "      <td>1.570331</td>\n",
              "      <td>0.000000</td>\n",
              "    </tr>\n",
              "  </tbody>\n",
              "</table>\n",
              "<p>1592444 rows × 55 columns</p>\n",
              "</div>"
            ],
            "text/plain": [
              "           fl_date mkt_unique_carrier mkt_carrier  mkt_carrier_fl_num  \\\n",
              "0       2018-05-29                 DL          DL                 551   \n",
              "1       2018-05-29                 DL          DL                 565   \n",
              "2       2018-05-29                 DL          DL                 658   \n",
              "3       2018-05-29                 DL          DL                 678   \n",
              "4       2018-05-29                 DL          DL                 724   \n",
              "...            ...                ...         ...                 ...   \n",
              "1592439 2018-05-29                 DL          DL                 458   \n",
              "1592440 2018-05-29                 DL          DL                 460   \n",
              "1592441 2018-05-29                 DL          DL                 465   \n",
              "1592442 2018-05-29                 DL          DL                 470   \n",
              "1592443 2018-05-29                 DL          DL                 496   \n",
              "\n",
              "        op_unique_carrier tail_num  op_carrier_fl_num  origin_airport_id  \\\n",
              "0                      DL   N945DL                551              10397   \n",
              "1                      DL   N918DH                565              14100   \n",
              "2                      DL   N990DL                658              10397   \n",
              "3                      DL   N365NB                678              11996   \n",
              "4                      DL   N819DN                724              14869   \n",
              "...                   ...      ...                ...                ...   \n",
              "1592439                DL   N175DZ                458              12478   \n",
              "1592440                DL   N831MH                460              12478   \n",
              "1592441                DL   N3773D                465              14869   \n",
              "1592442                DL   N822DX                470              10397   \n",
              "1592443                DL   N854DN                496              13487   \n",
              "\n",
              "        origin    origin_city_name  dest_airport_id dest  \\\n",
              "0          ATL         Atlanta, GA            11995  GSO   \n",
              "1          PHL    Philadelphia, PA            11433  DTW   \n",
              "2          ATL         Atlanta, GA            12448  JAN   \n",
              "3          GSP           Greer, SC            11433  DTW   \n",
              "4          SLC  Salt Lake City, UT            10849  BZN   \n",
              "...        ...                 ...              ...  ...   \n",
              "1592439    JFK        New York, NY            12892  LAX   \n",
              "1592440    JFK        New York, NY            12892  LAX   \n",
              "1592441    SLC  Salt Lake City, UT            13495  MSY   \n",
              "1592442    ATL         Atlanta, GA            12478  JFK   \n",
              "1592443    MSP     Minneapolis, MN            14107  PHX   \n",
              "\n",
              "                    dest_city_name crs_dep_time  dep_delay crs_arr_time dup  \\\n",
              "0        Greensboro/High Point, NC         2331       31.0         0039   N   \n",
              "1                      Detroit, MI         0600       -6.0         0737   N   \n",
              "2            Jackson/Vicksburg, MS         1950       26.0         2010   N   \n",
              "3                      Detroit, MI         0600       -5.0         0750   N   \n",
              "4                      Bozeman, MT         2220       41.0         2333   N   \n",
              "...                            ...          ...        ...          ...  ..   \n",
              "1592439            Los Angeles, CA         1355       -3.0         1701   N   \n",
              "1592440            Los Angeles, CA         1819       -3.0         2135   N   \n",
              "1592441            New Orleans, LA         1359       -6.0         1823   N   \n",
              "1592442               New York, NY         1340       16.0         1601   N   \n",
              "1592443                Phoenix, AZ         1140       -4.0         1303   N   \n",
              "\n",
              "         crs_elapsed_time  flights  distance  cancelled cancellation_code  \\\n",
              "0                    68.0        1       306          0               NaN   \n",
              "1                    97.0        1       453          0               NaN   \n",
              "2                    80.0        1       341          0               NaN   \n",
              "3                   110.0        1       508          0               NaN   \n",
              "4                    73.0        1       347          0               NaN   \n",
              "...                   ...      ...       ...        ...               ...   \n",
              "1592439             366.0        1      2475          0               NaN   \n",
              "1592440             376.0        1      2475          0               NaN   \n",
              "1592441             204.0        1      1428          0               NaN   \n",
              "1592442             141.0        1       760          0               NaN   \n",
              "1592443             203.0        1      1276          0               NaN   \n",
              "\n",
              "         total_add_gtime  longest_add_gtime flight_number  fl_month  fl_day  \\\n",
              "0                    NaN                NaN   DL551ATLGSO         5      29   \n",
              "1                    NaN                NaN   DL565PHLDTW         5      29   \n",
              "2                    NaN                NaN   DL658ATLJAN         5      29   \n",
              "3                    NaN                NaN   DL678GSPDTW         5      29   \n",
              "4                    NaN                NaN   DL724SLCBZN         5      29   \n",
              "...                  ...                ...           ...       ...     ...   \n",
              "1592439              NaN                NaN   DL458JFKLAX         5      29   \n",
              "1592440              NaN                NaN   DL460JFKLAX         5      29   \n",
              "1592441              NaN                NaN   DL465SLCMSY         5      29   \n",
              "1592442              NaN                NaN   DL470ATLJFK         5      29   \n",
              "1592443              NaN                NaN   DL496MSPPHX         5      29   \n",
              "\n",
              "         fl_day_of_year  fl_day_of_week dep_hour arr_hour duration_type  \\\n",
              "0                   149               1       23       00             1   \n",
              "1                   149               1       06       07             1   \n",
              "2                   149               1       19       20             1   \n",
              "3                   149               1       06       07             1   \n",
              "4                   149               1       22       23             1   \n",
              "...                 ...             ...      ...      ...           ...   \n",
              "1592439             149               1       13       17             3   \n",
              "1592440             149               1       18       21             3   \n",
              "1592441             149               1       13       18             2   \n",
              "1592442             149               1       13       16             1   \n",
              "1592443             149               1       11       13             2   \n",
              "\n",
              "         dep_daysection  arr_daysection  fl_season origin_state dest_state  \\\n",
              "0                     4               0          2           GA         NC   \n",
              "1                     1               1          2           PA         MI   \n",
              "2                     3               4          2           GA         MS   \n",
              "3                     1               1          2           SC         MI   \n",
              "4                     4               4          2           UT         MT   \n",
              "...                 ...             ...        ...          ...        ...   \n",
              "1592439               2               3          2           NY         CA   \n",
              "1592440               3               4          2           NY         CA   \n",
              "1592441               2               3          2           UT         LA   \n",
              "1592442               2               2          2           GA         NY   \n",
              "1592443               2               2          2           MN         AZ   \n",
              "\n",
              "         origin_airport_vol  dest_airport_vol  carrier_origin_apt_vol  \\\n",
              "0                     78303              3569                   48800   \n",
              "1                     31102             34914                    1290   \n",
              "2                     78303              1627                   48800   \n",
              "3                      3485             34914                     604   \n",
              "4                     23865              1619                    9070   \n",
              "...                     ...               ...                     ...   \n",
              "1592439               25875             49948                    6258   \n",
              "1592440               25875             49948                    6258   \n",
              "1592441               23865             11424                    9070   \n",
              "1592442               78303             25524                   48800   \n",
              "1592443               32728             35779                   13578   \n",
              "\n",
              "         carrier_dest_apt_vol  carrier_origin_apt_pct  carrier_dest_apt_pct  \\\n",
              "0                         521               62.322006             14.597927   \n",
              "1                       11442                4.147643             32.771954   \n",
              "2                         460               62.322006             28.272895   \n",
              "3                       11442               17.331420             32.771954   \n",
              "4                         316               38.005447             19.518221   \n",
              "...                       ...                     ...                   ...   \n",
              "1592439                  7002               24.185507             14.018579   \n",
              "1592440                  7002               24.185507             14.018579   \n",
              "1592441                  1523               38.005447             13.331583   \n",
              "1592442                  6202               62.322006             24.298699   \n",
              "1592443                  1685               41.487411              4.709466   \n",
              "\n",
              "         carrier_cx_pct  fl_month_cx_pct  dep_hour_cx_pct  \\\n",
              "0              0.195112         1.688343         1.028844   \n",
              "1              0.195112         1.688343         1.566918   \n",
              "2              0.195112         1.688343         2.208482   \n",
              "3              0.195112         1.688343         1.566918   \n",
              "4              0.195112         1.688343         1.921364   \n",
              "...                 ...              ...              ...   \n",
              "1592439        0.195112         1.688343         1.527128   \n",
              "1592440        0.195112         1.688343         2.364007   \n",
              "1592441        0.195112         1.688343         1.527128   \n",
              "1592442        0.195112         1.688343         1.527128   \n",
              "1592443        0.195112         1.688343         1.247075   \n",
              "\n",
              "         dep_daysection_cx_pct  fl_day_of_week_cx_pct  fl_season_cx_pct  \\\n",
              "0                     1.983256               1.815103          1.957785   \n",
              "1                     1.421067               1.815103          1.957785   \n",
              "2                     2.205346               1.815103          1.957785   \n",
              "3                     1.421067               1.815103          1.957785   \n",
              "4                     1.983256               1.815103          1.957785   \n",
              "...                        ...                    ...               ...   \n",
              "1592439               1.594470               1.815103          1.957785   \n",
              "1592440               2.205346               1.815103          1.957785   \n",
              "1592441               1.594470               1.815103          1.957785   \n",
              "1592442               1.594470               1.815103          1.957785   \n",
              "1592443               1.594470               1.815103          1.957785   \n",
              "\n",
              "         origin_cancellation_pct  dest_cancellation_pct  \\\n",
              "0                       0.509559               2.661810   \n",
              "1                       2.890489               0.942315   \n",
              "2                       0.509559               1.905347   \n",
              "3                       2.123386               0.942315   \n",
              "4                       0.351980               0.679432   \n",
              "...                          ...                    ...   \n",
              "1592439                 1.685024               1.013054   \n",
              "1592440                 1.685024               1.013054   \n",
              "1592441                 0.351980               1.242997   \n",
              "1592442                 0.509559               1.939351   \n",
              "1592443                 0.922757               1.120769   \n",
              "\n",
              "         route_cancellation_pct  origin_month_cancellation_pct  \\\n",
              "0                      0.186567                       0.380673   \n",
              "1                      2.060440                       2.703677   \n",
              "2                      0.204082                       0.380673   \n",
              "3                      0.478469                       2.140673   \n",
              "4                      0.000000                       0.339971   \n",
              "...                         ...                            ...   \n",
              "1592439                0.658659                       1.115760   \n",
              "1592440                0.658659                       1.115760   \n",
              "1592441                0.000000                       0.339971   \n",
              "1592442                0.921659                       0.380673   \n",
              "1592443                0.608273                       0.326560   \n",
              "\n",
              "         dest_month_cancellation_pct  route_month_cancellation_pct  \n",
              "0                           3.448276                      0.000000  \n",
              "1                           0.507786                      0.000000  \n",
              "2                           3.007519                      0.000000  \n",
              "3                           0.507786                      0.000000  \n",
              "4                           0.917431                      0.000000  \n",
              "...                              ...                           ...  \n",
              "1592439                     1.187980                      0.456621  \n",
              "1592440                     1.187980                      0.456621  \n",
              "1592441                     1.624365                      0.000000  \n",
              "1592442                     0.895804                      0.000000  \n",
              "1592443                     1.570331                      0.000000  \n",
              "\n",
              "[1592444 rows x 55 columns]"
            ]
          },
          "metadata": {
            "tags": []
          },
          "execution_count": 25
        }
      ]
    },
    {
      "cell_type": "code",
      "metadata": {
        "id": "Orqt92VMkyc3",
        "colab_type": "code",
        "colab": {}
      },
      "source": [
        "dfF1 = dfF1.select_dtypes('number').dropna(axis='columns')"
      ],
      "execution_count": 26,
      "outputs": []
    },
    {
      "cell_type": "code",
      "metadata": {
        "id": "9qHWNI_Rkyc6",
        "colab_type": "code",
        "colab": {
          "base_uri": "https://localhost:8080/",
          "height": 444
        },
        "outputId": "b6b8e730-cb58-4c4b-89a5-0cca427ac089"
      },
      "source": [
        "dfF1"
      ],
      "execution_count": null,
      "outputs": [
        {
          "output_type": "execute_result",
          "data": {
            "text/html": [
              "<div>\n",
              "<style scoped>\n",
              "    .dataframe tbody tr th:only-of-type {\n",
              "        vertical-align: middle;\n",
              "    }\n",
              "\n",
              "    .dataframe tbody tr th {\n",
              "        vertical-align: top;\n",
              "    }\n",
              "\n",
              "    .dataframe thead th {\n",
              "        text-align: right;\n",
              "    }\n",
              "</style>\n",
              "<table border=\"1\" class=\"dataframe\">\n",
              "  <thead>\n",
              "    <tr style=\"text-align: right;\">\n",
              "      <th></th>\n",
              "      <th>mkt_carrier_fl_num</th>\n",
              "      <th>op_carrier_fl_num</th>\n",
              "      <th>origin_airport_id</th>\n",
              "      <th>dest_airport_id</th>\n",
              "      <th>flights</th>\n",
              "      <th>distance</th>\n",
              "      <th>cancelled</th>\n",
              "      <th>fl_month</th>\n",
              "      <th>fl_day</th>\n",
              "      <th>fl_day_of_year</th>\n",
              "      <th>fl_day_of_week</th>\n",
              "      <th>dep_daysection</th>\n",
              "      <th>arr_daysection</th>\n",
              "      <th>fl_season</th>\n",
              "      <th>origin_airport_vol</th>\n",
              "      <th>dest_airport_vol</th>\n",
              "      <th>carrier_origin_apt_vol</th>\n",
              "      <th>carrier_dest_apt_vol</th>\n",
              "      <th>carrier_origin_apt_pct</th>\n",
              "      <th>carrier_dest_apt_pct</th>\n",
              "      <th>carrier_cx_pct</th>\n",
              "      <th>fl_month_cx_pct</th>\n",
              "      <th>dep_hour_cx_pct</th>\n",
              "      <th>dep_daysection_cx_pct</th>\n",
              "      <th>fl_day_of_week_cx_pct</th>\n",
              "      <th>fl_season_cx_pct</th>\n",
              "      <th>origin_cancellation_pct</th>\n",
              "      <th>dest_cancellation_pct</th>\n",
              "      <th>route_cancellation_pct</th>\n",
              "      <th>origin_month_cancellation_pct</th>\n",
              "      <th>dest_month_cancellation_pct</th>\n",
              "      <th>route_month_cancellation_pct</th>\n",
              "    </tr>\n",
              "  </thead>\n",
              "  <tbody>\n",
              "    <tr>\n",
              "      <th>0</th>\n",
              "      <td>551</td>\n",
              "      <td>551</td>\n",
              "      <td>10397</td>\n",
              "      <td>11995</td>\n",
              "      <td>1</td>\n",
              "      <td>306</td>\n",
              "      <td>0</td>\n",
              "      <td>5</td>\n",
              "      <td>29</td>\n",
              "      <td>149</td>\n",
              "      <td>1</td>\n",
              "      <td>4</td>\n",
              "      <td>0</td>\n",
              "      <td>2</td>\n",
              "      <td>78303</td>\n",
              "      <td>3569</td>\n",
              "      <td>48800</td>\n",
              "      <td>521</td>\n",
              "      <td>62.322006</td>\n",
              "      <td>14.597927</td>\n",
              "      <td>0.195112</td>\n",
              "      <td>1.688343</td>\n",
              "      <td>1.028844</td>\n",
              "      <td>1.983256</td>\n",
              "      <td>1.815103</td>\n",
              "      <td>1.957785</td>\n",
              "      <td>0.509559</td>\n",
              "      <td>2.661810</td>\n",
              "      <td>0.186567</td>\n",
              "      <td>0.380673</td>\n",
              "      <td>3.448276</td>\n",
              "      <td>0.000000</td>\n",
              "    </tr>\n",
              "    <tr>\n",
              "      <th>1</th>\n",
              "      <td>565</td>\n",
              "      <td>565</td>\n",
              "      <td>14100</td>\n",
              "      <td>11433</td>\n",
              "      <td>1</td>\n",
              "      <td>453</td>\n",
              "      <td>0</td>\n",
              "      <td>5</td>\n",
              "      <td>29</td>\n",
              "      <td>149</td>\n",
              "      <td>1</td>\n",
              "      <td>1</td>\n",
              "      <td>1</td>\n",
              "      <td>2</td>\n",
              "      <td>31102</td>\n",
              "      <td>34914</td>\n",
              "      <td>1290</td>\n",
              "      <td>11442</td>\n",
              "      <td>4.147643</td>\n",
              "      <td>32.771954</td>\n",
              "      <td>0.195112</td>\n",
              "      <td>1.688343</td>\n",
              "      <td>1.566918</td>\n",
              "      <td>1.421067</td>\n",
              "      <td>1.815103</td>\n",
              "      <td>1.957785</td>\n",
              "      <td>2.890489</td>\n",
              "      <td>0.942315</td>\n",
              "      <td>2.060440</td>\n",
              "      <td>2.703677</td>\n",
              "      <td>0.507786</td>\n",
              "      <td>0.000000</td>\n",
              "    </tr>\n",
              "    <tr>\n",
              "      <th>2</th>\n",
              "      <td>658</td>\n",
              "      <td>658</td>\n",
              "      <td>10397</td>\n",
              "      <td>12448</td>\n",
              "      <td>1</td>\n",
              "      <td>341</td>\n",
              "      <td>0</td>\n",
              "      <td>5</td>\n",
              "      <td>29</td>\n",
              "      <td>149</td>\n",
              "      <td>1</td>\n",
              "      <td>3</td>\n",
              "      <td>4</td>\n",
              "      <td>2</td>\n",
              "      <td>78303</td>\n",
              "      <td>1627</td>\n",
              "      <td>48800</td>\n",
              "      <td>460</td>\n",
              "      <td>62.322006</td>\n",
              "      <td>28.272895</td>\n",
              "      <td>0.195112</td>\n",
              "      <td>1.688343</td>\n",
              "      <td>2.208482</td>\n",
              "      <td>2.205346</td>\n",
              "      <td>1.815103</td>\n",
              "      <td>1.957785</td>\n",
              "      <td>0.509559</td>\n",
              "      <td>1.905347</td>\n",
              "      <td>0.204082</td>\n",
              "      <td>0.380673</td>\n",
              "      <td>3.007519</td>\n",
              "      <td>0.000000</td>\n",
              "    </tr>\n",
              "    <tr>\n",
              "      <th>3</th>\n",
              "      <td>678</td>\n",
              "      <td>678</td>\n",
              "      <td>11996</td>\n",
              "      <td>11433</td>\n",
              "      <td>1</td>\n",
              "      <td>508</td>\n",
              "      <td>0</td>\n",
              "      <td>5</td>\n",
              "      <td>29</td>\n",
              "      <td>149</td>\n",
              "      <td>1</td>\n",
              "      <td>1</td>\n",
              "      <td>1</td>\n",
              "      <td>2</td>\n",
              "      <td>3485</td>\n",
              "      <td>34914</td>\n",
              "      <td>604</td>\n",
              "      <td>11442</td>\n",
              "      <td>17.331420</td>\n",
              "      <td>32.771954</td>\n",
              "      <td>0.195112</td>\n",
              "      <td>1.688343</td>\n",
              "      <td>1.566918</td>\n",
              "      <td>1.421067</td>\n",
              "      <td>1.815103</td>\n",
              "      <td>1.957785</td>\n",
              "      <td>2.123386</td>\n",
              "      <td>0.942315</td>\n",
              "      <td>0.478469</td>\n",
              "      <td>2.140673</td>\n",
              "      <td>0.507786</td>\n",
              "      <td>0.000000</td>\n",
              "    </tr>\n",
              "    <tr>\n",
              "      <th>4</th>\n",
              "      <td>724</td>\n",
              "      <td>724</td>\n",
              "      <td>14869</td>\n",
              "      <td>10849</td>\n",
              "      <td>1</td>\n",
              "      <td>347</td>\n",
              "      <td>0</td>\n",
              "      <td>5</td>\n",
              "      <td>29</td>\n",
              "      <td>149</td>\n",
              "      <td>1</td>\n",
              "      <td>4</td>\n",
              "      <td>4</td>\n",
              "      <td>2</td>\n",
              "      <td>23865</td>\n",
              "      <td>1619</td>\n",
              "      <td>9070</td>\n",
              "      <td>316</td>\n",
              "      <td>38.005447</td>\n",
              "      <td>19.518221</td>\n",
              "      <td>0.195112</td>\n",
              "      <td>1.688343</td>\n",
              "      <td>1.921364</td>\n",
              "      <td>1.983256</td>\n",
              "      <td>1.815103</td>\n",
              "      <td>1.957785</td>\n",
              "      <td>0.351980</td>\n",
              "      <td>0.679432</td>\n",
              "      <td>0.000000</td>\n",
              "      <td>0.339971</td>\n",
              "      <td>0.917431</td>\n",
              "      <td>0.000000</td>\n",
              "    </tr>\n",
              "    <tr>\n",
              "      <th>...</th>\n",
              "      <td>...</td>\n",
              "      <td>...</td>\n",
              "      <td>...</td>\n",
              "      <td>...</td>\n",
              "      <td>...</td>\n",
              "      <td>...</td>\n",
              "      <td>...</td>\n",
              "      <td>...</td>\n",
              "      <td>...</td>\n",
              "      <td>...</td>\n",
              "      <td>...</td>\n",
              "      <td>...</td>\n",
              "      <td>...</td>\n",
              "      <td>...</td>\n",
              "      <td>...</td>\n",
              "      <td>...</td>\n",
              "      <td>...</td>\n",
              "      <td>...</td>\n",
              "      <td>...</td>\n",
              "      <td>...</td>\n",
              "      <td>...</td>\n",
              "      <td>...</td>\n",
              "      <td>...</td>\n",
              "      <td>...</td>\n",
              "      <td>...</td>\n",
              "      <td>...</td>\n",
              "      <td>...</td>\n",
              "      <td>...</td>\n",
              "      <td>...</td>\n",
              "      <td>...</td>\n",
              "      <td>...</td>\n",
              "      <td>...</td>\n",
              "    </tr>\n",
              "    <tr>\n",
              "      <th>1592439</th>\n",
              "      <td>458</td>\n",
              "      <td>458</td>\n",
              "      <td>12478</td>\n",
              "      <td>12892</td>\n",
              "      <td>1</td>\n",
              "      <td>2475</td>\n",
              "      <td>0</td>\n",
              "      <td>5</td>\n",
              "      <td>29</td>\n",
              "      <td>149</td>\n",
              "      <td>1</td>\n",
              "      <td>2</td>\n",
              "      <td>3</td>\n",
              "      <td>2</td>\n",
              "      <td>25875</td>\n",
              "      <td>49948</td>\n",
              "      <td>6258</td>\n",
              "      <td>7002</td>\n",
              "      <td>24.185507</td>\n",
              "      <td>14.018579</td>\n",
              "      <td>0.195112</td>\n",
              "      <td>1.688343</td>\n",
              "      <td>1.527128</td>\n",
              "      <td>1.594470</td>\n",
              "      <td>1.815103</td>\n",
              "      <td>1.957785</td>\n",
              "      <td>1.685024</td>\n",
              "      <td>1.013054</td>\n",
              "      <td>0.658659</td>\n",
              "      <td>1.115760</td>\n",
              "      <td>1.187980</td>\n",
              "      <td>0.456621</td>\n",
              "    </tr>\n",
              "    <tr>\n",
              "      <th>1592440</th>\n",
              "      <td>460</td>\n",
              "      <td>460</td>\n",
              "      <td>12478</td>\n",
              "      <td>12892</td>\n",
              "      <td>1</td>\n",
              "      <td>2475</td>\n",
              "      <td>0</td>\n",
              "      <td>5</td>\n",
              "      <td>29</td>\n",
              "      <td>149</td>\n",
              "      <td>1</td>\n",
              "      <td>3</td>\n",
              "      <td>4</td>\n",
              "      <td>2</td>\n",
              "      <td>25875</td>\n",
              "      <td>49948</td>\n",
              "      <td>6258</td>\n",
              "      <td>7002</td>\n",
              "      <td>24.185507</td>\n",
              "      <td>14.018579</td>\n",
              "      <td>0.195112</td>\n",
              "      <td>1.688343</td>\n",
              "      <td>2.364007</td>\n",
              "      <td>2.205346</td>\n",
              "      <td>1.815103</td>\n",
              "      <td>1.957785</td>\n",
              "      <td>1.685024</td>\n",
              "      <td>1.013054</td>\n",
              "      <td>0.658659</td>\n",
              "      <td>1.115760</td>\n",
              "      <td>1.187980</td>\n",
              "      <td>0.456621</td>\n",
              "    </tr>\n",
              "    <tr>\n",
              "      <th>1592441</th>\n",
              "      <td>465</td>\n",
              "      <td>465</td>\n",
              "      <td>14869</td>\n",
              "      <td>13495</td>\n",
              "      <td>1</td>\n",
              "      <td>1428</td>\n",
              "      <td>0</td>\n",
              "      <td>5</td>\n",
              "      <td>29</td>\n",
              "      <td>149</td>\n",
              "      <td>1</td>\n",
              "      <td>2</td>\n",
              "      <td>3</td>\n",
              "      <td>2</td>\n",
              "      <td>23865</td>\n",
              "      <td>11424</td>\n",
              "      <td>9070</td>\n",
              "      <td>1523</td>\n",
              "      <td>38.005447</td>\n",
              "      <td>13.331583</td>\n",
              "      <td>0.195112</td>\n",
              "      <td>1.688343</td>\n",
              "      <td>1.527128</td>\n",
              "      <td>1.594470</td>\n",
              "      <td>1.815103</td>\n",
              "      <td>1.957785</td>\n",
              "      <td>0.351980</td>\n",
              "      <td>1.242997</td>\n",
              "      <td>0.000000</td>\n",
              "      <td>0.339971</td>\n",
              "      <td>1.624365</td>\n",
              "      <td>0.000000</td>\n",
              "    </tr>\n",
              "    <tr>\n",
              "      <th>1592442</th>\n",
              "      <td>470</td>\n",
              "      <td>470</td>\n",
              "      <td>10397</td>\n",
              "      <td>12478</td>\n",
              "      <td>1</td>\n",
              "      <td>760</td>\n",
              "      <td>0</td>\n",
              "      <td>5</td>\n",
              "      <td>29</td>\n",
              "      <td>149</td>\n",
              "      <td>1</td>\n",
              "      <td>2</td>\n",
              "      <td>2</td>\n",
              "      <td>2</td>\n",
              "      <td>78303</td>\n",
              "      <td>25524</td>\n",
              "      <td>48800</td>\n",
              "      <td>6202</td>\n",
              "      <td>62.322006</td>\n",
              "      <td>24.298699</td>\n",
              "      <td>0.195112</td>\n",
              "      <td>1.688343</td>\n",
              "      <td>1.527128</td>\n",
              "      <td>1.594470</td>\n",
              "      <td>1.815103</td>\n",
              "      <td>1.957785</td>\n",
              "      <td>0.509559</td>\n",
              "      <td>1.939351</td>\n",
              "      <td>0.921659</td>\n",
              "      <td>0.380673</td>\n",
              "      <td>0.895804</td>\n",
              "      <td>0.000000</td>\n",
              "    </tr>\n",
              "    <tr>\n",
              "      <th>1592443</th>\n",
              "      <td>496</td>\n",
              "      <td>496</td>\n",
              "      <td>13487</td>\n",
              "      <td>14107</td>\n",
              "      <td>1</td>\n",
              "      <td>1276</td>\n",
              "      <td>0</td>\n",
              "      <td>5</td>\n",
              "      <td>29</td>\n",
              "      <td>149</td>\n",
              "      <td>1</td>\n",
              "      <td>2</td>\n",
              "      <td>2</td>\n",
              "      <td>2</td>\n",
              "      <td>32728</td>\n",
              "      <td>35779</td>\n",
              "      <td>13578</td>\n",
              "      <td>1685</td>\n",
              "      <td>41.487411</td>\n",
              "      <td>4.709466</td>\n",
              "      <td>0.195112</td>\n",
              "      <td>1.688343</td>\n",
              "      <td>1.247075</td>\n",
              "      <td>1.594470</td>\n",
              "      <td>1.815103</td>\n",
              "      <td>1.957785</td>\n",
              "      <td>0.922757</td>\n",
              "      <td>1.120769</td>\n",
              "      <td>0.608273</td>\n",
              "      <td>0.326560</td>\n",
              "      <td>1.570331</td>\n",
              "      <td>0.000000</td>\n",
              "    </tr>\n",
              "  </tbody>\n",
              "</table>\n",
              "<p>1592444 rows × 32 columns</p>\n",
              "</div>"
            ],
            "text/plain": [
              "         mkt_carrier_fl_num  op_carrier_fl_num  origin_airport_id  \\\n",
              "0                       551                551              10397   \n",
              "1                       565                565              14100   \n",
              "2                       658                658              10397   \n",
              "3                       678                678              11996   \n",
              "4                       724                724              14869   \n",
              "...                     ...                ...                ...   \n",
              "1592439                 458                458              12478   \n",
              "1592440                 460                460              12478   \n",
              "1592441                 465                465              14869   \n",
              "1592442                 470                470              10397   \n",
              "1592443                 496                496              13487   \n",
              "\n",
              "         dest_airport_id  flights  distance  cancelled  fl_month  fl_day  \\\n",
              "0                  11995        1       306          0         5      29   \n",
              "1                  11433        1       453          0         5      29   \n",
              "2                  12448        1       341          0         5      29   \n",
              "3                  11433        1       508          0         5      29   \n",
              "4                  10849        1       347          0         5      29   \n",
              "...                  ...      ...       ...        ...       ...     ...   \n",
              "1592439            12892        1      2475          0         5      29   \n",
              "1592440            12892        1      2475          0         5      29   \n",
              "1592441            13495        1      1428          0         5      29   \n",
              "1592442            12478        1       760          0         5      29   \n",
              "1592443            14107        1      1276          0         5      29   \n",
              "\n",
              "         fl_day_of_year  fl_day_of_week  dep_daysection  arr_daysection  \\\n",
              "0                   149               1               4               0   \n",
              "1                   149               1               1               1   \n",
              "2                   149               1               3               4   \n",
              "3                   149               1               1               1   \n",
              "4                   149               1               4               4   \n",
              "...                 ...             ...             ...             ...   \n",
              "1592439             149               1               2               3   \n",
              "1592440             149               1               3               4   \n",
              "1592441             149               1               2               3   \n",
              "1592442             149               1               2               2   \n",
              "1592443             149               1               2               2   \n",
              "\n",
              "         fl_season  origin_airport_vol  dest_airport_vol  \\\n",
              "0                2               78303              3569   \n",
              "1                2               31102             34914   \n",
              "2                2               78303              1627   \n",
              "3                2                3485             34914   \n",
              "4                2               23865              1619   \n",
              "...            ...                 ...               ...   \n",
              "1592439          2               25875             49948   \n",
              "1592440          2               25875             49948   \n",
              "1592441          2               23865             11424   \n",
              "1592442          2               78303             25524   \n",
              "1592443          2               32728             35779   \n",
              "\n",
              "         carrier_origin_apt_vol  carrier_dest_apt_vol  carrier_origin_apt_pct  \\\n",
              "0                         48800                   521               62.322006   \n",
              "1                          1290                 11442                4.147643   \n",
              "2                         48800                   460               62.322006   \n",
              "3                           604                 11442               17.331420   \n",
              "4                          9070                   316               38.005447   \n",
              "...                         ...                   ...                     ...   \n",
              "1592439                    6258                  7002               24.185507   \n",
              "1592440                    6258                  7002               24.185507   \n",
              "1592441                    9070                  1523               38.005447   \n",
              "1592442                   48800                  6202               62.322006   \n",
              "1592443                   13578                  1685               41.487411   \n",
              "\n",
              "         carrier_dest_apt_pct  carrier_cx_pct  fl_month_cx_pct  \\\n",
              "0                   14.597927        0.195112         1.688343   \n",
              "1                   32.771954        0.195112         1.688343   \n",
              "2                   28.272895        0.195112         1.688343   \n",
              "3                   32.771954        0.195112         1.688343   \n",
              "4                   19.518221        0.195112         1.688343   \n",
              "...                       ...             ...              ...   \n",
              "1592439             14.018579        0.195112         1.688343   \n",
              "1592440             14.018579        0.195112         1.688343   \n",
              "1592441             13.331583        0.195112         1.688343   \n",
              "1592442             24.298699        0.195112         1.688343   \n",
              "1592443              4.709466        0.195112         1.688343   \n",
              "\n",
              "         dep_hour_cx_pct  dep_daysection_cx_pct  fl_day_of_week_cx_pct  \\\n",
              "0               1.028844               1.983256               1.815103   \n",
              "1               1.566918               1.421067               1.815103   \n",
              "2               2.208482               2.205346               1.815103   \n",
              "3               1.566918               1.421067               1.815103   \n",
              "4               1.921364               1.983256               1.815103   \n",
              "...                  ...                    ...                    ...   \n",
              "1592439         1.527128               1.594470               1.815103   \n",
              "1592440         2.364007               2.205346               1.815103   \n",
              "1592441         1.527128               1.594470               1.815103   \n",
              "1592442         1.527128               1.594470               1.815103   \n",
              "1592443         1.247075               1.594470               1.815103   \n",
              "\n",
              "         fl_season_cx_pct  origin_cancellation_pct  dest_cancellation_pct  \\\n",
              "0                1.957785                 0.509559               2.661810   \n",
              "1                1.957785                 2.890489               0.942315   \n",
              "2                1.957785                 0.509559               1.905347   \n",
              "3                1.957785                 2.123386               0.942315   \n",
              "4                1.957785                 0.351980               0.679432   \n",
              "...                   ...                      ...                    ...   \n",
              "1592439          1.957785                 1.685024               1.013054   \n",
              "1592440          1.957785                 1.685024               1.013054   \n",
              "1592441          1.957785                 0.351980               1.242997   \n",
              "1592442          1.957785                 0.509559               1.939351   \n",
              "1592443          1.957785                 0.922757               1.120769   \n",
              "\n",
              "         route_cancellation_pct  origin_month_cancellation_pct  \\\n",
              "0                      0.186567                       0.380673   \n",
              "1                      2.060440                       2.703677   \n",
              "2                      0.204082                       0.380673   \n",
              "3                      0.478469                       2.140673   \n",
              "4                      0.000000                       0.339971   \n",
              "...                         ...                            ...   \n",
              "1592439                0.658659                       1.115760   \n",
              "1592440                0.658659                       1.115760   \n",
              "1592441                0.000000                       0.339971   \n",
              "1592442                0.921659                       0.380673   \n",
              "1592443                0.608273                       0.326560   \n",
              "\n",
              "         dest_month_cancellation_pct  route_month_cancellation_pct  \n",
              "0                           3.448276                      0.000000  \n",
              "1                           0.507786                      0.000000  \n",
              "2                           3.007519                      0.000000  \n",
              "3                           0.507786                      0.000000  \n",
              "4                           0.917431                      0.000000  \n",
              "...                              ...                           ...  \n",
              "1592439                     1.187980                      0.456621  \n",
              "1592440                     1.187980                      0.456621  \n",
              "1592441                     1.624365                      0.000000  \n",
              "1592442                     0.895804                      0.000000  \n",
              "1592443                     1.570331                      0.000000  \n",
              "\n",
              "[1592444 rows x 32 columns]"
            ]
          },
          "metadata": {
            "tags": []
          },
          "execution_count": 66
        }
      ]
    },
    {
      "cell_type": "code",
      "metadata": {
        "id": "sWoTliFqkyc8",
        "colab_type": "code",
        "colab": {}
      },
      "source": [
        ""
      ],
      "execution_count": null,
      "outputs": []
    },
    {
      "cell_type": "code",
      "metadata": {
        "id": "95_P6dtTkydE",
        "colab_type": "code",
        "colab": {}
      },
      "source": [
        ""
      ],
      "execution_count": null,
      "outputs": []
    },
    {
      "cell_type": "markdown",
      "metadata": {
        "id": "6BYBKlpMkydG",
        "colab_type": "text"
      },
      "source": [
        "## Deal with Naans"
      ]
    },
    {
      "cell_type": "code",
      "metadata": {
        "id": "xf4WSUPCkydG",
        "colab_type": "code",
        "colab": {
          "base_uri": "https://localhost:8080/",
          "height": 49
        },
        "outputId": "7fd378e4-7694-48fe-97f4-7f04b6f02380"
      },
      "source": [
        "total = dfF1.isnull().sum().sort_values(ascending=False)\n",
        "percent = (dfF1.isnull().sum()/dfF1.isnull().count()).sort_values(ascending=False)\n",
        "missing_data = pd.concat([total, percent], axis=1, keys=['Total', 'Percent'])\n",
        "missing_data[missing_data['Total'] > 0]"
      ],
      "execution_count": null,
      "outputs": [
        {
          "output_type": "execute_result",
          "data": {
            "text/html": [
              "<div>\n",
              "<style scoped>\n",
              "    .dataframe tbody tr th:only-of-type {\n",
              "        vertical-align: middle;\n",
              "    }\n",
              "\n",
              "    .dataframe tbody tr th {\n",
              "        vertical-align: top;\n",
              "    }\n",
              "\n",
              "    .dataframe thead th {\n",
              "        text-align: right;\n",
              "    }\n",
              "</style>\n",
              "<table border=\"1\" class=\"dataframe\">\n",
              "  <thead>\n",
              "    <tr style=\"text-align: right;\">\n",
              "      <th></th>\n",
              "      <th>Total</th>\n",
              "      <th>Percent</th>\n",
              "    </tr>\n",
              "  </thead>\n",
              "  <tbody>\n",
              "  </tbody>\n",
              "</table>\n",
              "</div>"
            ],
            "text/plain": [
              "Empty DataFrame\n",
              "Columns: [Total, Percent]\n",
              "Index: []"
            ]
          },
          "metadata": {
            "tags": []
          },
          "execution_count": 70
        }
      ]
    },
    {
      "cell_type": "code",
      "metadata": {
        "id": "HBmDtViIkydI",
        "colab_type": "code",
        "colab": {}
      },
      "source": [
        "# Remove Nans\n",
        "dfF1 = dfF1[dfF1['delay_type'].notnull()]\n",
        "dfF1 = dfF1[dfF1['duration_type'].notnull()]\n",
        "# dfF1 = dfF1[dfF1['crs_elapsed_time'].notnull()]"
      ],
      "execution_count": null,
      "outputs": []
    },
    {
      "cell_type": "code",
      "metadata": {
        "id": "_RcJZwYDkydM",
        "colab_type": "code",
        "colab": {}
      },
      "source": [
        "# Keep numerical data only\n",
        "dfF1 = dfF1.select_dtypes('number')\n",
        "# Remove Columns with Nans\n",
        "dfF1 = dfF1.select_dtypes('number').dropna(axis='columns')"
      ],
      "execution_count": null,
      "outputs": []
    },
    {
      "cell_type": "markdown",
      "metadata": {
        "id": "sAggF7HQTVvX",
        "colab_type": "text"
      },
      "source": [
        "#50/50 Sampling"
      ]
    },
    {
      "cell_type": "code",
      "metadata": {
        "id": "NlZpxurxTU5h",
        "colab_type": "code",
        "colab": {}
      },
      "source": [
        "# grabs all the canceled flights\n",
        "dfC = dfF1[dfF1.cancelled == 1 ]\n",
        "# grabs as many other flights from the rest of the database\n",
        "dfNC = dfF1[dfF1.cancelled == 0 ]\n",
        "dfNC = dfNC.sample(n=26987, random_state=1)\n",
        "# Concatenate canceled and not canceled flights and shuffle finale dataframe\n",
        "df5050 = pd.concat([dfC,dfNC])\n",
        "from sklearn.utils import shuffle\n",
        "df5050 = shuffle(df5050)"
      ],
      "execution_count": 27,
      "outputs": []
    },
    {
      "cell_type": "code",
      "metadata": {
        "id": "7zbFyxr1TUv_",
        "colab_type": "code",
        "colab": {}
      },
      "source": [
        ""
      ],
      "execution_count": null,
      "outputs": []
    },
    {
      "cell_type": "markdown",
      "metadata": {
        "id": "PKW6lsl0Rh-3",
        "colab_type": "text"
      },
      "source": [
        "# Feature Selection"
      ]
    },
    {
      "cell_type": "code",
      "metadata": {
        "id": "Q96RX2GGkydN",
        "colab_type": "code",
        "colab": {}
      },
      "source": [
        "y = df5050.cancelled\n",
        "df_numeric = df5050.drop([\"cancelled\"],axis=1)\n",
        "\n",
        "\n",
        "from sklearn.feature_selection import VarianceThreshold\n",
        "# remove features with small variance\n",
        "vt = VarianceThreshold(0.1)\n",
        "df_transformed = vt.fit_transform(df_numeric)\n",
        "selected_columns = df_numeric.columns[vt.get_support()]\n",
        "# transforming an array back to a data-frame preserves column labels\n",
        "df_transformed = pd.DataFrame(df_transformed, columns = selected_columns)"
      ],
      "execution_count": 28,
      "outputs": []
    },
    {
      "cell_type": "code",
      "metadata": {
        "id": "bVy0bU70kydP",
        "colab_type": "code",
        "colab": {}
      },
      "source": [
        "# remove highly correlated pairs\n",
        "df_corr = df_transformed.corr().abs()\n",
        "indices = np.where(df_corr > 0.9)\n",
        "indices = [(df_corr.index[x], df_corr.columns[y]) for x, y in zip(*indices)\n",
        "              if x != y and x < y]\n",
        "for idx in indices:\n",
        "    try:\n",
        "        df_transformed.drop(idx[1], axis = 1, inplace=True)\n",
        "    except KeyError:\n",
        "        pass"
      ],
      "execution_count": 29,
      "outputs": []
    },
    {
      "cell_type": "code",
      "metadata": {
        "id": "gKtP5YNukydR",
        "colab_type": "code",
        "colab": {
          "base_uri": "https://localhost:8080/",
          "height": 139
        },
        "outputId": "2cf9fd68-5905-4a62-ee96-63d07b9ed13d"
      },
      "source": [
        "# forward regression\n",
        "from sklearn.feature_selection import f_regression, SelectKBest\n",
        "skb = SelectKBest(f_regression, k=15)\n",
        "X = skb.fit_transform(df_transformed, y)\n",
        "X = pd.DataFrame(X,columns=df_transformed.columns[skb.get_support()])\n",
        "X.columns"
      ],
      "execution_count": 30,
      "outputs": [
        {
          "output_type": "execute_result",
          "data": {
            "text/plain": [
              "Index(['mkt_carrier_fl_num', 'distance', 'fl_month', 'carrier_origin_apt_vol',\n",
              "       'carrier_dest_apt_vol', 'carrier_cx_pct', 'fl_month_cx_pct',\n",
              "       'dep_hour_cx_pct', 'fl_season_cx_pct', 'origin_cancellation_pct',\n",
              "       'dest_cancellation_pct', 'route_cancellation_pct',\n",
              "       'origin_month_cancellation_pct', 'dest_month_cancellation_pct',\n",
              "       'route_month_cancellation_pct'],\n",
              "      dtype='object')"
            ]
          },
          "metadata": {
            "tags": []
          },
          "execution_count": 30
        }
      ]
    },
    {
      "cell_type": "code",
      "metadata": {
        "id": "qvVHwSZkkydU",
        "colab_type": "code",
        "colab": {}
      },
      "source": [
        "#X = X.drop('dep_delay',axis=1)"
      ],
      "execution_count": null,
      "outputs": []
    },
    {
      "cell_type": "code",
      "metadata": {
        "id": "BvOp4eTtkydV",
        "colab_type": "code",
        "colab": {}
      },
      "source": [
        ""
      ],
      "execution_count": null,
      "outputs": []
    },
    {
      "cell_type": "markdown",
      "metadata": {
        "id": "71LXiRsVkydZ",
        "colab_type": "text"
      },
      "source": [
        "# Modelling"
      ]
    },
    {
      "cell_type": "code",
      "metadata": {
        "id": "p7R3Oe1Rkyda",
        "colab_type": "code",
        "colab": {}
      },
      "source": [
        "# Find 50 features\n"
      ],
      "execution_count": null,
      "outputs": []
    },
    {
      "cell_type": "code",
      "metadata": {
        "id": "eDQj53Bgkydc",
        "colab_type": "code",
        "colab": {}
      },
      "source": [
        "# Assign X and y\n",
        "#X = dfF1.drop('delay_type',axis=1)\n",
        "#y = dfF1['delay_type']"
      ],
      "execution_count": null,
      "outputs": []
    },
    {
      "cell_type": "code",
      "metadata": {
        "id": "fVaOPwghkydd",
        "colab_type": "code",
        "colab": {}
      },
      "source": [
        "# Data test train Split\n",
        "\n",
        "from sklearn.model_selection import train_test_split\n",
        "X_train,X_test,y_train,y_test=train_test_split(X,y,train_size=0.80,random_state=1,stratify=y)\n"
      ],
      "execution_count": 31,
      "outputs": []
    },
    {
      "cell_type": "code",
      "metadata": {
        "id": "DptOCRlnkydf",
        "colab_type": "code",
        "colab": {
          "base_uri": "https://localhost:8080/",
          "height": 139
        },
        "outputId": "1dd43f9e-a0c7-4331-fd7a-95f66f2e7aab"
      },
      "source": [
        "X_train.columns"
      ],
      "execution_count": null,
      "outputs": [
        {
          "output_type": "execute_result",
          "data": {
            "text/plain": [
              "Index(['mkt_carrier_fl_num', 'distance', 'fl_month', 'carrier_origin_apt_vol',\n",
              "       'carrier_dest_apt_vol', 'carrier_cx_pct', 'fl_month_cx_pct',\n",
              "       'dep_hour_cx_pct', 'fl_season_cx_pct', 'origin_cancellation_pct',\n",
              "       'dest_cancellation_pct', 'route_cancellation_pct',\n",
              "       'origin_month_cancellation_pct', 'dest_month_cancellation_pct',\n",
              "       'route_month_cancellation_pct'],\n",
              "      dtype='object')"
            ]
          },
          "metadata": {
            "tags": []
          },
          "execution_count": 122
        }
      ]
    },
    {
      "cell_type": "markdown",
      "metadata": {
        "id": "STv_D7zhkydg",
        "colab_type": "text"
      },
      "source": [
        "## RandomForestClassifier"
      ]
    },
    {
      "cell_type": "code",
      "metadata": {
        "id": "JLi_koO7VzmT",
        "colab_type": "code",
        "colab": {}
      },
      "source": [
        ""
      ],
      "execution_count": null,
      "outputs": []
    },
    {
      "cell_type": "code",
      "metadata": {
        "id": "XtIR01Fqkydg",
        "colab_type": "code",
        "colab": {
          "base_uri": "https://localhost:8080/",
          "height": 156
        },
        "outputId": "d014d734-ff25-4302-e0a6-da723c760a38"
      },
      "source": [
        "from sklearn.ensemble import RandomForestClassifier\n",
        "\n",
        "regr = RandomForestClassifier(n_estimators=50, max_depth=10, random_state=0)\n",
        "regr.fit(X_train,y_train)\n"
      ],
      "execution_count": 32,
      "outputs": [
        {
          "output_type": "execute_result",
          "data": {
            "text/plain": [
              "RandomForestClassifier(bootstrap=True, ccp_alpha=0.0, class_weight=None,\n",
              "                       criterion='gini', max_depth=10, max_features='auto',\n",
              "                       max_leaf_nodes=None, max_samples=None,\n",
              "                       min_impurity_decrease=0.0, min_impurity_split=None,\n",
              "                       min_samples_leaf=1, min_samples_split=2,\n",
              "                       min_weight_fraction_leaf=0.0, n_estimators=50,\n",
              "                       n_jobs=None, oob_score=False, random_state=0, verbose=0,\n",
              "                       warm_start=False)"
            ]
          },
          "metadata": {
            "tags": []
          },
          "execution_count": 32
        }
      ]
    },
    {
      "cell_type": "code",
      "metadata": {
        "id": "2ypOX37Ykydh",
        "colab_type": "code",
        "colab": {
          "base_uri": "https://localhost:8080/",
          "height": 34
        },
        "outputId": "4e456316-c6a5-4048-a799-c9aa8afdc39b"
      },
      "source": [
        "y_pred=regr.predict(X_test)\n",
        "y_pred"
      ],
      "execution_count": 33,
      "outputs": [
        {
          "output_type": "execute_result",
          "data": {
            "text/plain": [
              "array([1, 1, 1, ..., 1, 1, 1])"
            ]
          },
          "metadata": {
            "tags": []
          },
          "execution_count": 33
        }
      ]
    },
    {
      "cell_type": "code",
      "metadata": {
        "id": "gEqRUhlrkydk",
        "colab_type": "code",
        "colab": {
          "base_uri": "https://localhost:8080/",
          "height": 225
        },
        "outputId": "b84db922-b87e-4b3e-cad0-f442718b1243"
      },
      "source": [
        "#Accuracy Score\n",
        "regr.score(X_test, y_pred)\n",
        "\n",
        "from sklearn.metrics import accuracy_score\n",
        "print(accuracy_score(y_test, y_pred))\n",
        "\n",
        "#Classification Report\n",
        "from sklearn.metrics import classification_report\n",
        "print(classification_report(y_test, y_pred))\n",
        "\n",
        "#Confusion Matrix\n",
        "from sklearn.metrics import confusion_matrix\n",
        "print(confusion_matrix(y_test, y_pred))"
      ],
      "execution_count": 34,
      "outputs": [
        {
          "output_type": "stream",
          "text": [
            "0.8293654469661881\n",
            "              precision    recall  f1-score   support\n",
            "\n",
            "           0       0.93      0.71      0.81      5397\n",
            "           1       0.77      0.95      0.85      5398\n",
            "\n",
            "    accuracy                           0.83     10795\n",
            "   macro avg       0.85      0.83      0.83     10795\n",
            "weighted avg       0.85      0.83      0.83     10795\n",
            "\n",
            "[[3842 1555]\n",
            " [ 287 5111]]\n"
          ],
          "name": "stdout"
        }
      ]
    },
    {
      "cell_type": "code",
      "metadata": {
        "id": "VUFhPzb1kydn",
        "colab_type": "code",
        "colab": {
          "base_uri": "https://localhost:8080/",
          "height": 173
        },
        "outputId": "16c263a9-d5e8-4081-c134-1a8396406fdc"
      },
      "source": [
        "pd.Series(y_pred).describe()"
      ],
      "execution_count": 35,
      "outputs": [
        {
          "output_type": "execute_result",
          "data": {
            "text/plain": [
              "count    10795.000000\n",
              "mean         0.617508\n",
              "std          0.486018\n",
              "min          0.000000\n",
              "25%          0.000000\n",
              "50%          1.000000\n",
              "75%          1.000000\n",
              "max          1.000000\n",
              "dtype: float64"
            ]
          },
          "metadata": {
            "tags": []
          },
          "execution_count": 35
        }
      ]
    },
    {
      "cell_type": "markdown",
      "metadata": {
        "id": "MDlvxIIXdOdl",
        "colab_type": "text"
      },
      "source": [
        "## Naive Bayes"
      ]
    },
    {
      "cell_type": "code",
      "metadata": {
        "id": "wCh9VPVxdOC2",
        "colab_type": "code",
        "colab": {}
      },
      "source": [
        "from sklearn.naive_bayes import GaussianNB\n",
        "clf = GaussianNB()"
      ],
      "execution_count": null,
      "outputs": []
    },
    {
      "cell_type": "code",
      "metadata": {
        "id": "ZgUV1Fpfkydr",
        "colab_type": "code",
        "colab": {
          "base_uri": "https://localhost:8080/",
          "height": 34
        },
        "outputId": "c1fc2eb0-767d-469e-ff64-68d206a478b0"
      },
      "source": [
        "#train model\n",
        "clf.fit(X_train, y_train)"
      ],
      "execution_count": null,
      "outputs": [
        {
          "output_type": "execute_result",
          "data": {
            "text/plain": [
              "GaussianNB(priors=None, var_smoothing=1e-09)"
            ]
          },
          "metadata": {
            "tags": []
          },
          "execution_count": 84
        }
      ]
    },
    {
      "cell_type": "code",
      "metadata": {
        "id": "IjfgrQGfd8N7",
        "colab_type": "code",
        "colab": {}
      },
      "source": [
        "y_pred = clf.predict(X_test)"
      ],
      "execution_count": null,
      "outputs": []
    },
    {
      "cell_type": "code",
      "metadata": {
        "id": "NQxfQR5FeJx-",
        "colab_type": "code",
        "colab": {
          "base_uri": "https://localhost:8080/",
          "height": 225
        },
        "outputId": "e1bdc426-b40c-4fa0-d2ca-187be8bc89ce"
      },
      "source": [
        "#Accuracy Score\n",
        "regr.score(X_test, y_pred)\n",
        "\n",
        "from sklearn.metrics import accuracy_score\n",
        "print(accuracy_score(y_test, y_pred))\n",
        "\n",
        "#Classification Report\n",
        "from sklearn.metrics import classification_report\n",
        "print(classification_report(y_test, y_pred))\n",
        "\n",
        "#Confusion Matrix\n",
        "from sklearn.metrics import confusion_matrix\n",
        "print(confusion_matrix(y_test, y_pred))"
      ],
      "execution_count": null,
      "outputs": [
        {
          "output_type": "stream",
          "text": [
            "0.7046780917091245\n",
            "              precision    recall  f1-score   support\n",
            "\n",
            "           0       0.65      0.87      0.75      5397\n",
            "           1       0.80      0.54      0.65      5398\n",
            "\n",
            "    accuracy                           0.70     10795\n",
            "   macro avg       0.73      0.70      0.70     10795\n",
            "weighted avg       0.73      0.70      0.70     10795\n",
            "\n",
            "[[4683  714]\n",
            " [2474 2924]]\n"
          ],
          "name": "stdout"
        }
      ]
    },
    {
      "cell_type": "code",
      "metadata": {
        "id": "SBZpfhbdegPQ",
        "colab_type": "code",
        "colab": {}
      },
      "source": [
        ""
      ],
      "execution_count": null,
      "outputs": []
    },
    {
      "cell_type": "markdown",
      "metadata": {
        "id": "Eb1ufei1fRlL",
        "colab_type": "text"
      },
      "source": [
        "##XGBOOST"
      ]
    },
    {
      "cell_type": "code",
      "metadata": {
        "id": "Smbe03C6fP8L",
        "colab_type": "code",
        "colab": {}
      },
      "source": [
        "import xgboost as xgb\n",
        "from sklearn.metrics import mean_squared_error\n",
        "\n",
        "data_dmatrix = xgb.DMatrix(data=X.astype(int),label=y.astype(int))\n",
        "\n"
      ],
      "execution_count": null,
      "outputs": []
    },
    {
      "cell_type": "code",
      "metadata": {
        "id": "5wzpsjNjfPx3",
        "colab_type": "code",
        "colab": {}
      },
      "source": [
        "#create train/test split\n",
        "from sklearn.model_selection import train_test_split\n",
        "\n",
        "X_train, X_test, y_train, y_test = train_test_split(X.astype(int), y.astype(int), test_size=0.2, random_state=123)"
      ],
      "execution_count": null,
      "outputs": []
    },
    {
      "cell_type": "code",
      "metadata": {
        "id": "aLAS1z8fgpHu",
        "colab_type": "code",
        "colab": {}
      },
      "source": [
        "xg_reg = xgb.XGBRegressor(objective ='reg:squarederror', colsample_bytree = 0.3, learning_rate = 0.1,\n",
        "                max_depth = 5, alpha = 10, n_estimators = 20)"
      ],
      "execution_count": null,
      "outputs": []
    },
    {
      "cell_type": "code",
      "metadata": {
        "id": "-HNaLqeLgt3O",
        "colab_type": "code",
        "colab": {}
      },
      "source": [
        "xg_reg.fit(X_train,y_train)\n",
        "\n",
        "y_preds = xg_reg.predict(X_test)"
      ],
      "execution_count": null,
      "outputs": []
    },
    {
      "cell_type": "code",
      "metadata": {
        "id": "EE_UUNp_gtzR",
        "colab_type": "code",
        "colab": {
          "base_uri": "https://localhost:8080/",
          "height": 34
        },
        "outputId": "85b6bc36-821e-4043-9c98-1b6734fcbeb4"
      },
      "source": [
        "rmse = np.sqrt(mean_squared_error(y_test, y_preds))\n",
        "print(\"RMSE: %f\" % (rmse))"
      ],
      "execution_count": null,
      "outputs": [
        {
          "output_type": "stream",
          "text": [
            "RMSE: 0.379206\n"
          ],
          "name": "stdout"
        }
      ]
    },
    {
      "cell_type": "code",
      "metadata": {
        "id": "JhcbIIdqgttE",
        "colab_type": "code",
        "colab": {
          "base_uri": "https://localhost:8080/",
          "height": 225
        },
        "outputId": "f4c72e8f-077f-447a-c1fb-d7363bbbcf9b"
      },
      "source": [
        "#Accuracy Score\n",
        "regr.score(X_test, y_pred)\n",
        "\n",
        "from sklearn.metrics import accuracy_score\n",
        "print(accuracy_score(y_test, y_pred))\n",
        "\n",
        "#Classification Report\n",
        "from sklearn.metrics import classification_report\n",
        "print(classification_report(y_test, y_pred))\n",
        "\n",
        "#Confusion Matrix\n",
        "from sklearn.metrics import confusion_matrix\n",
        "print(confusion_matrix(y_test, y_pred))"
      ],
      "execution_count": null,
      "outputs": [
        {
          "output_type": "stream",
          "text": [
            "0.5043075497915702\n",
            "              precision    recall  f1-score   support\n",
            "\n",
            "           0       0.50      0.67      0.57      5360\n",
            "           1       0.51      0.34      0.41      5435\n",
            "\n",
            "    accuracy                           0.50     10795\n",
            "   macro avg       0.51      0.51      0.49     10795\n",
            "weighted avg       0.51      0.50      0.49     10795\n",
            "\n",
            "[[3583 1777]\n",
            " [3574 1861]]\n"
          ],
          "name": "stdout"
        }
      ]
    },
    {
      "cell_type": "code",
      "metadata": {
        "id": "9u9kWZ1EgtiN",
        "colab_type": "code",
        "colab": {}
      },
      "source": [
        ""
      ],
      "execution_count": null,
      "outputs": []
    },
    {
      "cell_type": "markdown",
      "metadata": {
        "id": "k93fj3_Pdgia",
        "colab_type": "text"
      },
      "source": [
        "# Dealing with Ram"
      ]
    },
    {
      "cell_type": "code",
      "metadata": {
        "id": "ezt29ChEkyds",
        "colab_type": "code",
        "colab": {},
        "outputId": "bb7d5400-a2a3-48e9-e213-06f1142c27be"
      },
      "source": [
        "\n",
        "import sys\n",
        "\n",
        "# These are the usual ipython objects, including this one you are creating\n",
        "ipython_vars = ['In', 'Out', 'exit', 'quit', 'get_ipython', 'ipython_vars']\n",
        "\n",
        "# Get a sorted list of the objects and their sizes\n",
        "sorted([(x, sys.getsizeof(globals().get(x))) for x in dir() if not x.startswith('_') and x not in sys.modules and x not in ipython_vars], key=lambda x: x[1], reverse=True)\n",
        "\n",
        "#say a data frame is taking up a lot and it happens to be one you don't need anymore you can do:\n",
        "#del df"
      ],
      "execution_count": null,
      "outputs": [
        {
          "output_type": "execute_result",
          "data": {
            "text/plain": [
              "[('dfF', 2602606480),\n",
              " ('df', 1542050435),\n",
              " ('dfFT', 1007882019),\n",
              " ('df_test', 507999370),\n",
              " ('dfF1', 216740560),\n",
              " ('X', 204255024),\n",
              " ('ohe_df', 140135216),\n",
              " ('transformed', 140135184),\n",
              " ('X_train', 129849528),\n",
              " ('dfFT1', 111647668),\n",
              " ('y', 66914128),\n",
              " ('X_test', 32462472),\n",
              " ('y_train', 19976864),\n",
              " ('df_dummy', 16514044),\n",
              " ('y_test', 4994240),\n",
              " ('y_pred', 2497208),\n",
              " ('airports', 3072),\n",
              " ('RandomForestRegressor', 2008),\n",
              " ('missing_data', 1369),\n",
              " ('percent', 1265),\n",
              " ('total', 1265),\n",
              " ('LabelBinarizer', 1192),\n",
              " ('OneHotEncoder', 1192),\n",
              " ('hour_to_daysection', 1176),\n",
              " ('LabelEncoder', 1064),\n",
              " ('MultiColumnLabelEncoder', 1064),\n",
              " ('Pipeline', 1064),\n",
              " ('fruit_data', 672),\n",
              " ('month_to_season', 640),\n",
              " ('defaultdict', 416),\n",
              " ('mean_absolute_error', 136),\n",
              " ('mean_squared_error', 136),\n",
              " ('r2_score', 136),\n",
              " ('train_test_split', 136),\n",
              " ('delaytypes', 96),\n",
              " ('bins', 88),\n",
              " ('labels', 80),\n",
              " ('np', 72),\n",
              " ('pd', 72),\n",
              " ('preprocessing', 72),\n",
              " ('c', 69),\n",
              " ('delay', 68),\n",
              " ('path', 63),\n",
              " ('carrier_encoder', 48),\n",
              " ('carrier_le', 48),\n",
              " ('city_le', 48),\n",
              " ('enc', 48),\n",
              " ('le', 48),\n",
              " ('regr', 48)]"
            ]
          },
          "metadata": {
            "tags": []
          },
          "execution_count": 710
        }
      ]
    },
    {
      "cell_type": "code",
      "metadata": {
        "id": "DFxSoda4kydt",
        "colab_type": "code",
        "colab": {}
      },
      "source": [
        "del dfF_encodertest\n",
        "del dfF_encoded\n",
        "del df_test\n",
        "del dfF1"
      ],
      "execution_count": null,
      "outputs": []
    },
    {
      "cell_type": "code",
      "metadata": {
        "id": "Ndv2Ip8kkydu",
        "colab_type": "code",
        "colab": {}
      },
      "source": [
        ""
      ],
      "execution_count": null,
      "outputs": []
    },
    {
      "cell_type": "code",
      "metadata": {
        "id": "WralK5IEC_EN",
        "colab_type": "code",
        "colab": {}
      },
      "source": [
        ""
      ],
      "execution_count": null,
      "outputs": []
    }
  ]
}